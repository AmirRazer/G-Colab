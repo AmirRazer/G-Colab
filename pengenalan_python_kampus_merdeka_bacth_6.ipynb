{
  "nbformat": 4,
  "nbformat_minor": 0,
  "metadata": {
    "colab": {
      "provenance": [],
      "gpuType": "T4",
      "authorship_tag": "ABX9TyMWI/esH1bK4rMLoUCgndF2",
      "include_colab_link": true
    },
    "kernelspec": {
      "name": "python3",
      "display_name": "Python 3"
    },
    "language_info": {
      "name": "python"
    },
    "accelerator": "GPU"
  },
  "cells": [
    {
      "cell_type": "markdown",
      "metadata": {
        "id": "view-in-github",
        "colab_type": "text"
      },
      "source": [
        "<a href=\"https://colab.research.google.com/github/AmirRazer/G-Colab/blob/main/pengenalan_python_kampus_merdeka_bacth_6.ipynb\" target=\"_parent\"><img src=\"https://colab.research.google.com/assets/colab-badge.svg\" alt=\"Open In Colab\"/></a>"
      ]
    },
    {
      "cell_type": "markdown",
      "source": [
        "#Day 1"
      ],
      "metadata": {
        "id": "8sn7im1qbp5R"
      }
    },
    {
      "cell_type": "markdown",
      "source": [],
      "metadata": {
        "id": "99veX-DQchZr"
      }
    },
    {
      "cell_type": "markdown",
      "source": [
        "##lestPractic\n",
        "Hari ini kita akan belajar mengenai tipe data di python\n"
      ],
      "metadata": {
        "id": "5MIc0JfacOe8"
      }
    },
    {
      "cell_type": "markdown",
      "source": [
        "### Data Types Python\n",
        "\n",
        "    > Text Type:\tstr\n",
        "    > Numeric Types:\tint, float, complex\n",
        "    > Sequence Types:\tlist, tuple, set, range\n",
        "    > Mapping Type:\tdict\n",
        "    > Set Types:\tset, frozenset\n",
        "    > Boolean Type:\tbool\n",
        "    > Binary Types:\tbytes, bytearray, memoryview\n",
        "    > None Type:\tNoneType\n",
        "\n",
        "    "
      ],
      "metadata": {
        "id": "pl3Jd5S4ckRn"
      }
    },
    {
      "cell_type": "markdown",
      "source": [
        "### Variable\n",
        "\n",
        "- Variables are containers for storing data values.\n",
        "- Python has no command for declaring a variable."
      ],
      "metadata": {
        "id": "heJlKVE8dZMD"
      }
    },
    {
      "cell_type": "markdown",
      "source": [],
      "metadata": {
        "id": "9Ewantq5ddhP"
      }
    },
    {
      "cell_type": "markdown",
      "source": [
        "|Example|Data Type|\n",
        "|:-|-:|\n",
        "|x = \"Halo! Teman-teman\"|str|\n",
        "|x = 22|int|\n",
        "|x = 4.5|float|\n",
        "|x = 1j|complex|\n",
        "|x = [\"alpukat\", \"durian\", \"mangga\"]|list|\n",
        "|x = (\"alpukat\", \"durian\", \"mangga\")|tuple|\n",
        "|x = range(5)|range|\n",
        "|x = {\"nama\" : \"Angga\", \"Jurusan\" : \"Matematika\"}|dict|\n",
        "|x = {\"alupkat\", \"durian\", \"mangga\"}|set|\n",
        "|x = frozenset({\"alpukat\", \"durian\", \"mangga\"})|frozenset|\n",
        "|x = False/True|bool|\n",
        "|x = b\"Halo\"|bytes|\n",
        "|x = bytearray(4)|bytearray|\n",
        "|x = memoryview(bytes(4))|memoryview|\n",
        "|x = None|NoneType|\n"
      ],
      "metadata": {
        "id": "_YoKyf2Ydc1Y"
      }
    },
    {
      "cell_type": "markdown",
      "source": [
        "### Python Assignment Operators\n",
        "`Assignment operators are used to assign values to variables:`\n",
        "\n",
        "|Operator|\tExample|\tSame As|\n",
        "|:-|:-|-:|\n",
        "|=|\tx = 5|\tx = 5|\n",
        "|+=|\tx += 3|\tx = x + 3|\n",
        "|-=|\tx -= 3|\tx = x - 3|\n",
        "|*=|\tx *= 3|\tx = x * 3|\n",
        "|/=|\tx /= 3|\tx = x / 3|\n",
        "|%=|\tx %= 3|\tx = x % 3|\n",
        "|//=|\tx //= 3|\tx = x // 3|\n",
        "|**=|\tx **= 3|\tx = x ** 3|\n",
        "|&=|\tx &= 3|\tx = x & 3|\n",
        "|^=|\tx ^= 3|\tx = x ^ 3|\n",
        "|>>=|\tx >>= 3|\tx = x >> 3|\n",
        "|<<=|\tx <<= 3|\tx = x << 3|"
      ],
      "metadata": {
        "id": "qeKE9DwMdtXf"
      }
    },
    {
      "cell_type": "code",
      "source": [
        "#example of variablle\n",
        "#example of using print with smicolon(;)\n",
        "\n",
        "x = 22\n",
        "y = \"Hello world\"\n",
        "z =4,56\n",
        "\n",
        "print(x)\n",
        "print(y)\n",
        "print(z)\n",
        "print(x),print(y),print(z)\n",
        "\n"
      ],
      "metadata": {
        "colab": {
          "base_uri": "https://localhost:8080/"
        },
        "id": "GNyEXT0peiSS",
        "outputId": "d85a092e-d9a2-4a7a-e02c-912781842c20"
      },
      "execution_count": null,
      "outputs": [
        {
          "output_type": "stream",
          "name": "stdout",
          "text": [
            "22\n",
            "Hello world\n",
            "(4, 56)\n",
            "22\n",
            "Hello world\n",
            "(4, 56)\n"
          ]
        },
        {
          "output_type": "execute_result",
          "data": {
            "text/plain": [
              "(None, None, None)"
            ]
          },
          "metadata": {},
          "execution_count": 1
        }
      ]
    },
    {
      "cell_type": "code",
      "source": [
        "#example of declare variable with coma(,)\n",
        "#Example of using print with comma (,)\n",
        "a,b =20,\"hello\"\n",
        "\n",
        "print(a)\n",
        "print(b)\n",
        "print(type(a),type(b)) #cara cek tipe data"
      ],
      "metadata": {
        "colab": {
          "base_uri": "https://localhost:8080/"
        },
        "id": "U6g2fQlhgWSD",
        "outputId": "e252734e-84fe-47ad-9931-f8e3dc4b96bf"
      },
      "execution_count": null,
      "outputs": [
        {
          "output_type": "stream",
          "name": "stdout",
          "text": [
            "20\n",
            "hello\n",
            "<class 'int'> <class 'str'>\n"
          ]
        }
      ]
    },
    {
      "cell_type": "code",
      "source": [
        "x = '\"amir\"'\n",
        "\n",
        "print(x)\n",
        "print(type(x))"
      ],
      "metadata": {
        "colab": {
          "base_uri": "https://localhost:8080/"
        },
        "id": "rIYUcFOrgWHK",
        "outputId": "3380c970-0250-4a8d-9fcc-360ece64b8c9"
      },
      "execution_count": null,
      "outputs": [
        {
          "output_type": "stream",
          "name": "stdout",
          "text": [
            "\"amir\"\n",
            "<class 'str'>\n"
          ]
        }
      ]
    },
    {
      "cell_type": "code",
      "source": [
        "r=s=t= \"Amir mahmud\" #penyamaan 1 object dengan variabel\n",
        "print(s)"
      ],
      "metadata": {
        "id": "Qja8d-Pmh_1J",
        "colab": {
          "base_uri": "https://localhost:8080/"
        },
        "outputId": "4acc7169-1b54-4171-88ab-e2d9c48bf001"
      },
      "execution_count": null,
      "outputs": [
        {
          "output_type": "stream",
          "name": "stdout",
          "text": [
            "Amir mahmud\n"
          ]
        }
      ]
    },
    {
      "cell_type": "code",
      "source": [
        "a,b,c,d,e,f=\"python\" # baca perkarakter\n",
        "print(a,b)\n",
        "print(e,f)"
      ],
      "metadata": {
        "colab": {
          "base_uri": "https://localhost:8080/"
        },
        "id": "zKohLGY-iHId",
        "outputId": "50a71f25-4e06-453d-a330-71e847c99f78"
      },
      "execution_count": null,
      "outputs": [
        {
          "output_type": "stream",
          "name": "stdout",
          "text": [
            "p y\n",
            "o n\n"
          ]
        }
      ]
    },
    {
      "cell_type": "code",
      "source": [
        "m=str(4) #maka 4 sebagai '4'\n",
        "n=int(4) #maka 4 sebagai integer\n",
        "o=float(4) #angka 4 sebagai 4.0\n",
        "\n",
        "print(type(m));print(type(n));print(type(o));\n",
        "\n"
      ],
      "metadata": {
        "colab": {
          "base_uri": "https://localhost:8080/"
        },
        "id": "PAHxnkNJiZsc",
        "outputId": "91f219e8-2a55-463c-cc44-7069333ed3d5"
      },
      "execution_count": null,
      "outputs": [
        {
          "output_type": "stream",
          "name": "stdout",
          "text": [
            "<class 'str'>\n",
            "<class 'int'>\n",
            "<class 'float'>\n"
          ]
        }
      ]
    },
    {
      "cell_type": "markdown",
      "source": [],
      "metadata": {
        "id": "6iqRoXQYJhA5"
      }
    },
    {
      "cell_type": "markdown",
      "source": [
        "##hands on\n"
      ],
      "metadata": {
        "id": "cjC_P5txJiwq"
      }
    },
    {
      "cell_type": "code",
      "source": [
        "\n",
        "\n",
        "x = 1\n",
        " # hardcode your test data here\n",
        "x = float(x)\n",
        "\n",
        "# Calculate the equation\n",
        "y = 3*x**3 - 2*x**2 + 3*x - 1\n",
        "\n",
        "print(\"y =\", y)\n"
      ],
      "metadata": {
        "colab": {
          "base_uri": "https://localhost:8080/"
        },
        "id": "7NNxj6NOJldu",
        "outputId": "0a48868d-5866-4868-c56e-1a4e5e390e2c"
      },
      "execution_count": null,
      "outputs": [
        {
          "output_type": "stream",
          "name": "stdout",
          "text": [
            "y = 3.0\n"
          ]
        }
      ]
    },
    {
      "cell_type": "code",
      "source": [
        "x = 0\n",
        "x = 1\n",
        "x = -1\n",
        "print(x)"
      ],
      "metadata": {
        "colab": {
          "base_uri": "https://localhost:8080/"
        },
        "id": "iTRsVWOFLIJg",
        "outputId": "fe01994f-d18c-4a49-e9a2-3e2f2cf758c1"
      },
      "execution_count": null,
      "outputs": [
        {
          "output_type": "stream",
          "name": "stdout",
          "text": [
            "-1\n"
          ]
        }
      ]
    },
    {
      "cell_type": "code",
      "source": [],
      "metadata": {
        "id": "ORScMXWFbx4B"
      },
      "execution_count": null,
      "outputs": []
    },
    {
      "cell_type": "markdown",
      "source": [
        "#Day 2 rabu-20-03-2024\n"
      ],
      "metadata": {
        "id": "jhkVXZe_bzuQ"
      }
    },
    {
      "cell_type": "markdown",
      "source": [
        "##Matrikulasi\n"
      ],
      "metadata": {
        "id": "YhWtmHRWZO8l"
      }
    },
    {
      "cell_type": "code",
      "source": [
        "for i in range(3):\n",
        "  print(i)"
      ],
      "metadata": {
        "colab": {
          "base_uri": "https://localhost:8080/"
        },
        "id": "x8vMWUyTZSZa",
        "outputId": "b0a65244-ef4d-40dc-bcaa-ca5cbd62dbc5"
      },
      "execution_count": null,
      "outputs": [
        {
          "output_type": "stream",
          "name": "stdout",
          "text": [
            "0\n",
            "1\n",
            "2\n"
          ]
        }
      ]
    },
    {
      "cell_type": "code",
      "source": [],
      "metadata": {
        "id": "f1ervuHnZsc6"
      },
      "execution_count": null,
      "outputs": []
    },
    {
      "cell_type": "markdown",
      "source": [
        "##Lest Practic"
      ],
      "metadata": {
        "id": "Bw6ZLHLdb27f"
      }
    },
    {
      "cell_type": "markdown",
      "source": [
        "### Range In python"
      ],
      "metadata": {
        "id": "woMKYl7ub7aI"
      }
    },
    {
      "cell_type": "code",
      "source": [
        "x=range(6) #0<= x<6\n",
        "print(x)\n",
        "for n in x:\n",
        "  print(n)"
      ],
      "metadata": {
        "colab": {
          "base_uri": "https://localhost:8080/"
        },
        "id": "8DxZ0tJ4cH3J",
        "outputId": "27da78aa-5d04-4ef7-8bf2-1dc473781914"
      },
      "execution_count": null,
      "outputs": [
        {
          "output_type": "stream",
          "name": "stdout",
          "text": [
            "range(0, 6)\n",
            "0\n",
            "1\n",
            "2\n",
            "3\n",
            "4\n",
            "5\n"
          ]
        }
      ]
    },
    {
      "cell_type": "markdown",
      "source": [
        "***range(n) := 0 <= x < n*** <br>\n",
        "for example: range(5) means 0 <= x < 5"
      ],
      "metadata": {
        "id": "Il_heqthdMAw"
      }
    },
    {
      "cell_type": "markdown",
      "source": [
        "#### Syntax function range\n",
        "`range(start, stop, step)` -> syntax Range, default step 1 if not define"
      ],
      "metadata": {
        "id": "aaYlW1eGdbkI"
      }
    },
    {
      "cell_type": "code",
      "source": [
        "x = range(1,10,2)\n",
        "for n in x:\n",
        "  print(n)"
      ],
      "metadata": {
        "colab": {
          "base_uri": "https://localhost:8080/"
        },
        "id": "D6EL4nf0dN5L",
        "outputId": "ca6b974b-8fb4-4ada-ca53-a8495c3768de"
      },
      "execution_count": null,
      "outputs": [
        {
          "output_type": "stream",
          "name": "stdout",
          "text": [
            "1\n",
            "3\n",
            "5\n",
            "7\n",
            "9\n"
          ]
        }
      ]
    },
    {
      "cell_type": "markdown",
      "source": [
        "- ***INT*** or integer, is a whole number, positive or negative, without decimals, of unlimited length.\n",
        "\n",
        "- ***FLOAT*** or \"floating point number\" is a number, positive or negative, containing one or more decimals.\n",
        "\n",
        "- ***COMPLEX*** numbers are written with a \"j\" as the imaginary part"
      ],
      "metadata": {
        "id": "kqD-7KB1euNg"
      }
    },
    {
      "cell_type": "code",
      "source": [
        "a = 100 #a adalah integer\n",
        "b = 13.8976 #b adalah bilangan desimal\n",
        "c =5j #c adalah bilangan kompleks\n",
        "\n",
        "print(a,type(a))\n",
        "print(b,type(b))\n",
        "print(c,type(c))\n"
      ],
      "metadata": {
        "colab": {
          "base_uri": "https://localhost:8080/"
        },
        "id": "IBeMG4Qie1bL",
        "outputId": "70c9c2c2-95ac-46f6-cffe-91528fb99df1"
      },
      "execution_count": null,
      "outputs": [
        {
          "output_type": "stream",
          "name": "stdout",
          "text": [
            "100 <class 'int'>\n",
            "13.8976 <class 'float'>\n",
            "5j <class 'complex'>\n"
          ]
        }
      ]
    },
    {
      "cell_type": "code",
      "source": [
        "x = 10 #integer\n",
        "y = 15.5 #float\n",
        "\n",
        "#konvert/casting dari integer ke float\n",
        "p = float(x)\n",
        "\n",
        "#Konvert/casting dari float ke integer\n",
        "q=int(y)\n",
        "\n",
        "r= complex(x)\n",
        "\n",
        "print(\"ini adalah x\",x,\"dengan type\",type(x))\n",
        "print(\"ini adalah y\",y,\"dengan type\",type(y))\n",
        "print(\"ini adalah p\",p,\"dengan type\",type(p))\n",
        "print(\"ini adalah q\",q,\"dengan type\",type(q))\n",
        "print(\"ini adalah r\",r,\"dengan type\",type(r))\n",
        "\n"
      ],
      "metadata": {
        "colab": {
          "base_uri": "https://localhost:8080/"
        },
        "id": "EO0Gi-F7gYKo",
        "outputId": "97606f5b-1645-40e1-9dcb-5a40c1e33c62"
      },
      "execution_count": null,
      "outputs": [
        {
          "output_type": "stream",
          "name": "stdout",
          "text": [
            "ini adalah x 10 dengan type <class 'int'>\n",
            "ini adalah y 15.5 dengan type <class 'float'>\n",
            "ini adalah p 10.0 dengan type <class 'float'>\n",
            "ini adalah q 15 dengan type <class 'int'>\n",
            "ini adalah r (10+0j) dengan type <class 'complex'>\n"
          ]
        }
      ]
    },
    {
      "cell_type": "markdown",
      "source": [
        "### python aritmatic operator\n",
        "|Example|Data Type|\n",
        "|:-|-:|\n",
        "|x = \"Halo! Teman-teman\"|str|\n",
        "|x = 22|int|\n",
        "|x = 4.5|float|\n",
        "|x = 1j|complex|\n",
        "|x = [\"alpukat\", \"durian\", \"mangga\"]|list|\n",
        "|x = (\"alpukat\", \"durian\", \"mangga\")|tuple|\n",
        "|x = range(5)|range|\n",
        "|x = {\"nama\" : \"Angga\", \"Jurusan\" : \"Matematika\"}|dict|\n",
        "|x = {\"alupkat\", \"durian\", \"mangga\"}|set|\n",
        "|x = frozenset({\"alpukat\", \"durian\", \"mangga\"})|frozenset|\n",
        "|x = False/True|bool|\n",
        "|x = b\"Halo\"|bytes|\n",
        "|x = bytearray(4)|bytearray|\n",
        "|x = memoryview(bytes(4))|memoryview|\n",
        "|x = None|NoneType|\n"
      ],
      "metadata": {
        "id": "iz_awUWuichn"
      }
    },
    {
      "cell_type": "markdown",
      "source": [
        "`Arithmetic operators are used with numeric values to perform common mathematical operations`\n",
        "|Operator|\tName|\tExample|\n",
        "|:-|:-|-:|\n",
        "|+|\tAddition|\tx + y|\n",
        "|-|\tSubtraction|\tx - y|\n",
        "|*|\tMultiplication|\tx * y|\n",
        "|/|\tDivision|\tx / y|\n",
        "|%|\tModulus|\tx % y|\n",
        "|**|\tExponentiation|\tx ** y|\n",
        "|//|\tFloor division|\tx // y|"
      ],
      "metadata": {
        "id": "R6Q3Mj0Ei8fN"
      }
    },
    {
      "cell_type": "markdown",
      "source": [],
      "metadata": {
        "id": "TPu-ZYAajFr-"
      }
    },
    {
      "cell_type": "code",
      "source": [
        "x= 6 ; y =20\n",
        "print(\"Adidition\",x+y)\n",
        "print(\"Subtraction\",x-y)\n",
        "print(\"Multiplication\",x*y)\n",
        "print(\"Division\",x/y)\n",
        "print(\"Modulus\",x%y)\n",
        "print(\"Exponettion\",x**y)#pangkat\n",
        "print(\"Flor Division\",x//y)#pembagian dengan pembulatan\n",
        "\n"
      ],
      "metadata": {
        "colab": {
          "base_uri": "https://localhost:8080/"
        },
        "id": "nhkHplq1i2yq",
        "outputId": "33115099-fe59-4e59-b137-f59f7f42bc77"
      },
      "execution_count": null,
      "outputs": [
        {
          "output_type": "stream",
          "name": "stdout",
          "text": [
            "Adidition 26\n",
            "Subtraction -14\n",
            "Multiplication 120\n",
            "Division 0.3\n",
            "Modulus 6\n",
            "Exponettion 3656158440062976\n",
            "Flor Division 0\n"
          ]
        }
      ]
    },
    {
      "cell_type": "markdown",
      "source": [
        "###python asigment operaor\n",
        "|Operator|\tExample|\tSame As|\n",
        "|:-|:-|-:|\n",
        "|=|\tx = 5|\tx = 5|\n",
        "|+=|\tx += 3|\tx = x + 3|\n",
        "|-=|\tx -= 3|\tx = x - 3|\n",
        "|*=|\tx *= 3|\tx = x * 3|\n",
        "|/=|\tx /= 3|\tx = x / 3|\n",
        "|%=|\tx %= 3|\tx = x % 3|\n",
        "|//=|\tx //= 3|\tx = x // 3|\n",
        "|**=|\tx **= 3|\tx = x ** 3|\n",
        "|&=|\tx &= 3|\tx = x & 3|\n",
        "|^=|\tx ^= 3|\tx = x ^ 3|\n",
        "|>>=|\tx >>= 3|\tx = x >> 3|\n",
        "|<<=|\tx <<= 3|\tx = x << 3|"
      ],
      "metadata": {
        "id": "muesyHTBky0E"
      }
    },
    {
      "cell_type": "code",
      "source": [
        "#Membuat paragraf\n",
        "paragraf = '''Lorem ipsum dolor sit amet,\n",
        "consectetur adipiscing elit,\n",
        "sed do eiusmod tempor incididunt\n",
        "ut labore et dolore magna aliqua.'''\n",
        "print(paragraf)"
      ],
      "metadata": {
        "colab": {
          "base_uri": "https://localhost:8080/"
        },
        "id": "SvpMIYG3k-YN",
        "outputId": "fd916cd4-0c88-4adf-fd0f-23000ed072ea"
      },
      "execution_count": null,
      "outputs": [
        {
          "output_type": "stream",
          "name": "stdout",
          "text": [
            "Lorem ipsum dolor sit amet,\n",
            "consectetur adipiscing elit,\n",
            "sed do eiusmod tempor incididunt\n",
            "ut labore et dolore magna aliqua.\n"
          ]
        }
      ]
    },
    {
      "cell_type": "code",
      "source": [
        "nama=\"Arya\"\n",
        "\n",
        "print(nama[1:3])#titik dua disini mendifisikan sebagai range"
      ],
      "metadata": {
        "id": "d6kuEmPFp3yN",
        "colab": {
          "base_uri": "https://localhost:8080/"
        },
        "outputId": "cec300be-d940-4c72-e297-f37b19690136"
      },
      "execution_count": null,
      "outputs": [
        {
          "output_type": "stream",
          "name": "stdout",
          "text": [
            "ry\n"
          ]
        }
      ]
    },
    {
      "cell_type": "code",
      "source": [
        "data=\"Latihan Python\"\n",
        "nilai = \"75\"\n",
        "spasi= \"\"\n",
        "nama='amir'\n",
        "nilai1 = 555\n",
        "\n",
        "print(data.isnumeric())#cek apakah tipe data numeric pada string\n",
        "print(nilai.isnumeric())#cek apakah tipe nilai numeric pada string\n",
        "print(data)\n",
        "\n"
      ],
      "metadata": {
        "colab": {
          "base_uri": "https://localhost:8080/"
        },
        "id": "7giNuqWZw11Y",
        "outputId": "ce410e81-b284-409d-9013-c1984b079301"
      },
      "execution_count": null,
      "outputs": [
        {
          "output_type": "stream",
          "name": "stdout",
          "text": [
            "False\n",
            "True\n",
            "Latihan Python\n"
          ]
        }
      ]
    },
    {
      "cell_type": "code",
      "source": [
        "variabel = \"Training Python\"\n",
        "print(variabel.find(\"n\"))\n",
        "print(variabel.find(\"n\",7))"
      ],
      "metadata": {
        "colab": {
          "base_uri": "https://localhost:8080/"
        },
        "id": "4fr_Q1aRxqx5",
        "outputId": "9c8629d0-4531-4503-cdac-adcb6f06f60c"
      },
      "execution_count": null,
      "outputs": [
        {
          "output_type": "stream",
          "name": "stdout",
          "text": [
            "4\n",
            "14\n"
          ]
        }
      ]
    },
    {
      "cell_type": "code",
      "source": [
        "number=\"123\"\n",
        "number1=\"ab\"\n",
        "\n",
        "print(number.zfill(10))#membuat karakter dengan length 10\n",
        "print(number1.zfill(5))#membuat karakter dengan length 5"
      ],
      "metadata": {
        "colab": {
          "base_uri": "https://localhost:8080/"
        },
        "id": "CzeGK5vCyn5z",
        "outputId": "e4d24c73-959c-45f8-97aa-a6f23aae1e71"
      },
      "execution_count": null,
      "outputs": [
        {
          "output_type": "stream",
          "name": "stdout",
          "text": [
            "0000000123\n",
            "000ab\n"
          ]
        }
      ]
    },
    {
      "cell_type": "code",
      "source": [
        "titile=\"latihan\"\n",
        "title1=\"training\"\n",
        "\n",
        "print(titile.center(10,\"-\"))\n",
        "print(title1.center(10,\"-\"))\n",
        "print(titile.replace('a','x'))#menganti karakter"
      ],
      "metadata": {
        "colab": {
          "base_uri": "https://localhost:8080/"
        },
        "id": "FnivbOxtzyDr",
        "outputId": "d6bdc619-e497-448b-990c-5cccb3f6c924"
      },
      "execution_count": null,
      "outputs": [
        {
          "output_type": "stream",
          "name": "stdout",
          "text": [
            "-latihan--\n",
            "-training-\n",
            "lxtihxn\n"
          ]
        }
      ]
    },
    {
      "cell_type": "markdown",
      "source": [
        "##Matrikulasi"
      ],
      "metadata": {
        "id": "wshuhizOZuwR"
      }
    },
    {
      "cell_type": "code",
      "source": [
        "a = 'PYTHON'\n",
        "for i in range(len(a)):\n",
        "  print(i,a[i])"
      ],
      "metadata": {
        "colab": {
          "base_uri": "https://localhost:8080/"
        },
        "id": "SKlKdrgOZxwX",
        "outputId": "e57248cf-272a-473b-8ceb-4c2aa78e4260"
      },
      "execution_count": null,
      "outputs": [
        {
          "output_type": "stream",
          "name": "stdout",
          "text": [
            "0 P\n",
            "1 Y\n",
            "2 T\n",
            "3 H\n",
            "4 O\n",
            "5 N\n"
          ]
        }
      ]
    },
    {
      "cell_type": "code",
      "source": [
        "for i in range(3):\n",
        "  print(f\"Outer loop {i}\")\n",
        "  for j in range(2):\n",
        "    print(f\"Inner loop{j}\")"
      ],
      "metadata": {
        "colab": {
          "base_uri": "https://localhost:8080/"
        },
        "id": "3VZ0s1ACaNfc",
        "outputId": "1b78f5b0-65e5-4e7e-fa8c-0e418555a548"
      },
      "execution_count": null,
      "outputs": [
        {
          "output_type": "stream",
          "name": "stdout",
          "text": [
            "Outer loop 0\n",
            "Inner loop0\n",
            "Inner loop1\n",
            "Outer loop 1\n",
            "Inner loop0\n",
            "Inner loop1\n",
            "Outer loop 2\n",
            "Inner loop0\n",
            "Inner loop1\n"
          ]
        }
      ]
    },
    {
      "cell_type": "markdown",
      "source": [
        "### latihan 1\n",
        "### Latihan 1\n",
        "Tulis rumus ini dalam kode program:<br/> $c=\\sqrt{a^2+b^2}$\n",
        "\n",
        "carilah nilai C dengan nilai a = 3, dan b = 4"
      ],
      "metadata": {
        "id": "n4ftbReoa-h3"
      }
    },
    {
      "cell_type": "code",
      "source": [
        "def hitung_c(a, b):\n",
        "    c = (a**2 + b**2)**0.5\n",
        "    return c\n",
        "\n",
        "# Contoh penggunaan\n",
        "a = 3\n",
        "b = 4\n",
        "hasil = hitung_c(a, b)\n",
        "print(\"Nilai c adalah:\", hasil)\n",
        "\n",
        "#\n",
        "import math\n",
        "a = 3\n",
        "b = 4\n",
        "c = math.sqrt(a**2 + b**2)\n",
        "print(\"Nilai c adalah:\", c)\n",
        "\n",
        "a = 3\n",
        "b = 4\n",
        "c =  ((3 ** 2) + (4 ** 2)) ** 0.5\n",
        "print(c)"
      ],
      "metadata": {
        "colab": {
          "base_uri": "https://localhost:8080/"
        },
        "id": "-q_2Eu-sbAyM",
        "outputId": "4f3c3544-b8a1-4ff0-a4bd-38ee5fe9c12c"
      },
      "execution_count": null,
      "outputs": [
        {
          "output_type": "stream",
          "name": "stdout",
          "text": [
            "Nilai c adalah: 5.0\n",
            "Nilai c adalah: 5.0\n",
            "5.0\n"
          ]
        }
      ]
    },
    {
      "cell_type": "markdown",
      "source": [
        "### Latiihan 2\n",
        "\n",
        "<b>Cerita Pendek:</b>\n",
        "\n",
        "Suatu waktu di kebun apel, Guntur memiliki 3 apel, Icha memiliki 5 apel dan Ratna memiliki 6 Apel. mereka sangat bahagia dan hidup lama. selesai.\n",
        "\n",
        "Tugas Anda\n",
        "- buat variabe : `Guntur`, `Icha` dan `Ratna`\n",
        "- isi nilai sesuai dengan jumlah apel yang mereka miliki\n",
        "- cetak nama variabel dan jumlah apel setiap variabel dalam 1 baris, pisahkan dengan koma\n",
        "- buat variabel baru dengan nama `totalApel` yang berisi penjumlahan seluruh apel yang mereka miliki\n",
        "- coba otak atik code dengan membuat variable baru, diisi dengan nilai lain, dan dihitung dengan operator aritmetik lainnya"
      ],
      "metadata": {
        "id": "oDnLzGHZdCcd"
      }
    },
    {
      "cell_type": "code",
      "source": [
        "Guntur = 3\n",
        "Icha = 5\n",
        "Ratna = 6\n",
        "print (Guntur, Icha, Ratna)\n",
        "total = Guntur + Icha + Ratna\n",
        "print(total)"
      ],
      "metadata": {
        "id": "eJnnAXUndEb-",
        "colab": {
          "base_uri": "https://localhost:8080/"
        },
        "outputId": "7c76bb82-09c7-437c-9af0-0615aaa2fcaf"
      },
      "execution_count": null,
      "outputs": [
        {
          "output_type": "stream",
          "name": "stdout",
          "text": [
            "3 5 6\n",
            "14\n"
          ]
        }
      ]
    },
    {
      "cell_type": "markdown",
      "source": [
        "### Latihan 3\n",
        "\n",
        "Mil dan kilometer adalah satuan panjang\n",
        "\n",
        "1 mil memiliki panjang sekitar 1.61 kilometer, buatlah program konversi di bawah ini\n",
        "- mil ke kilometer;\n",
        "- kilometer to mil.\n",
        "jangan ganti apapun terhadap kode yang sudah ada. tulis kodemu pada tanda ###, kemudian hapus tanda tersebut. Uji kode Anda dengan data yang kami sajikan dalam source code\n"
      ],
      "metadata": {
        "id": "XLwlAFBpdJTM"
      }
    },
    {
      "cell_type": "code",
      "source": [
        "kilometer = 12.25\n",
        "mil = 7.38\n",
        "# Konversi mil ke kilometer\n",
        "mil_ke_kilometer = mil * 1.61\n",
        "\n",
        "# Konversi kilometer ke mil\n",
        "kilometer_ke_mil = kilometer / 1.61\n",
        "\n",
        "print(mil, \"1 mil adalah\", round(mil_ke_kilometer, 2), \"kilometer\")\n",
        "print(kilometer, \"1 kilometer adalah\", round(kilometer_ke_mil, 2), \"mil\")"
      ],
      "metadata": {
        "colab": {
          "base_uri": "https://localhost:8080/"
        },
        "id": "ArCuW9-6d-Ur",
        "outputId": "6d98e714-e028-4988-f61d-cbf4ab39f31c"
      },
      "execution_count": null,
      "outputs": [
        {
          "output_type": "stream",
          "name": "stdout",
          "text": [
            "7.38 1 mil adalah 11.88 kilometer\n",
            "12.25 1 kilometer adalah 7.61 mil\n"
          ]
        }
      ]
    },
    {
      "cell_type": "markdown",
      "source": [
        "### Latihan 4\n",
        "Kerjakan rumus berikut:\n",
        "\n",
        "$$\\frac{1}{x+\\frac{1}{x+\\frac{1}{x+\\frac{1}{x}}}}$$\n",
        "\n",
        "input/output yang diharapkan\n",
        "```python\n",
        "x = 1\n",
        "y = 0.6000000000000001\n",
        "\n",
        "x = 10\n",
        "y = 0.09901951266867294"
      ],
      "metadata": {
        "id": "ONMfiULtfTBt"
      }
    },
    {
      "cell_type": "code",
      "source": [
        "# Fungsi untuk menghitung nilai dari rumus yang diberikan\n",
        "def hitung_rumus(x):\n",
        "    return 1 / (x + 1 / (x + 1 / (x + 1 / x)))\n",
        "\n",
        "# Test cases\n",
        "x = 1\n",
        "y = hitung_rumus(x)\n",
        "print(\"x =\", x)\n",
        "print(\"y =\", y)\n",
        "\n",
        "x = 10\n",
        "y = hitung_rumus(x)\n",
        "print(\"x =\", x)\n",
        "print(\"y =\", y)\n"
      ],
      "metadata": {
        "colab": {
          "base_uri": "https://localhost:8080/"
        },
        "id": "Tc3a0ln0fVZF",
        "outputId": "d4ae5605-1d4d-4349-f09d-6325a002e816"
      },
      "execution_count": null,
      "outputs": [
        {
          "output_type": "stream",
          "name": "stdout",
          "text": [
            "x = 1\n",
            "y = 0.6000000000000001\n",
            "x = 10\n",
            "y = 0.09901951266867294\n"
          ]
        }
      ]
    },
    {
      "cell_type": "markdown",
      "source": [],
      "metadata": {
        "id": "yOoWL509gpvS"
      }
    },
    {
      "cell_type": "code",
      "source": [
        "celcius = 25\n",
        "\n",
        "kelvin = celcius + 273.15\n",
        "print(\"Suhu di Jakarta saat ini dalam Kelvin:\", kelvin)\n",
        "\n",
        "fahrenheit = (celcius * 9/5) + 32\n",
        "print(\"Suhu di Jakarta saat ini dalam Fahrenheit:\", fahrenheit)\n",
        "\n",
        "reamur = celcius * 4/5\n",
        "print(\"Suhu di Jakarta saat ini dalam Reamur:\", reamur)"
      ],
      "metadata": {
        "colab": {
          "base_uri": "https://localhost:8080/"
        },
        "id": "DuSyU-UShbDQ",
        "outputId": "efb40ffd-3ae8-4afc-84e0-20f0ac960418"
      },
      "execution_count": null,
      "outputs": [
        {
          "output_type": "stream",
          "name": "stdout",
          "text": [
            "Suhu di Jakarta saat ini dalam Kelvin: 298.15\n",
            "Suhu di Jakarta saat ini dalam Fahrenheit: 77.0\n",
            "Suhu di Jakarta saat ini dalam Reamur: 20.0\n"
          ]
        }
      ]
    },
    {
      "cell_type": "code",
      "source": [
        "#salah\n",
        "detik = 753000\n",
        "\n",
        "jam = detik /24\n",
        "menit = jam / 60\n",
        "sisa_detik = menit/60\n",
        "\n",
        "print (detik,\"detik Dirubah ke konversi waktu\",jam,\"jam\",menit,\"menit\",sisa_detik,\"dettik\")"
      ],
      "metadata": {
        "colab": {
          "base_uri": "https://localhost:8080/"
        },
        "id": "pE2TMZ9ch009",
        "outputId": "5b3e0dda-8e93-4986-8055-a87292f93dc7"
      },
      "execution_count": null,
      "outputs": [
        {
          "output_type": "stream",
          "name": "stdout",
          "text": [
            "753000 detik Dirubah ke konversi waktu 31375.0 jam 522.9166666666666 menit 8.715277777777777 dettik\n"
          ]
        }
      ]
    },
    {
      "cell_type": "code",
      "source": [
        "detik = 753000\n",
        "\n",
        "jam = detik // 3600\n",
        "menit = detik // 60\n",
        "sisa_detik = detik % 60\n",
        "\n",
        "print(detik, \"detik Dirubah ke konversi waktu=\", jam, \" jam \", menit, \" menit\", sisa_detik, \" detik \")"
      ],
      "metadata": {
        "id": "6aE_uH1ljRnB",
        "colab": {
          "base_uri": "https://localhost:8080/"
        },
        "outputId": "b1dcb699-80a3-4a31-da7b-ebd796c529bc"
      },
      "execution_count": null,
      "outputs": [
        {
          "output_type": "stream",
          "name": "stdout",
          "text": [
            "753000 detik Dirubah ke konversi waktu= 209  jam  12550  menit 0  detik \n"
          ]
        }
      ]
    },
    {
      "cell_type": "markdown",
      "source": [
        "#day 3\n"
      ],
      "metadata": {
        "id": "BZDbNXrVoG68"
      }
    },
    {
      "cell_type": "code",
      "source": [
        "import string\n",
        "\n",
        "kode = 'aiueo'\n",
        "kode2 = '12345'\n",
        "kalimat='Latihan Pytho'\n",
        "transfrom=kalimat.maketrans(kode,kode2)\n",
        "print(kalimat)\n",
        "print(transfrom)\n",
        "print(kalimat.translate(transfrom))"
      ],
      "metadata": {
        "colab": {
          "base_uri": "https://localhost:8080/"
        },
        "id": "J8B7xPBqoJyi",
        "outputId": "e0271be3-48f7-4578-a800-dcda051677e9"
      },
      "execution_count": null,
      "outputs": [
        {
          "output_type": "stream",
          "name": "stdout",
          "text": [
            "Latihan Pytho\n",
            "{97: 49, 105: 50, 117: 51, 101: 52, 111: 53}\n",
            "L1t2h1n Pyth5\n"
          ]
        }
      ]
    },
    {
      "cell_type": "code",
      "source": [
        "usia = 21\n",
        "text = 'Nama saya Amir Mahmud, umur saya{}'\n",
        "print(text.format(usia))"
      ],
      "metadata": {
        "colab": {
          "base_uri": "https://localhost:8080/"
        },
        "id": "FD0hZoBhomiI",
        "outputId": "ec04bd3f-cf07-4104-ae15-10c75fb27d9b"
      },
      "execution_count": null,
      "outputs": [
        {
          "output_type": "stream",
          "name": "stdout",
          "text": [
            "Nama saya Amir Mahmud, umur saya21\n"
          ]
        }
      ]
    },
    {
      "cell_type": "code",
      "source": [
        "qty = 6\n",
        "produk_no=567\n",
        "harga=100000\n",
        "order='saya mamu membeli {} buah produk{} dengan harga{}'\n",
        "print(order.format(qty,produk_no,harga))"
      ],
      "metadata": {
        "colab": {
          "base_uri": "https://localhost:8080/"
        },
        "id": "ZZ8r5CKRo0sC",
        "outputId": "90ae46b9-179d-430b-8908-c4cf23c4feba"
      },
      "execution_count": null,
      "outputs": [
        {
          "output_type": "stream",
          "name": "stdout",
          "text": [
            "saya mamu membeli 6 buah produk567 dengan harga100000\n"
          ]
        }
      ]
    },
    {
      "cell_type": "code",
      "source": [
        "qty = 6\n",
        "produk_no=567\n",
        "harga=100000\n",
        "order='saya mamu membeli {2} buah produk{1} dengan harga{0}'\n",
        "print(order.format(harga,qty,produk_no))"
      ],
      "metadata": {
        "colab": {
          "base_uri": "https://localhost:8080/"
        },
        "id": "S342LkcapOf5",
        "outputId": "6c09f802-7ac6-4018-e9d6-94fc3338532c"
      },
      "execution_count": null,
      "outputs": [
        {
          "output_type": "stream",
          "name": "stdout",
          "text": [
            "saya mamu membeli 567 buah produk6 dengan harga100000\n"
          ]
        }
      ]
    },
    {
      "cell_type": "markdown",
      "source": [
        "## string method\n",
        "`Python has a set of built-in methods that you can use on strings.` <br>\n",
        "**Note:** All string methods return new values. They do not change the original string.\n",
        "\n",
        "    - capitalize():\tConverts the first character to upper case\n",
        "    - casefold():\tConverts string into lower case\n",
        "    - center():\tReturns a centered string\n",
        "    - count():\tReturns the number of times a specified value occurs in a string\n",
        "    - encode():\tReturns an encoded version of the string\n",
        "    - endswith():\tReturns true if the string ends with the specified value\n",
        "    - expandtabs():\tSets the tab size of the string\n",
        "    - find():\tSearches the string for a specified value and returns the position of where it was found\n",
        "    - format():\tFormats specified values in a string\n",
        "    - format_map():\tFormats specified values in a string\n",
        "    - index():\tSearches the string for a specified value and returns the position of where it was found`Python has a set of built-in methods that you can use on strings.` <br>\n",
        "\n",
        "    - capitalize():\tConverts the first character to upper case\n",
        "    - casefold():\tConverts string into lower case\n",
        "    - center():\tReturns a centered string\n",
        "    - count():\tReturns the number of times a specified value occurs in a string\n",
        "    - encode():\tReturns an encoded version of the string\n",
        "    - endswith():\tReturns true if the string ends with the specified value\n",
        "    - expandtabs():\tSets the tab size of the string\n",
        "    - find():\tSearches the string for a specified value and returns the position of where it was found\n",
        "    - format():\tFormats specified values in a string\n",
        "    - format_map():\tFormats specified values in a string\n",
        "    - index():\tSearches the string for a specified value and returns the position of where it was found\n",
        "    - isalnum():\tReturns True if all characters in the string are alphanumeric\n",
        "    - isalpha():\tReturns True if all characters in the string are in the alphabet\n",
        "    - isdecimal():\tReturns True if all characters in the string are decimals\n",
        "    - isdigit():\tReturns True if all characters in the string are digits\n",
        "    - isidentifier():\tReturns True if the string is an identifier\n",
        "    - islower():\tReturns True if all characters in the string are lower case\n",
        "    - isnumeric():\tReturns True if all characters in the string are numeric\n",
        "    - isprintable():\tReturns True if all characters in the string are printable\n",
        "    - isspace():\tReturns True if all characters in the string are whitespaces\n",
        "    - istitle():\tReturns True if the string follows the rules of a title\n",
        "    - isupper():\tReturns True if all characters in the string are upper case\n",
        "    - join():\tJoins the elements of an iterable to the end of the string\n",
        "    - ljust():\tReturns a left justified version of the string\n",
        "    - lower():\tConverts a string into lower case\n",
        "    - lstrip():\tReturns a left trim version of the string\n",
        "    - maketrans():\tReturns a translation table to be used in translations\n",
        "    - partition():\tReturns a tuple where the string is parted into three parts\n",
        "    - replace():\tReturns a string where a specified value is replaced with a specified value\n",
        "    - rfind():\tSearches the string for a specified value and returns the last position of where it was found\n",
        "    - rindex():\tSearches the string for a specified value and returns the last position of where it was found"
      ],
      "metadata": {
        "id": "C2fEYdBWq011"
      }
    },
    {
      "cell_type": "markdown",
      "source": [
        "## Boolean\n",
        "\n",
        "Booleans represent one of two values: ***True*** or ***False***."
      ],
      "metadata": {
        "id": "phOMC7sHrv3Y"
      }
    },
    {
      "cell_type": "markdown",
      "source": [
        "### Python Comparison Operators\n",
        "`Comparison operators are used to compare two values:`\n",
        "\n",
        "|Operator |Name| Example|\n",
        "|:-|:-|-:|\n",
        "|==|Equal|\tx == y|\n",
        "|!=|Not equal|\tx != y|\n",
        "|>| Greater than|\tx > y|\n",
        "|<|Less than|\tx < y|\n",
        "|>=\t|Greater than or equal to|\tx >= y|\n",
        "|<=\t|Less than or equal to|\tx <= y|"
      ],
      "metadata": {
        "id": "dKAGNc_Zr8ZY"
      }
    },
    {
      "cell_type": "code",
      "source": [
        "print(10 < 9)\n",
        "print(10 == 9)\n",
        "print(10 > 9)"
      ],
      "metadata": {
        "colab": {
          "base_uri": "https://localhost:8080/"
        },
        "id": "L0lXNxvvr6iW",
        "outputId": "6f924852-4306-450e-93dd-4d61856d3234"
      },
      "execution_count": null,
      "outputs": [
        {
          "output_type": "stream",
          "name": "stdout",
          "text": [
            "False\n",
            "False\n",
            "True\n"
          ]
        }
      ]
    },
    {
      "cell_type": "code",
      "source": [
        "# contoh sederhana menggunakan if else\n",
        "\n",
        "a = 5\n",
        "b = 7\n",
        "\n",
        "if b > a:\n",
        "  print('B lebih besar dari a')\n",
        "else:\n",
        "  print('B lebih kecil dari a')"
      ],
      "metadata": {
        "colab": {
          "base_uri": "https://localhost:8080/"
        },
        "id": "pHxSThBVrY0U",
        "outputId": "ea9c4f5a-6a22-4fb4-dba8-94882ea1c68f"
      },
      "execution_count": null,
      "outputs": [
        {
          "output_type": "stream",
          "name": "stdout",
          "text": [
            "B lebih besar dari a\n"
          ]
        }
      ]
    },
    {
      "cell_type": "code",
      "source": [
        "#beberapa case dengan output boolean TRUE\n",
        "\n",
        "print(bool('Amir'))\n",
        "print(bool(21))\n",
        "print(bool(['manga','jeruk','apel']))"
      ],
      "metadata": {
        "colab": {
          "base_uri": "https://localhost:8080/"
        },
        "id": "uSOewop2thK4",
        "outputId": "ed0fa334-cfce-4b12-ccf8-62b15dca41f7"
      },
      "execution_count": null,
      "outputs": [
        {
          "output_type": "stream",
          "name": "stdout",
          "text": [
            "True\n",
            "True\n",
            "True\n"
          ]
        }
      ]
    },
    {
      "cell_type": "code",
      "source": [
        "#beberapa case dengan output boolean FALSE\n",
        "\n",
        "print(bool(False))\n",
        "print(bool(None))\n",
        "print(bool())\n",
        "print(bool(''))\n",
        "print(bool([]))\n",
        "print(bool({}))\n",
        "print(bool(()))"
      ],
      "metadata": {
        "colab": {
          "base_uri": "https://localhost:8080/"
        },
        "id": "mPzDrdV2uOtV",
        "outputId": "42533c1e-4b9d-4718-a4d9-06f6c90d9f6c"
      },
      "execution_count": null,
      "outputs": [
        {
          "output_type": "stream",
          "name": "stdout",
          "text": [
            "False\n",
            "False\n",
            "False\n",
            "False\n",
            "False\n",
            "False\n",
            "False\n"
          ]
        }
      ]
    },
    {
      "cell_type": "markdown",
      "source": [
        "### none type"
      ],
      "metadata": {
        "id": "-SlYXIHuu_6v"
      }
    },
    {
      "cell_type": "markdown",
      "source": [
        "- The None keyword is used to define a null value, or no value at all.\n",
        "- None is not the same as 0, False, or an empty string. None is a data type of its own (NoneType) and only None can be None.`"
      ],
      "metadata": {
        "id": "tscU69MmvOGB"
      }
    },
    {
      "cell_type": "code",
      "source": [
        "a = None\n",
        "b = 0\n",
        "c = False\n",
        "d = ''\n",
        "\n",
        "print(type(a))\n",
        "print(type(b))\n",
        "print(type(c))\n",
        "print(type(d))\n"
      ],
      "metadata": {
        "colab": {
          "base_uri": "https://localhost:8080/"
        },
        "id": "u-frQUQMvB3e",
        "outputId": "1bedfbac-5cc8-4fa4-de4b-10a74e97e6fb"
      },
      "execution_count": null,
      "outputs": [
        {
          "output_type": "stream",
          "name": "stdout",
          "text": [
            "<class 'NoneType'>\n",
            "<class 'int'>\n",
            "<class 'bool'>\n",
            "<class 'str'>\n"
          ]
        }
      ]
    },
    {
      "cell_type": "code",
      "source": [
        "x = None\n",
        "\n",
        "if x is True:\n",
        "  print(\"Do you think None is true?\")\n",
        "elif x is False:\n",
        "  print(\"Do you think None is False\")\n",
        "else:\n",
        "  print(\"None is not True Or False,None Is Just None\")"
      ],
      "metadata": {
        "colab": {
          "base_uri": "https://localhost:8080/"
        },
        "id": "wxnJVLcKv7Ek",
        "outputId": "38037bcc-d3c3-457a-8f4d-c7eb5b738d7f"
      },
      "execution_count": null,
      "outputs": [
        {
          "output_type": "stream",
          "name": "stdout",
          "text": [
            "None is not True Or False,None Is Just None\n"
          ]
        }
      ]
    },
    {
      "cell_type": "markdown",
      "source": [
        "### Python Colection(Array)"
      ],
      "metadata": {
        "id": "VtKkXzXPxKVa"
      }
    },
    {
      "cell_type": "markdown",
      "source": [
        "There are four collection data types in the Python programming language:\n",
        "\n",
        "- **List** is a collection which is ordered and changeable. Allows duplicate members.\n",
        "- **Tuple** is a collection which is ordered and unchangeable. Allows duplicate members.\n",
        "- **Set** is a collection which is unordered, unchangeable#, and unindexed. No duplicate members.\n",
        "- **Dictionary** is a collection which is ordered## and changeable. No duplicate members.\n",
        "\n",
        "*# Set items are unchangeable, but you can remove and/or add items whenever you like.* <br>\n",
        "*## As of Python version 3.7, dictionaries are ordered. In Python 3.6 and earlier, dictionaries are unordered*"
      ],
      "metadata": {
        "id": "D2KwDSd_xNtM"
      }
    },
    {
      "cell_type": "markdown",
      "source": [
        "#### List\n"
      ],
      "metadata": {
        "id": "lqWQusW5xuYe"
      }
    },
    {
      "cell_type": "markdown",
      "source": [
        "`Lists are used to store multiple items in a single variable.`\n",
        "\n",
        "`Lists are one of 4 built-in data types in Python used to store collections of data, the other 3 are Tuple, Set, and Dictionary, all with different qualities and usage.`"
      ],
      "metadata": {
        "id": "Fzo-5hWLxwET"
      }
    },
    {
      "cell_type": "code",
      "source": [
        "data = [75,\"Nila9\",80.6] #Kurung siku digunakan untuk tipe data list dan bisa berisi beberapa tipe data\n",
        "print(data)\n",
        "print(type(data))\n",
        "print(data[0]) #Membada data pertama dari list yang ada(Index 0)\n",
        "print(len(data)) #Untuk menghitung jumlah value yang ada di list"
      ],
      "metadata": {
        "colab": {
          "base_uri": "https://localhost:8080/"
        },
        "id": "JRJgPAypxOn2",
        "outputId": "25064e6f-e6f8-4982-d18e-0cfdb8de86f3"
      },
      "execution_count": null,
      "outputs": [
        {
          "output_type": "stream",
          "name": "stdout",
          "text": [
            "[75, 'Nila9', 80.6]\n",
            "<class 'list'>\n",
            "75\n",
            "3\n"
          ]
        }
      ]
    },
    {
      "cell_type": "markdown",
      "source": [
        "##### List Item"
      ],
      "metadata": {
        "id": "89P2Qaoqy7fB"
      }
    },
    {
      "cell_type": "code",
      "source": [
        "nilai = [95,70,75,65,11]\n",
        "print(nilai[0]) #output berupa nilai pertama yang ada di list(index 0)\n",
        "print(nilai[0:2])#output berupa nilai pertama dan kedua yang ada di list(index 0 dan 1)\n",
        "print(nilai[0:])#output berupa nilai pertama sampai nilai terakhir\n",
        "print(nilai[:2])#output nilai pertama sampai batas nilai ke satu(index 0 sampai 2)\n",
        "print(nilai * 3)#output nilia yang diulang sebanyak 3 kali\n",
        "\n",
        "nilai[4] = 120\n",
        "print(nilai)\n",
        "nilaibaru=nilai+[90,25,105]#menambahkan value dalam list lebih dari satu\n",
        "print(nilaibaru)\n",
        "nilai.append(900)#menambahkan sebuah value dalam list\n",
        "print(nilai)\n",
        "\n",
        "print('nilai baru: ', nilaibaru)\n",
        "nilaibaru.sort()\n",
        "print('nilai baru setelah di sort', nilaibaru)\n",
        "nilaibaru.reverse()\n",
        "print('nillai baru seteleh di reverse', nilaibaru)\n"
      ],
      "metadata": {
        "colab": {
          "base_uri": "https://localhost:8080/"
        },
        "id": "HafGHtnvy9wd",
        "outputId": "d549e3a9-188e-4762-d5c4-46d0d8032dc0"
      },
      "execution_count": null,
      "outputs": [
        {
          "output_type": "stream",
          "name": "stdout",
          "text": [
            "95\n",
            "[95, 70]\n",
            "[95, 70, 75, 65, 11]\n",
            "[95, 70]\n",
            "[95, 70, 75, 65, 11, 95, 70, 75, 65, 11, 95, 70, 75, 65, 11]\n",
            "[95, 70, 75, 65, 120]\n",
            "[95, 70, 75, 65, 120, 90, 25, 105]\n",
            "[95, 70, 75, 65, 120, 900]\n",
            "nilai baru:  [95, 70, 75, 65, 120, 90, 25, 105]\n",
            "nilai baru setelah di sort [25, 65, 70, 75, 90, 95, 105, 120]\n",
            "nillai baru seteleh di reverse [120, 105, 95, 90, 75, 70, 65, 25]\n"
          ]
        }
      ]
    },
    {
      "cell_type": "code",
      "source": [
        "isi=['Sample','Training','latihan']\n",
        "isi.sort() #mengurutkan sesuai abdjat\n",
        "print(isi)\n",
        "nilai=[50,60,70]\n",
        "nilai.sort(reverse=True)#mengurutkan dari besar ke kecil(sama kaya. reverse)\n",
        "print(nilai)"
      ],
      "metadata": {
        "colab": {
          "base_uri": "https://localhost:8080/"
        },
        "id": "ImgKhDP13fF2",
        "outputId": "fca9684c-d4b5-4ea6-e3e5-872ce9e9926a"
      },
      "execution_count": null,
      "outputs": [
        {
          "output_type": "stream",
          "name": "stdout",
          "text": [
            "['Sample', 'Training', 'latihan']\n",
            "[70, 60, 50]\n"
          ]
        }
      ]
    },
    {
      "cell_type": "code",
      "source": [
        "kata = ['abc','ABD','aBe','aBd']\n",
        "kata.sort()\n",
        "print(kata)\n",
        "#fungsi key berguna untuk mengurutkan karakter bds sifat yang digunakan\n",
        "kata.sort(key=str.lower)\n",
        "print(kata)"
      ],
      "metadata": {
        "colab": {
          "base_uri": "https://localhost:8080/"
        },
        "id": "v27ofNiB4RSO",
        "outputId": "48071d1f-aacf-46ce-df57-cb32304cdb9a"
      },
      "execution_count": null,
      "outputs": [
        {
          "output_type": "stream",
          "name": "stdout",
          "text": [
            "['ABD', 'aBd', 'aBe', 'abc']\n",
            "['abc', 'ABD', 'aBd', 'aBe']\n"
          ]
        }
      ]
    },
    {
      "cell_type": "code",
      "source": [
        "angka=[90,20,76,89,34,57]\n",
        "angka.append(78)\n",
        "print(angka)\n",
        "angka.insert(2,75)\n",
        "print('angka insert',angka)#menyisipkan angka sesuai yang diingginkan\n",
        "angka[5]=20\n",
        "print(angka)\n",
        "print('Angka 20 ada sebanyak: ', angka.count(20))\n",
        "angka.remove(20)\n",
        "print(angka)\n",
        "angkabaru= angka + [20,20]\n",
        "print(angkabaru)\n",
        "angkabaru.clear()\n",
        "print(angkabaru)"
      ],
      "metadata": {
        "colab": {
          "base_uri": "https://localhost:8080/"
        },
        "id": "BaAxWcLE50LX",
        "outputId": "09c6fb21-c9d1-4872-a5e9-a7e662017ef9"
      },
      "execution_count": null,
      "outputs": [
        {
          "output_type": "stream",
          "name": "stdout",
          "text": [
            "[90, 20, 76, 89, 34, 57, 78]\n",
            "angka insert [90, 20, 75, 76, 89, 34, 57, 78]\n",
            "[90, 20, 75, 76, 89, 20, 57, 78]\n",
            "Angka 20 ada sebanyak:  2\n",
            "[90, 75, 76, 89, 20, 57, 78]\n",
            "[90, 75, 76, 89, 20, 57, 78, 20, 20]\n",
            "[]\n"
          ]
        }
      ]
    },
    {
      "cell_type": "code",
      "source": [
        "data = [\"Sample\",[90,22,34,75],75.75]\n",
        "print(data[0])\n",
        "print(data[1])\n",
        "print(data[1][2]) #memnculkan data pada list dalam list (multi dimentional array)\n",
        "print(data[1][3])"
      ],
      "metadata": {
        "colab": {
          "base_uri": "https://localhost:8080/"
        },
        "id": "rIqkSyW358yT",
        "outputId": "bec2b09c-045f-42ac-8588-1b3ba66f3649"
      },
      "execution_count": null,
      "outputs": [
        {
          "output_type": "stream",
          "name": "stdout",
          "text": [
            "Sample\n",
            "[90, 22, 34, 75]\n",
            "34\n",
            "75\n"
          ]
        }
      ]
    },
    {
      "cell_type": "code",
      "source": [
        "judul = \"Latihan untuk Training Python\"\n",
        "print(judul.split(\" \")) #Melakukan split karakter terhadap variabel lalu membuat tipe data string menjadi bentuk list"
      ],
      "metadata": {
        "colab": {
          "base_uri": "https://localhost:8080/"
        },
        "id": "dKFgYmfD-Q8M",
        "outputId": "8bf50860-f2a5-41a1-c76e-ef5d08265a10"
      },
      "execution_count": null,
      "outputs": [
        {
          "output_type": "stream",
          "name": "stdout",
          "text": [
            "['Latihan', 'untuk', 'Training', 'Python']\n"
          ]
        }
      ]
    },
    {
      "cell_type": "markdown",
      "source": [
        "##### List Method\n",
        "Method\tDescription\n",
        "    \n",
        "    - append()\tAdds an element at the end of the list\n",
        "    - clear()\tRemoves all the elements from the list\n",
        "    - copy()\tReturns a copy of the list\n",
        "    - count()\tReturns the number of elements with the specified value\n",
        "    - extend()\tAdd the elements of a list (or any iterable), to the end of the current list\n",
        "    - index()\tReturns the index of the first element with the specified value\n",
        "    - insert()\tAdds an element at the specified position\n",
        "    - pop()\tRemoves the element at the specified position\n",
        "    - remove()\tRemoves the item with the specified value\n",
        "    - reverse()\tReverses the order of the list\n",
        "    - sort()\tSorts the list"
      ],
      "metadata": {
        "id": "tLrCPzY1-skA"
      }
    },
    {
      "cell_type": "code",
      "source": [],
      "metadata": {
        "id": "kThP9V5J-u65"
      },
      "execution_count": null,
      "outputs": []
    },
    {
      "cell_type": "markdown",
      "source": [
        "#day 4 Senin 25-03-2024"
      ],
      "metadata": {
        "id": "qzDOeUmcNBQw"
      }
    },
    {
      "cell_type": "markdown",
      "source": [
        "## Lest practic"
      ],
      "metadata": {
        "id": "n-8EGzrCNTmt"
      }
    },
    {
      "cell_type": "markdown",
      "source": [
        "### tuple\n",
        "`Tuples are used to store multiple items in a single variable.`\n",
        "\n",
        "`Tuple is one of 4 built-in data types in Python used to store collections of data, the other 3 are List, Set, and Dictionary, all with different qualities and usage.`\n",
        "\n",
        "`A tuple is a collection which is ordered and unchangeable.`\n",
        "\n",
        "`Tuples are written with round brackets. \"( )\"`"
      ],
      "metadata": {
        "id": "DbF3qx2VNWP9"
      }
    },
    {
      "cell_type": "code",
      "source": [
        "data = (4,60,25,39,18)\n",
        "data1= {4,60,25,39,18}\n",
        "data2= [4,60,25,39,18]\n",
        "\n",
        "print(data)\n",
        "print(len(data))\n",
        "print(type(data))\n",
        "print(type(data1))\n",
        "print(type(data2))\n",
        "\n"
      ],
      "metadata": {
        "colab": {
          "base_uri": "https://localhost:8080/"
        },
        "id": "DpVkbToXNlFy",
        "outputId": "626718b0-9529-47e3-9539-ab6d4ba08974"
      },
      "execution_count": null,
      "outputs": [
        {
          "output_type": "stream",
          "name": "stdout",
          "text": [
            "(4, 60, 25, 39, 18)\n",
            "5\n",
            "<class 'tuple'>\n",
            "<class 'set'>\n",
            "<class 'list'>\n"
          ]
        }
      ]
    },
    {
      "cell_type": "code",
      "source": [
        "#print(data)\n",
        "#data[2]=20"
      ],
      "metadata": {
        "id": "1woochBTPCfN"
      },
      "execution_count": null,
      "outputs": []
    },
    {
      "cell_type": "code",
      "source": [
        "thistuple1=(\"apple\")\n",
        "print(type(thistuple1))\n",
        "\n",
        "\n",
        "thistuple=(\"apple\",\"mangga\")\n",
        "print(type(thistuple))"
      ],
      "metadata": {
        "colab": {
          "base_uri": "https://localhost:8080/"
        },
        "id": "AHXv4DISPbxQ",
        "outputId": "dada925a-06e9-462b-a8a6-93f946432f44"
      },
      "execution_count": null,
      "outputs": [
        {
          "output_type": "stream",
          "name": "stdout",
          "text": [
            "<class 'str'>\n",
            "<class 'tuple'>\n"
          ]
        }
      ]
    },
    {
      "cell_type": "code",
      "source": [
        "data=(1,2,3,4,5)\n",
        "print(data+(6,7,8))\n",
        "\n",
        "month=(\"jan\",\"Feb\",\"Mar\")\n",
        "print(month+(\"Apr\",\"May\",\"Jun\"))"
      ],
      "metadata": {
        "colab": {
          "base_uri": "https://localhost:8080/"
        },
        "id": "qpFqBT80QV_N",
        "outputId": "82079c98-cbde-4627-8502-60d1e804a92a"
      },
      "execution_count": null,
      "outputs": [
        {
          "output_type": "stream",
          "name": "stdout",
          "text": [
            "(1, 2, 3, 4, 5, 6, 7, 8)\n",
            "('jan', 'Feb', 'Mar', 'Apr', 'May', 'Jun')\n"
          ]
        }
      ]
    },
    {
      "cell_type": "code",
      "source": [
        "isidata=(\"latihan\",\"python\",\"hari\",\"keempat\")\n",
        "print(type(isidata))\n",
        "separator=\"-\"\n",
        "hasil=separator.join(isidata)#mengabungkan elemen tuple sekaligus meruubah tipe datanya menjadi string\n",
        "print(hasil)\n",
        "print(type(hasil))"
      ],
      "metadata": {
        "colab": {
          "base_uri": "https://localhost:8080/"
        },
        "id": "cMtYpw8zRJoR",
        "outputId": "f014f900-a1c7-4377-e5df-e1b0d3ac72e2"
      },
      "execution_count": null,
      "outputs": [
        {
          "output_type": "stream",
          "name": "stdout",
          "text": [
            "<class 'tuple'>\n",
            "latihan-python-hari-keempat\n",
            "<class 'str'>\n"
          ]
        }
      ]
    },
    {
      "cell_type": "code",
      "source": [
        "data=(\"abc\",30,True,34.5,\"60\")#element tuple bisa berbagai macam tipe data\n",
        "print(data)\n",
        "print(type(data))"
      ],
      "metadata": {
        "colab": {
          "base_uri": "https://localhost:8080/"
        },
        "id": "fm6fXXElURmV",
        "outputId": "f4a0305b-11f3-4822-c35f-d768429d0cde"
      },
      "execution_count": null,
      "outputs": [
        {
          "output_type": "stream",
          "name": "stdout",
          "text": [
            "('abc', 30, True, 34.5, '60')\n",
            "<class 'tuple'>\n"
          ]
        }
      ]
    },
    {
      "cell_type": "code",
      "source": [
        "thistuple=tuple((\"Apple\",\"Mango\",\"Cherry\"))#mngubah tipe data variabel\n",
        "print(thistuple)\n",
        "print(type(thistuple))"
      ],
      "metadata": {
        "colab": {
          "base_uri": "https://localhost:8080/"
        },
        "id": "qAgrX7uIUqZr",
        "outputId": "9dd63187-8b56-4c21-ee3f-e17e80d17285"
      },
      "execution_count": null,
      "outputs": [
        {
          "output_type": "stream",
          "name": "stdout",
          "text": [
            "('Apple', 'Mango', 'Cherry')\n",
            "<class 'tuple'>\n"
          ]
        }
      ]
    },
    {
      "cell_type": "code",
      "source": [
        "thistuple=tuple((\"apple\"))\n",
        "print(thistuple)"
      ],
      "metadata": {
        "colab": {
          "base_uri": "https://localhost:8080/"
        },
        "id": "0jtM2k7GVGAO",
        "outputId": "ce17faba-95f6-4fb6-cbfa-64b3ad46cd04"
      },
      "execution_count": null,
      "outputs": [
        {
          "output_type": "stream",
          "name": "stdout",
          "text": [
            "('a', 'p', 'p', 'l', 'e')\n"
          ]
        }
      ]
    },
    {
      "cell_type": "code",
      "source": [
        "thistuple=tuple(\"apple\")\n",
        "print(thistuple)"
      ],
      "metadata": {
        "colab": {
          "base_uri": "https://localhost:8080/"
        },
        "id": "RCjyNlUDVgTk",
        "outputId": "374e1daa-4106-4761-971a-fb51aa4a4a83"
      },
      "execution_count": null,
      "outputs": [
        {
          "output_type": "stream",
          "name": "stdout",
          "text": [
            "('a', 'p', 'p', 'l', 'e')\n"
          ]
        }
      ]
    },
    {
      "cell_type": "code",
      "source": [
        "thistuple = (\"apple\", \"banana\", \"cherry\", \"orange\", \"kiwi\", \"melon\", \"mango\")\n",
        "print(thistuple[-1])\n",
        "print(thistuple[2:5])\n"
      ],
      "metadata": {
        "colab": {
          "base_uri": "https://localhost:8080/"
        },
        "id": "lfyHSaBtWvny",
        "outputId": "bf33122c-478d-495f-9e09-d9aa6cc6cfce"
      },
      "execution_count": null,
      "outputs": [
        {
          "output_type": "stream",
          "name": "stdout",
          "text": [
            "mango\n",
            "('cherry', 'orange', 'kiwi')\n"
          ]
        }
      ]
    },
    {
      "cell_type": "code",
      "source": [
        "#update tuple\n",
        "x=(\"apple\",\"Banana\",\"Manggo\")\n",
        "y=list(x)\n",
        "\n",
        "y[1]=\"Kiwi\"\n",
        "x=tuple(y)\n",
        "\n",
        "print(x)\n",
        "print(type(x))"
      ],
      "metadata": {
        "colab": {
          "base_uri": "https://localhost:8080/"
        },
        "id": "TmQ8we01XXBw",
        "outputId": "e17d1762-e15a-42cf-b0ef-1327e9faafa9"
      },
      "execution_count": null,
      "outputs": [
        {
          "output_type": "stream",
          "name": "stdout",
          "text": [
            "('apple', 'Kiwi', 'Manggo')\n",
            "<class 'tuple'>\n"
          ]
        }
      ]
    },
    {
      "cell_type": "code",
      "source": [
        "x=(\"apple\",\"Banana\",\"Manggo\")\n",
        "x.count('apple')"
      ],
      "metadata": {
        "colab": {
          "base_uri": "https://localhost:8080/"
        },
        "id": "miYOeSW-X-BX",
        "outputId": "54bf57c6-65b6-4260-baf0-b86949821a0a"
      },
      "execution_count": null,
      "outputs": [
        {
          "output_type": "execute_result",
          "data": {
            "text/plain": [
              "1"
            ]
          },
          "metadata": {},
          "execution_count": 58
        }
      ]
    },
    {
      "cell_type": "markdown",
      "source": [
        "##Set\n",
        "`Sets are used to store multiple items in a single variable.`\n",
        "\n",
        "`Set is one of 4 built-in data types in Python used to store collections of data, the other 3 are List, Tuple, and Dictionary, all with different qualities and usage.`\n",
        "\n",
        "`A set is a collection which is unordered, unchangeable*, and unindexed.`\n",
        "\n",
        "`Set are written with curly brackets. \"{ }\"`\n",
        "\n",
        "*Note: Set items are unchangeable, but you can remove items and add new items.*"
      ],
      "metadata": {
        "id": "b7-J5l1KY6cp"
      }
    },
    {
      "cell_type": "code",
      "source": [
        "thisset={1,3,4} #Tipe data set menggunakan tanda kurung kurawal{}\n",
        "print(thisset)\n",
        "print(type(thisset))"
      ],
      "metadata": {
        "colab": {
          "base_uri": "https://localhost:8080/"
        },
        "id": "ush6mw1PY8Vk",
        "outputId": "ad68306a-4fca-41fa-873b-d2fd47a16012"
      },
      "execution_count": null,
      "outputs": [
        {
          "output_type": "stream",
          "name": "stdout",
          "text": [
            "{1, 3, 4}\n",
            "<class 'set'>\n"
          ]
        }
      ]
    },
    {
      "cell_type": "code",
      "source": [
        "thisset={1,1,2,3,4,5}# gabisa duplicate value\n",
        "print(thisset)\n",
        "print(len(thisset))"
      ],
      "metadata": {
        "colab": {
          "base_uri": "https://localhost:8080/"
        },
        "id": "ZHAQgZQraCaQ",
        "outputId": "3cba9091-3540-4275-823a-449705dfbb25"
      },
      "execution_count": null,
      "outputs": [
        {
          "output_type": "stream",
          "name": "stdout",
          "text": [
            "{1, 2, 3, 4, 5}\n",
            "5\n"
          ]
        }
      ]
    },
    {
      "cell_type": "code",
      "source": [
        "set1={'abc',60,True,60.5,\"60\"}\n",
        "print(type(set1))"
      ],
      "metadata": {
        "colab": {
          "base_uri": "https://localhost:8080/"
        },
        "id": "4P33MShwanjC",
        "outputId": "c61c1a66-e38f-41b4-bea8-28897b604079"
      },
      "execution_count": null,
      "outputs": [
        {
          "output_type": "stream",
          "name": "stdout",
          "text": [
            "<class 'set'>\n"
          ]
        }
      ]
    },
    {
      "cell_type": "code",
      "source": [
        "data=set((\"apple\",\"Banana\")) #mengubah tipe data tuple menjadi set\n",
        "print(data)\n",
        "print(type(data))"
      ],
      "metadata": {
        "colab": {
          "base_uri": "https://localhost:8080/"
        },
        "id": "LYokYN8nbHUb",
        "outputId": "03b30eb2-8e48-4a2f-ae9d-54099855cc11"
      },
      "execution_count": null,
      "outputs": [
        {
          "output_type": "stream",
          "name": "stdout",
          "text": [
            "{'Banana', 'apple'}\n",
            "<class 'set'>\n"
          ]
        }
      ]
    },
    {
      "cell_type": "code",
      "source": [
        "data={'abc',60,True,60.5,\"60\"}\n",
        "print(data)\n",
        "#print(data[1]) #ternyata tidak bisa"
      ],
      "metadata": {
        "colab": {
          "base_uri": "https://localhost:8080/"
        },
        "id": "ML5ZYyqgcZ3B",
        "outputId": "4627387b-1977-4e37-fa46-3b3c2e5c7c61"
      },
      "execution_count": null,
      "outputs": [
        {
          "output_type": "stream",
          "name": "stdout",
          "text": [
            "{True, 60, 60.5, '60', 'abc'}\n"
          ]
        }
      ]
    },
    {
      "cell_type": "markdown",
      "source": [
        "- You cannot access items in a set by referring to an index or a key.\n",
        "- But you can loop through the set items using a for loop, or ask if a specified value is present in a set, by using the in keyword."
      ],
      "metadata": {
        "id": "dsxoBk25dIEe"
      }
    },
    {
      "cell_type": "code",
      "source": [
        "thisset={\"apple\",\"Banana\",\"manggo\"}\n",
        "\n",
        "for x in thisset:\n",
        "  print(x)\n"
      ],
      "metadata": {
        "colab": {
          "base_uri": "https://localhost:8080/"
        },
        "id": "mEmNdPCJdJJ8",
        "outputId": "f6d5c815-db91-44fb-f7d6-9d31d9936b2b"
      },
      "execution_count": null,
      "outputs": [
        {
          "output_type": "stream",
          "name": "stdout",
          "text": [
            "manggo\n",
            "Banana\n",
            "apple\n"
          ]
        }
      ]
    },
    {
      "cell_type": "code",
      "source": [
        "thisset={\"apple\",\"Banana\",\"manggo\"}\n",
        "\n",
        "for x in thisset:\n",
        "  print(x, end=\" \")"
      ],
      "metadata": {
        "colab": {
          "base_uri": "https://localhost:8080/"
        },
        "id": "yp8fbBZhezAq",
        "outputId": "22073092-f81e-46c5-8bec-615edff8092d"
      },
      "execution_count": null,
      "outputs": [
        {
          "output_type": "stream",
          "name": "stdout",
          "text": [
            "manggo Banana apple "
          ]
        }
      ]
    },
    {
      "cell_type": "code",
      "source": [
        "this={\"apple\",\"Banana\",\"Manggo\"}\n",
        "print(\"banana\" in this)"
      ],
      "metadata": {
        "colab": {
          "base_uri": "https://localhost:8080/"
        },
        "id": "H1eEBtNHgBGo",
        "outputId": "4ce3cb3b-8d87-4f36-e799-e10e8801ffaa"
      },
      "execution_count": null,
      "outputs": [
        {
          "output_type": "stream",
          "name": "stdout",
          "text": [
            "False\n"
          ]
        }
      ]
    },
    {
      "cell_type": "code",
      "source": [
        "this={\"apple\",\"Banana\",\"Manggo\"}\n",
        "print(\"Banana\" in this)"
      ],
      "metadata": {
        "colab": {
          "base_uri": "https://localhost:8080/"
        },
        "id": "zVWnzynjgYLi",
        "outputId": "b6bc55ef-e0df-4bf8-8da1-c1e18705aa46"
      },
      "execution_count": null,
      "outputs": [
        {
          "output_type": "stream",
          "name": "stdout",
          "text": [
            "True\n"
          ]
        }
      ]
    },
    {
      "cell_type": "code",
      "source": [
        "this={\"apple\",\"Banan\",\"Manggo\"}\n",
        "this.add(\"Orange\")\n",
        "print(this)"
      ],
      "metadata": {
        "id": "Ts4yNcBWgZoC",
        "colab": {
          "base_uri": "https://localhost:8080/"
        },
        "outputId": "53e2d1be-bc62-4d5d-e94f-605fd2a37d09"
      },
      "execution_count": null,
      "outputs": [
        {
          "output_type": "stream",
          "name": "stdout",
          "text": [
            "{'Orange', 'Manggo', 'Banan', 'apple'}\n"
          ]
        }
      ]
    },
    {
      "cell_type": "code",
      "source": [
        "thisset={\"apple\",\"Banna\",\"Mango\"}\n",
        "buahlain={\"Orange\",\"Avocado\"}\n",
        "lagi={\"pear\",\"Melon\"}\n",
        "thisset.update(buahlain,lagi) #untik gabungin 2 set\n",
        "print(thisset)"
      ],
      "metadata": {
        "colab": {
          "base_uri": "https://localhost:8080/"
        },
        "id": "FderNlJkhZJZ",
        "outputId": "5c9e767b-aaaf-49ff-b402-41b6e1acf2e0"
      },
      "execution_count": null,
      "outputs": [
        {
          "output_type": "stream",
          "name": "stdout",
          "text": [
            "{'Mango', 'Orange', 'Melon', 'pear', 'Banna', 'apple', 'Avocado'}\n"
          ]
        }
      ]
    },
    {
      "cell_type": "code",
      "source": [
        "thisset={\"apple\",\"Banna\",\"Mango\"}\n",
        "buah_list=[\"Orange\",\"Avocado\"]\n",
        "thisset.update(buah_list) #untik gabungin 2 set\n",
        "print(thisset)"
      ],
      "metadata": {
        "colab": {
          "base_uri": "https://localhost:8080/"
        },
        "id": "6Pk71erpi8xR",
        "outputId": "8ad9b2a4-8b28-46d4-b306-feb22a613d9e"
      },
      "execution_count": null,
      "outputs": [
        {
          "output_type": "stream",
          "name": "stdout",
          "text": [
            "{'Mango', 'Banna', 'Orange', 'apple', 'Avocado'}\n"
          ]
        }
      ]
    },
    {
      "cell_type": "code",
      "source": [
        "thisset={\"apple\",\"banna\",\"chery\"}\n",
        "thisset.remove(\"banna\")\n",
        "print(thisset)"
      ],
      "metadata": {
        "colab": {
          "base_uri": "https://localhost:8080/"
        },
        "id": "ITgQ0HrGjaGL",
        "outputId": "e8144010-1881-4b5b-c697-3f790eaad1d2"
      },
      "execution_count": null,
      "outputs": [
        {
          "output_type": "stream",
          "name": "stdout",
          "text": [
            "{'chery', 'apple'}\n"
          ]
        }
      ]
    },
    {
      "cell_type": "code",
      "source": [
        "thisset={\"apple\",\"banna\",\"chery\"}\n",
        "thisset.discard(\"bannaa\") #kalo value gak ada ga eror\n",
        "print(thisset)"
      ],
      "metadata": {
        "colab": {
          "base_uri": "https://localhost:8080/"
        },
        "id": "W_qd8K_mkKRu",
        "outputId": "cfcb9e61-1e8b-4126-b51b-c7c65ed95924"
      },
      "execution_count": null,
      "outputs": [
        {
          "output_type": "stream",
          "name": "stdout",
          "text": [
            "{'chery', 'banna', 'apple'}\n"
          ]
        }
      ]
    },
    {
      "cell_type": "code",
      "source": [
        "thisset = {\"apple\", \"banana\", \"cherry\"}\n",
        "x = thisset.pop() #mendefinisikan ke variabel nilai yang di-pop (yang terhapus)\n",
        "print(x) #nampilin nilai yg terhapus\n",
        "print(type(x))\n",
        "print(thisset) #nampilin set setelah ada nilai yg dihapus"
      ],
      "metadata": {
        "colab": {
          "base_uri": "https://localhost:8080/"
        },
        "id": "rT9lDxsukV_b",
        "outputId": "8bfbf6d4-5d0d-41e4-a7e7-7fecc83dc14e"
      },
      "execution_count": null,
      "outputs": [
        {
          "output_type": "stream",
          "name": "stdout",
          "text": [
            "cherry\n",
            "<class 'str'>\n",
            "{'banana', 'apple'}\n"
          ]
        }
      ]
    },
    {
      "cell_type": "code",
      "source": [
        "thisset={\"apple\",\"banana\",\"cherry\"}\n",
        "thisset.clear()\n",
        "print(thisset)"
      ],
      "metadata": {
        "colab": {
          "base_uri": "https://localhost:8080/"
        },
        "id": "gEM5YtV_lRq9",
        "outputId": "bf8b3a90-f542-4f85-c5fb-5b1744778a71"
      },
      "execution_count": null,
      "outputs": [
        {
          "output_type": "stream",
          "name": "stdout",
          "text": [
            "set()\n"
          ]
        }
      ]
    },
    {
      "cell_type": "code",
      "source": [
        "# thisset = {\"apple\",\"banana\",\"Chery\"}\n",
        "# del thisset\n",
        "# print(thisset)"
      ],
      "metadata": {
        "id": "FQk5PYBbloTH"
      },
      "execution_count": null,
      "outputs": []
    },
    {
      "cell_type": "markdown",
      "source": [
        "#Day 5 rabu 27 03 2024"
      ],
      "metadata": {
        "id": "smIAWcxbf7y3"
      }
    },
    {
      "cell_type": "markdown",
      "source": [
        "## Let's Practice"
      ],
      "metadata": {
        "id": "ZkeOrEU4ghPg"
      }
    },
    {
      "cell_type": "markdown",
      "source": [
        "### Dictionary"
      ],
      "metadata": {
        "id": "56MQSNDagk4i"
      }
    },
    {
      "cell_type": "markdown",
      "source": [
        "`Dictionaries are used to store data values in key:value pairs.`\n",
        "\n",
        "`A dictionary is a collection which is ordered*, changeable and do not allow duplicates.`"
      ],
      "metadata": {
        "id": "tg4tvpr-gq5b"
      }
    },
    {
      "cell_type": "code",
      "source": [
        "isi = {'nilai' : 75, 'diskripsi':'Testing','hsil': 50,}\n",
        "print(isi)\n",
        "print(type(isi))\n",
        "print(isi.keys())#melihat key dalam dictionary\n",
        "print(isi.values())#melihat value dalam dictinoary\n",
        "print(isi.items())#untuk melihat elemen dalam dictionary berupa key value\n",
        "print(len(isi))"
      ],
      "metadata": {
        "colab": {
          "base_uri": "https://localhost:8080/"
        },
        "id": "CnJ5tdvggr9a",
        "outputId": "adf4d800-21b2-4e70-b5af-6c946b78823f"
      },
      "execution_count": null,
      "outputs": [
        {
          "output_type": "stream",
          "name": "stdout",
          "text": [
            "{'nilai': 75, 'diskripsi': 'Testing', 'hsil': 50}\n",
            "<class 'dict'>\n",
            "dict_keys(['nilai', 'diskripsi', 'hsil'])\n",
            "dict_values([75, 'Testing', 50])\n",
            "dict_items([('nilai', 75), ('diskripsi', 'Testing'), ('hsil', 50)])\n",
            "3\n"
          ]
        }
      ]
    },
    {
      "cell_type": "code",
      "source": [
        "#untuk melihat value berdasarkan key yang di pilih\n",
        "print(isi['diskripsi'])\n",
        "x = isi.get('deskripsi')\n",
        "print(x)"
      ],
      "metadata": {
        "colab": {
          "base_uri": "https://localhost:8080/"
        },
        "id": "ETDs-6pYiGlF",
        "outputId": "6925dcd3-6d9a-461f-c58c-42f3647365b2"
      },
      "execution_count": null,
      "outputs": [
        {
          "output_type": "stream",
          "name": "stdout",
          "text": [
            "Testing\n",
            "None\n"
          ]
        }
      ]
    },
    {
      "cell_type": "code",
      "source": [
        "isi = {'nilai' : 75, 'diskripsi':'Testing','hasil': 50,'hasil':100}\n",
        "print(isi)\n",
        "print(type(isi))"
      ],
      "metadata": {
        "colab": {
          "base_uri": "https://localhost:8080/"
        },
        "id": "PDNdER5zigyG",
        "outputId": "3bcb3918-8547-4d73-cf90-472331c98309"
      },
      "execution_count": null,
      "outputs": [
        {
          "output_type": "stream",
          "name": "stdout",
          "text": [
            "{'nilai': 75, 'diskripsi': 'Testing', 'hasil': 100}\n",
            "<class 'dict'>\n"
          ]
        }
      ]
    },
    {
      "cell_type": "code",
      "source": [
        "isi[500]='sample' #menambahkan value baru dan memperlihatkan ahwa key gak harus selalu string\n",
        "print(isi)"
      ],
      "metadata": {
        "colab": {
          "base_uri": "https://localhost:8080/"
        },
        "id": "3flYyaxyjBPc",
        "outputId": "6d14833e-e83a-4c62-fd42-ceb824344684"
      },
      "execution_count": null,
      "outputs": [
        {
          "output_type": "stream",
          "name": "stdout",
          "text": [
            "{'nilai': 75, 'diskripsi': 'Testing', 'hasil': 100, 500: 'sample'}\n"
          ]
        }
      ]
    },
    {
      "cell_type": "code",
      "source": [
        "car = {\n",
        "    'brand' : 'Ford',\n",
        "    'model' : 'Mustang',\n",
        "    'year' : 1964\n",
        "}\n",
        "x = car.keys()\n",
        "print(x) #sebelum dai tambahkan value baru\n",
        "\n",
        "car['color'] = 'white'\n",
        "\n",
        "print(x) #setelah di tambahkan value baru\n",
        "print(car)"
      ],
      "metadata": {
        "colab": {
          "base_uri": "https://localhost:8080/"
        },
        "id": "SXalIfGmjVgx",
        "outputId": "1d72fb66-4623-46e8-c89e-75cac9e0346e"
      },
      "execution_count": null,
      "outputs": [
        {
          "output_type": "stream",
          "name": "stdout",
          "text": [
            "dict_keys(['brand', 'model', 'year'])\n",
            "dict_keys(['brand', 'model', 'year', 'color'])\n",
            "{'brand': 'Ford', 'model': 'Mustang', 'year': 1964, 'color': 'white'}\n"
          ]
        }
      ]
    },
    {
      "cell_type": "code",
      "source": [
        "biodata = {}#membuat dictionary dengan lebih dinamis mengnakan empty dictionary\n",
        "biodata['nama'] = 'Amir Mahmud'\n",
        "biodata['email'] = 'amirmahmoed003@gmail.com'\n",
        "biodata['usia'] = 21\n",
        "print(biodata)\n",
        "biodata['usia'] = 20 #update value dari suatu key\n",
        "print(biodata)"
      ],
      "metadata": {
        "colab": {
          "base_uri": "https://localhost:8080/"
        },
        "id": "Alblqa9Bk830",
        "outputId": "3c7f919b-c8d3-4c0a-963f-1ff205dae117"
      },
      "execution_count": null,
      "outputs": [
        {
          "output_type": "stream",
          "name": "stdout",
          "text": [
            "{'nama': 'Amir Mahmud', 'email': 'amirmahmoed003@gmail.com', 'usia': 21}\n",
            "{'nama': 'Amir Mahmud', 'email': 'amirmahmoed003@gmail.com', 'usia': 20}\n"
          ]
        }
      ]
    },
    {
      "cell_type": "code",
      "source": [
        "x =set('tri')\n",
        "print(x)\n",
        "y=set([2,3,1,1])\n",
        "print(y)"
      ],
      "metadata": {
        "colab": {
          "base_uri": "https://localhost:8080/"
        },
        "id": "DYAC9_jTmqsc",
        "outputId": "569a4380-96cd-4079-e18f-5a8389f118ec"
      },
      "execution_count": null,
      "outputs": [
        {
          "output_type": "stream",
          "name": "stdout",
          "text": [
            "{'t', 'i', 'r'}\n",
            "{1, 2, 3}\n"
          ]
        }
      ]
    },
    {
      "cell_type": "code",
      "source": [
        "z = dict(zip(x,y))\n",
        "print(z)\n",
        "print(type(z))"
      ],
      "metadata": {
        "colab": {
          "base_uri": "https://localhost:8080/"
        },
        "id": "jQbhoWXEnPFM",
        "outputId": "f6625ec3-1df4-4743-d0b6-d5b3e5a21e8c"
      },
      "execution_count": null,
      "outputs": [
        {
          "output_type": "stream",
          "name": "stdout",
          "text": [
            "{'t': 1, 'i': 2, 'r': 3}\n",
            "<class 'dict'>\n"
          ]
        }
      ]
    },
    {
      "cell_type": "code",
      "source": [
        "a = ['a','b']\n",
        "b = [1,2]\n",
        "c=dict(zip(a,b))\n",
        "print(c)"
      ],
      "metadata": {
        "colab": {
          "base_uri": "https://localhost:8080/"
        },
        "id": "x_4IFZQYn97k",
        "outputId": "998ad6bc-f665-4ea0-9de6-59d0d0579274"
      },
      "execution_count": null,
      "outputs": [
        {
          "output_type": "stream",
          "name": "stdout",
          "text": [
            "{'a': 1, 'b': 2}\n"
          ]
        }
      ]
    },
    {
      "cell_type": "markdown",
      "source": [
        "### Dictionary Method"
      ],
      "metadata": {
        "id": "ynkMXhMOnyjU"
      }
    },
    {
      "cell_type": "markdown",
      "source": [
        "Method\tDescription\n",
        "\n",
        "    - clear()\tRemoves all the elements from the dictionary\n",
        "    - copy()\tReturns a copy of the dictionary\n",
        "    - fromkeys()\tReturns a dictionary with the specified keys and value\n",
        "    - get()\tReturns the value of the specified key\n",
        "    - items()\tReturns a list containing a tuple for each key value pair\n",
        "    - keys()\tReturns a list containing the dictionary's keys\n",
        "    - pop()\tRemoves the element with the specified key\n",
        "    - popitem()\tRemoves the last inserted key-value pair\n",
        "    - setdefault()\tReturns the value of the specified key. If the key does not exist: insert the key, with the specified value\n",
        "    - update()\tUpdates the dictionary with the specified key-value pairs\n",
        "    - values()\tReturns a list of all the values in the dictionary"
      ],
      "metadata": {
        "id": "KnZKCT3BocHe"
      }
    },
    {
      "cell_type": "markdown",
      "source": [
        "### Block Statement"
      ],
      "metadata": {
        "id": "QexBPcerpmiv"
      }
    },
    {
      "cell_type": "markdown",
      "source": [
        "A block statement, or compound statement, lets you group any number of data definitions, declarations, and statements into one statement"
      ],
      "metadata": {
        "id": "LyvToLeYpxNO"
      }
    },
    {
      "cell_type": "markdown",
      "source": [
        "#### If Else Statement"
      ],
      "metadata": {
        "id": "JX7nTx8pp8CO"
      }
    },
    {
      "cell_type": "markdown",
      "source": [
        "The if-else statement is used to execute both the true part and the false part of a given condition"
      ],
      "metadata": {
        "id": "k0IzMCsJqH8G"
      }
    },
    {
      "cell_type": "code",
      "source": [
        "a = 151\n",
        "\n",
        "if a > 100:\n",
        "  print('a is big number')\n",
        "else:\n",
        "  print('a is small number')"
      ],
      "metadata": {
        "colab": {
          "base_uri": "https://localhost:8080/"
        },
        "id": "GoN2M9JvqA7Z",
        "outputId": "cd32de60-d27e-4576-9995-3c20a35d2027"
      },
      "execution_count": null,
      "outputs": [
        {
          "output_type": "stream",
          "name": "stdout",
          "text": [
            "a is big number\n"
          ]
        }
      ]
    },
    {
      "cell_type": "code",
      "source": [
        "#4if else untuk 2 kondis terdefinisi\n",
        "\n",
        "m = 100\n",
        "\n",
        "if m < 100 : # kondisi 1\n",
        "  print('small Number')\n",
        "elif m > 100: # Kondisi 2\n",
        "  print('medium number')\n",
        "else: #kondisi lainya\n",
        "  print('Big Number')"
      ],
      "metadata": {
        "colab": {
          "base_uri": "https://localhost:8080/"
        },
        "id": "Svb-cTRZrTtQ",
        "outputId": "1a855321-e4f8-4d61-9789-073332d6adda"
      },
      "execution_count": null,
      "outputs": [
        {
          "output_type": "stream",
          "name": "stdout",
          "text": [
            "Big Number\n"
          ]
        }
      ]
    },
    {
      "cell_type": "code",
      "source": [
        "#if else dengan 2 kondisi, dan variabel yang didefinisikan memenuhi 2 kondisi tersebut\n",
        "n = 150\n",
        "if n < 100 : # kondisi 1\n",
        "  print('small Number')\n",
        "elif n > 150: # Kondisi 2\n",
        "  print('medium number')\n",
        "else: #kondisi lainya\n",
        "  print('Big Number')"
      ],
      "metadata": {
        "colab": {
          "base_uri": "https://localhost:8080/"
        },
        "id": "4Iee9y-GslpQ",
        "outputId": "1eb1c941-26ff-42ea-ce9d-32c0a38c1149"
      },
      "execution_count": null,
      "outputs": [
        {
          "output_type": "stream",
          "name": "stdout",
          "text": [
            "Big Number\n"
          ]
        }
      ]
    },
    {
      "cell_type": "code",
      "source": [
        "# if else untuk string\n",
        "isi='mobil'\n",
        "\n",
        "if 'm' in isi:\n",
        "  print('terdapat huruf m')\n",
        "else:\n",
        "  print('tidak terdapat huruf m')"
      ],
      "metadata": {
        "colab": {
          "base_uri": "https://localhost:8080/"
        },
        "id": "4LF5rZufuBmO",
        "outputId": "31929579-bc49-48b6-8129-169bcab22a1f"
      },
      "execution_count": null,
      "outputs": [
        {
          "output_type": "stream",
          "name": "stdout",
          "text": [
            "terdapat huruf m\n"
          ]
        }
      ]
    },
    {
      "cell_type": "code",
      "source": [
        "# if else untuk membandingkan 2 variable\n",
        "\n",
        "bilangan1 = 35\n",
        "bilangan2 = 20\n",
        "\n",
        "if bilangan1 == bilangan2:\n",
        "  print('bilangan sama')\n",
        "if bilangan1 != bilangan2:\n",
        "  print('bilangan beda')"
      ],
      "metadata": {
        "colab": {
          "base_uri": "https://localhost:8080/"
        },
        "id": "8ixDbG_zvNPX",
        "outputId": "4d5ce042-5a13-4b79-8780-ea00b4f9eaa9"
      },
      "execution_count": null,
      "outputs": [
        {
          "output_type": "stream",
          "name": "stdout",
          "text": [
            "bilangan beda\n"
          ]
        }
      ]
    },
    {
      "cell_type": "code",
      "source": [
        "x = -5\n",
        "y = 0\n",
        "\n",
        "if x <0 and y <0:\n",
        "  print('x dan y bilangan negarif')\n",
        "elif x < 0 and y >0:\n",
        "  print('x bilangan negatif dan y bilangan positif')\n",
        "elif x > 0 and y < 0:\n",
        "  print('x bilangan positif dan y bilangan negatif')\n",
        "elif x >0 and y>0:\n",
        "  print('x dan y bilangan positif')\n",
        "elif x==0 and y==0:\n",
        "  print('keduanya 0')\n",
        "else:\n",
        "  print('salah satunya ada yang noll')"
      ],
      "metadata": {
        "colab": {
          "base_uri": "https://localhost:8080/"
        },
        "id": "5T52-lz1wHFi",
        "outputId": "e80ce65c-2806-4f03-b123-ec5eb54fd6af"
      },
      "execution_count": null,
      "outputs": [
        {
          "output_type": "stream",
          "name": "stdout",
          "text": [
            "salah satunya ada yang noll\n"
          ]
        }
      ]
    },
    {
      "cell_type": "markdown",
      "source": [
        "#### For statement"
      ],
      "metadata": {
        "id": "J-mgxLr6yvFH"
      }
    },
    {
      "cell_type": "markdown",
      "source": [
        "A control flow statement that is used to repeatedly execute a group of statements as long as the condition is satisfied"
      ],
      "metadata": {
        "id": "DoRX-Loxy0To"
      }
    },
    {
      "cell_type": "code",
      "source": [
        "for x in range(1,6):\n",
        "  print(x)"
      ],
      "metadata": {
        "colab": {
          "base_uri": "https://localhost:8080/"
        },
        "id": "3gmjq965y1Sy",
        "outputId": "ce59fa4a-9edc-4c64-c223-9418eb8f9102"
      },
      "execution_count": null,
      "outputs": [
        {
          "output_type": "stream",
          "name": "stdout",
          "text": [
            "1\n",
            "2\n",
            "3\n",
            "4\n",
            "5\n"
          ]
        }
      ]
    },
    {
      "cell_type": "code",
      "source": [
        "for x in range(2,11,2): #Kita tentukan batas awal dan akhir serta beda range yang di gunakan\n",
        "  print(x)"
      ],
      "metadata": {
        "colab": {
          "base_uri": "https://localhost:8080/"
        },
        "id": "zAUle9_5zrUI",
        "outputId": "ef7a7d67-3536-4d81-adda-83e861badae5"
      },
      "execution_count": null,
      "outputs": [
        {
          "output_type": "stream",
          "name": "stdout",
          "text": [
            "2\n",
            "4\n",
            "6\n",
            "8\n",
            "10\n"
          ]
        }
      ]
    },
    {
      "cell_type": "code",
      "source": [
        "for x in range(1,10,-2): #Kita tentukan batas awal dan akhir serta beda range yang di gunakan\n",
        "  print(x)"
      ],
      "metadata": {
        "id": "HVnt_l6_0NU6"
      },
      "execution_count": null,
      "outputs": []
    },
    {
      "cell_type": "code",
      "source": [
        "#for untuk string\n",
        "isi = 'training'\n",
        "\n",
        "for x in isi:\n",
        "  print(x)"
      ],
      "metadata": {
        "colab": {
          "base_uri": "https://localhost:8080/"
        },
        "id": "VM1M8QEg1_Ei",
        "outputId": "29d077c8-4826-40c4-c7e5-122602a7644d"
      },
      "execution_count": null,
      "outputs": [
        {
          "output_type": "stream",
          "name": "stdout",
          "text": [
            "t\n",
            "r\n",
            "a\n",
            "i\n",
            "n\n",
            "i\n",
            "n\n",
            "g\n"
          ]
        }
      ]
    },
    {
      "cell_type": "code",
      "source": [
        "#for untuk list\n",
        "\n",
        "data=['testing','sample','coba']\n",
        "\n",
        "for x in data:\n",
        "  print(x)\n",
        "\n",
        "#mencetak indeks dan nilai secara bersama\n",
        "\n",
        "for idx, x in enumerate(data):\n",
        "  print(idx,x)"
      ],
      "metadata": {
        "colab": {
          "base_uri": "https://localhost:8080/"
        },
        "id": "cCwZI93L2oX3",
        "outputId": "01742ff2-c6de-4eb8-e158-15ba9fefa3fb"
      },
      "execution_count": null,
      "outputs": [
        {
          "output_type": "stream",
          "name": "stdout",
          "text": [
            "testing\n",
            "sample\n",
            "coba\n",
            "0 testing\n",
            "1 sample\n",
            "2 coba\n"
          ]
        }
      ]
    },
    {
      "cell_type": "code",
      "source": [
        "buah=['apple','banan','mango']\n",
        "warna=['red','yellow','green']\n",
        "\n",
        "for buah,warna in zip(buah,warna):\n",
        "  print(f\"the color of {buah} is {warna}\")\n"
      ],
      "metadata": {
        "colab": {
          "base_uri": "https://localhost:8080/"
        },
        "id": "0paZQx1I3UR_",
        "outputId": "ed8e10cd-0c64-4b38-80cc-5061ad286936"
      },
      "execution_count": null,
      "outputs": [
        {
          "output_type": "stream",
          "name": "stdout",
          "text": [
            "the color of apple is red\n",
            "the color of banan is yellow\n",
            "the color of mango is green\n"
          ]
        }
      ]
    },
    {
      "cell_type": "code",
      "source": [
        "#for pada dictionary, ngebaca key\n",
        "\n",
        "member = {\"nama\":\"someone\",\"nilai\":75,\"kredit\":15000} #untuk membaca key dict\n",
        "print(member)\n",
        "\n",
        "print(\" \") #bertindak sebagai enter\n",
        "\n",
        "for k in member:\n",
        "    print(k)\n",
        "\n",
        "print(\"\\n\")\n",
        "\n",
        "for k in member:\n",
        "    print(member[k])\n",
        "\n",
        "print(\" \")\n",
        "\n",
        "for k in member:\n",
        "  print(k, \"=\", member[k])"
      ],
      "metadata": {
        "colab": {
          "base_uri": "https://localhost:8080/"
        },
        "id": "MS2Xmk7u4eBx",
        "outputId": "cabc4528-ee73-4970-f20a-62e5d6d44f0c"
      },
      "execution_count": null,
      "outputs": [
        {
          "output_type": "stream",
          "name": "stdout",
          "text": [
            "{'nama': 'someone', 'nilai': 75, 'kredit': 15000}\n",
            " \n",
            "nama\n",
            "nilai\n",
            "kredit\n",
            "\n",
            "\n",
            "someone\n",
            "75\n",
            "15000\n",
            " \n",
            "nama = someone\n",
            "nilai = 75\n",
            "kredit = 15000\n"
          ]
        }
      ]
    },
    {
      "cell_type": "code",
      "source": [
        "#for pada dictionary, ngebaca key dan value\n",
        "\n",
        "member = {\"nama\":\"someone\",\"nilai\":75,\"kredit\":15000} #untuk membaca anggota list\n",
        "print(member)\n",
        "print(member.items())\n",
        "\n",
        "print(\" \")\n",
        "\n",
        "for (k,v) in member.items(): #menggunakan hasil dari member.items\n",
        "    print(k,\"=\",v)"
      ],
      "metadata": {
        "colab": {
          "base_uri": "https://localhost:8080/"
        },
        "id": "6qzcQXJA6ROQ",
        "outputId": "36c33d39-c45a-4a92-e9a5-f02579a0d521"
      },
      "execution_count": null,
      "outputs": [
        {
          "output_type": "stream",
          "name": "stdout",
          "text": [
            "{'nama': 'someone', 'nilai': 75, 'kredit': 15000}\n",
            "dict_items([('nama', 'someone'), ('nilai', 75), ('kredit', 15000)])\n",
            " \n",
            "nama = someone\n",
            "nilai = 75\n",
            "kredit = 15000\n"
          ]
        }
      ]
    },
    {
      "cell_type": "markdown",
      "source": [
        "##Matrikulasi"
      ],
      "metadata": {
        "id": "bsq6rx76dy4z"
      }
    },
    {
      "cell_type": "code",
      "source": [
        "library = {\n",
        "    'book' : {'Author' : ['Robert','Opet'],\n",
        "              'judul': ['batman','Nuclear'],\n",
        "              'tahun_terbit': [2019,2020,2]}\n",
        "}"
      ],
      "metadata": {
        "id": "4WAaJkXtd2_r"
      },
      "execution_count": null,
      "outputs": []
    },
    {
      "cell_type": "code",
      "source": [
        "library['book']['judul'][1]"
      ],
      "metadata": {
        "colab": {
          "base_uri": "https://localhost:8080/",
          "height": 35
        },
        "id": "HG9zNDoBeQcg",
        "outputId": "116fd558-04c8-45a3-e145-16af2d6eb795"
      },
      "execution_count": null,
      "outputs": [
        {
          "output_type": "execute_result",
          "data": {
            "text/plain": [
              "'Nuclear'"
            ],
            "application/vnd.google.colaboratory.intrinsic+json": {
              "type": "string"
            }
          },
          "metadata": {},
          "execution_count": 100
        }
      ]
    },
    {
      "cell_type": "code",
      "source": [
        "# Inisialisasi variabel untuk menyimpan informasi transaksi\n",
        "transactions = []\n",
        "\n",
        "# Inisialisasi variabel untuk total transaksi dan total pendapatan\n",
        "total_transactions = 0\n",
        "total_income = 0.0\n",
        "\n",
        "# Dictionary untuk menyimpan jumlah penjualan setiap menu\n",
        "menu_sales = {}\n",
        "\n",
        "# List untuk menyimpan nama pelanggan pada transaksi pertama dan terakhir\n",
        "first_customers = []\n",
        "last_customers = []\n",
        "\n",
        "# Contoh transaksi\n",
        "transaction1 = {\n",
        "    \"customer_name\": \"John\",\n",
        "    \"ordered_items\": [\"Kopi\", \"Kue Croissant\"],\n",
        "    \"total_amount\": 10.50\n",
        "}\n",
        "transactions.append(transaction1)\n",
        "total_transactions += 1\n",
        "total_income += transaction1[\"total_amount\"]\n",
        "\n",
        "# Update penjualan menu\n",
        "for item in transaction1[\"ordered_items\"]:\n",
        "    menu_sales[item] = menu_sales.get(item, 0) + 1\n",
        "\n",
        "# Menyimpan nama pelanggan transaksi pertama\n",
        "first_customers.append((transaction1[\"customer_name\"], transaction1[\"ordered_items\"]))\n",
        "\n",
        "# Menyimpan nama pelanggan transaksi terakhir\n",
        "last_customers = [(transaction1[\"customer_name\"], transaction1[\"ordered_items\"])]\n",
        "\n",
        "# Contoh transaksi lain\n",
        "transaction2 = {\n",
        "    \"customer_name\": \"Alice\",\n",
        "    \"ordered_items\": [\"Kopi\"],\n",
        "    \"total_amount\": 3.50\n",
        "}\n",
        "transactions.append(transaction2)\n",
        "total_transactions += 1\n",
        "total_income += transaction2[\"total_amount\"]\n",
        "\n",
        "for item in transaction2[\"ordered_items\"]:\n",
        "    menu_sales[item] = menu_sales.get(item, 0) + 1\n",
        "\n",
        "last_customers = [(transaction2[\"customer_name\"], transaction2[\"ordered_items\"])]\n",
        "\n",
        "# Contoh transaksi lainnya\n",
        "transaction3 = {\n",
        "    \"customer_name\": \"Bob\",\n",
        "    \"ordered_items\": [\"Es Teh\"],\n",
        "    \"total_amount\": 2.00\n",
        "}\n",
        "transactions.append(transaction3)\n",
        "total_transactions += 1\n",
        "total_income += transaction3[\"total_amount\"]\n",
        "\n",
        "for item in transaction3[\"ordered_items\"]:\n",
        "    menu_sales[item] = menu_sales.get(item, 0) + 1\n",
        "\n",
        "last_customers = [(transaction3[\"customer_name\"], transaction3[\"ordered_items\"])]\n",
        "\n",
        "# Menampilkan informasi pada akhir hari\n",
        "print(\"Total Transaksi:\", total_transactions)\n",
        "print(\"Total Pendapatan:\", total_income)\n",
        "print(\"Penjualan Menu:\", menu_sales)\n",
        "print(\"Pelanggan Pertama:\", first_customers)\n",
        "print(\"Pelanggan Terakhir:\", last_customers)\n"
      ],
      "metadata": {
        "colab": {
          "base_uri": "https://localhost:8080/"
        },
        "id": "qNgjR-iigTJe",
        "outputId": "ff344ff6-7208-4bf6-fbdb-782a5d9f0179"
      },
      "execution_count": null,
      "outputs": [
        {
          "output_type": "stream",
          "name": "stdout",
          "text": [
            "Total Transaksi: 3\n",
            "Total Pendapatan: 16.0\n",
            "Penjualan Menu: {'Kopi': 2, 'Kue Croissant': 1, 'Es Teh': 1}\n",
            "Pelanggan Pertama: [('John', ['Kopi', 'Kue Croissant'])]\n",
            "Pelanggan Terakhir: [('Bob', ['Es Teh'])]\n"
          ]
        }
      ]
    },
    {
      "cell_type": "markdown",
      "source": [
        "#Day 6 kamis 28-03-2024"
      ],
      "metadata": {
        "id": "GImT5dZOodM4"
      }
    },
    {
      "cell_type": "markdown",
      "source": [
        "##Lest Practic"
      ],
      "metadata": {
        "id": "v1CU-ODXohKa"
      }
    },
    {
      "cell_type": "markdown",
      "source": [
        "### Block Statment"
      ],
      "metadata": {
        "id": "qVIZkZZzojFv"
      }
    },
    {
      "cell_type": "code",
      "source": [
        "print('Membuat barisan bilangan ganjil atau genap')\n",
        "\n",
        "print('\\n Masukan nilai awal dan nilai akhir(nilai_awal < nilai akhir)')\n",
        "nilai_awal=int(input('Nilai Awal: '))\n",
        "nilai_akhir=int(input('Nilai Akhir: '))\n",
        "\n",
        "print('''\\nMau Barisan Bilangan apa\n",
        "1.Ganjil\n",
        "2.Genap''')\n",
        "pilihan=int(input('1 atau 2?'))\n",
        "\n",
        "print('\\n')\n",
        "if pilihan not in [1,2]:\n",
        "  print('pilihan salah!')\n",
        "else:\n",
        "  for x in range(nilai_awal,nilai_akhir+1):\n",
        "    if pilihan == 1 and x % 2 == 1:\n",
        "      print(x,end=' ')\n",
        "    elif pilihan == 2 and x % 2 == 0:\n",
        "      print(x,end=' ')"
      ],
      "metadata": {
        "colab": {
          "base_uri": "https://localhost:8080/"
        },
        "id": "q3pDtfn1olcO",
        "outputId": "ede58eb3-eac3-454e-9004-5d5e9bc18100"
      },
      "execution_count": null,
      "outputs": [
        {
          "output_type": "stream",
          "name": "stdout",
          "text": [
            "Membuat barisan bilangan ganjil atau genap\n",
            "\n",
            " Masukan nilai awal dan nilai akhir(nilai_awal < nilai akhir)\n",
            "Nilai Awal: 12\n",
            "Nilai Akhir: 12\n",
            "\n",
            "Mau Barisan Bilangan apa\n",
            "1.Ganjil\n",
            "2.Genap\n",
            "1 atau 2?1\n",
            "\n",
            "\n"
          ]
        }
      ]
    },
    {
      "cell_type": "markdown",
      "source": [
        "#### While statement"
      ],
      "metadata": {
        "id": "2Ds7uhvXuX6_"
      }
    },
    {
      "cell_type": "markdown",
      "source": [
        "A while statement in python sets aside a block of code that is to be executed repeatedly until a condition is falsified."
      ],
      "metadata": {
        "id": "6rdZdyPwubPJ"
      }
    },
    {
      "cell_type": "code",
      "source": [
        "#while True:\n",
        "#  print('Welcome to celerates training')"
      ],
      "metadata": {
        "id": "49BTkMDyufJv"
      },
      "execution_count": null,
      "outputs": []
    },
    {
      "cell_type": "code",
      "source": [
        "angka = 0\n",
        "\n",
        "while angka < 5:\n",
        "  print('Welcome to celerates training')\n",
        "  angka +=1"
      ],
      "metadata": {
        "colab": {
          "base_uri": "https://localhost:8080/"
        },
        "id": "AmkKfGl9vM50",
        "outputId": "05308234-1d61-44ea-fdaa-12fc90bfaa00"
      },
      "execution_count": null,
      "outputs": [
        {
          "output_type": "stream",
          "name": "stdout",
          "text": [
            "Welcome to celerates training\n",
            "Welcome to celerates training\n",
            "Welcome to celerates training\n",
            "Welcome to celerates training\n",
            "Welcome to celerates training\n"
          ]
        }
      ]
    },
    {
      "cell_type": "code",
      "source": [
        "angka = 1\n",
        "\n",
        "while angka < 10:\n",
        "  print('Bilangan ke :', angka)\n",
        "  angka +=2 #syarat supaya berhenti\n",
        "else: #while bisa ditambahin block else\n",
        "  print('Loop diakhiri dengan bilangan: ',angka)"
      ],
      "metadata": {
        "colab": {
          "base_uri": "https://localhost:8080/"
        },
        "id": "irMiCb3nwPVL",
        "outputId": "86331dab-37b3-43e1-dbf8-bf76981e71c3"
      },
      "execution_count": null,
      "outputs": [
        {
          "output_type": "stream",
          "name": "stdout",
          "text": [
            "Bilangan ke : 1\n",
            "Bilangan ke : 3\n",
            "Bilangan ke : 5\n",
            "Bilangan ke : 7\n",
            "Bilangan ke : 9\n",
            "Loop diakhiri dengan bilangan:  11\n"
          ]
        }
      ]
    },
    {
      "cell_type": "code",
      "source": [
        "import random\n",
        "\n",
        "jawaban = random.randint(1,10)\n",
        "tebakan = int(input('Pilih bilangan antara 1 - 10: '))\n",
        "\n",
        "while tebakan != jawaban:\n",
        "  tebakan=int(input('Salah woy! cobah pilih lagi 1-10'))\n",
        "print('Selamat!Tebakan anda')"
      ],
      "metadata": {
        "colab": {
          "base_uri": "https://localhost:8080/"
        },
        "id": "VX8eMR1yxkCD",
        "outputId": "33aec1c6-bfcf-4c1a-9b71-cf2a5b573725"
      },
      "execution_count": null,
      "outputs": [
        {
          "output_type": "stream",
          "name": "stdout",
          "text": [
            "Pilih bilangan antara 1 - 10: 1\n",
            "Salah woy! cobah pilih lagi 1-101\n",
            "Salah woy! cobah pilih lagi 1-1012\n",
            "Salah woy! cobah pilih lagi 1-103\n",
            "Salah woy! cobah pilih lagi 1-104\n",
            "Salah woy! cobah pilih lagi 1-105\n",
            "Salah woy! cobah pilih lagi 1-106\n",
            "Salah woy! cobah pilih lagi 1-107\n",
            "Salah woy! cobah pilih lagi 1-108\n",
            "Selamat!Tebakan anda\n"
          ]
        }
      ]
    },
    {
      "cell_type": "code",
      "source": [
        "import random as rd\n",
        "answer = rd.randint(1, 100)\n",
        "print(\"Tebak angka antara 1-100\")\n",
        "while True:\n",
        "    guess = int(input(\"Tebakan: \"))\n",
        "    if guess == answer:\n",
        "        print(\"Tebakan benar\", guess)\n",
        "        break\n",
        "    elif guess < answer:\n",
        "        print(guess, \"Tebakan terlalu kecil\")\n",
        "    else:\n",
        "        print(guess, \"Tebakan terlalu besar\")"
      ],
      "metadata": {
        "id": "BKBm3x2AzekM",
        "colab": {
          "base_uri": "https://localhost:8080/"
        },
        "outputId": "6917b1cd-802b-4427-eddb-7a301e1bcd85"
      },
      "execution_count": null,
      "outputs": [
        {
          "output_type": "stream",
          "name": "stdout",
          "text": [
            "Tebak angka antara 1-100\n",
            "Tebakan: 12\n",
            "12 Tebakan terlalu kecil\n",
            "Tebakan: 4\n",
            "4 Tebakan terlalu kecil\n",
            "Tebakan: 44\n",
            "44 Tebakan terlalu besar\n",
            "Tebakan: 33\n",
            "33 Tebakan terlalu besar\n",
            "Tebakan: 22\n",
            "22 Tebakan terlalu kecil\n",
            "Tebakan: 26\n",
            "26 Tebakan terlalu besar\n",
            "Tebakan: 24\n",
            "Tebakan benar 24\n"
          ]
        }
      ]
    },
    {
      "cell_type": "markdown",
      "source": [
        "#### Execption Statement"
      ],
      "metadata": {
        "id": "0acOxJ9E17H9"
      }
    },
    {
      "cell_type": "markdown",
      "source": [
        "An event, which occurs during the execution of a program that disrupts the normal flow of the program's instructions"
      ],
      "metadata": {
        "id": "15xKTEzR2ONh"
      }
    },
    {
      "cell_type": "code",
      "source": [
        "#block exception handling\n",
        "#run error namun masih bisa dijalankan\n",
        "#block except bisa lebih satu\n",
        "#block finally bisa ditambahkan tanpa syarat tertentu untuk menjalankan running\n",
        "#kalo sukses try langsung ke finally\n",
        "#jika error try ke except baru ke finally\n",
        "a = 4\n",
        "b = 'test'\n",
        "#c = a + b\n",
        "#print(c)\n",
        "try:\n",
        "  c = a + b\n",
        "  print(c)\n",
        "except Exception as error:\n",
        "  print('Erorr: ', error)"
      ],
      "metadata": {
        "id": "rXFWVVAb2lCY",
        "colab": {
          "base_uri": "https://localhost:8080/"
        },
        "outputId": "6c774838-8e92-4549-abda-c12871571290"
      },
      "execution_count": null,
      "outputs": [
        {
          "output_type": "stream",
          "name": "stdout",
          "text": [
            "Erorr:  unsupported operand type(s) for +: 'int' and 'str'\n"
          ]
        }
      ]
    },
    {
      "cell_type": "markdown",
      "source": [],
      "metadata": {
        "id": "l1H1PS0l51G0"
      }
    },
    {
      "cell_type": "code",
      "source": [
        "a = 4\n",
        "b = 'test'\n",
        "#c = a + b\n",
        "#print(c)\n",
        "try:\n",
        "  c = a + b\n",
        "  print(c)\n",
        "except Exception as error:\n",
        "  print('Erorr: ', error)\n",
        "finally:\n",
        "  print('Done!')"
      ],
      "metadata": {
        "id": "c2yu-Div6RwG",
        "colab": {
          "base_uri": "https://localhost:8080/"
        },
        "outputId": "32f02ff7-fccb-4f2a-8210-e6ad51b04f8f"
      },
      "execution_count": null,
      "outputs": [
        {
          "output_type": "stream",
          "name": "stdout",
          "text": [
            "Erorr:  unsupported operand type(s) for +: 'int' and 'str'\n",
            "Done!\n"
          ]
        }
      ]
    },
    {
      "cell_type": "code",
      "source": [
        "isi=[1,2,3,4,5]\n",
        "#print(isi[6])\n",
        "\n",
        "try:\n",
        "  print(isi[6])\n",
        "except IndexError as a:\n",
        "  print('Error: ',a)\n",
        "except Exception as e:\n",
        "  print('Error: ',e)\n",
        "finally:\n",
        "  print('Done!')"
      ],
      "metadata": {
        "id": "IdKehsKq6kSt",
        "colab": {
          "base_uri": "https://localhost:8080/"
        },
        "outputId": "292b0204-e299-47b1-a189-57f2bdafa28c"
      },
      "execution_count": null,
      "outputs": [
        {
          "output_type": "stream",
          "name": "stdout",
          "text": [
            "Error:  list index out of range\n",
            "Done!\n"
          ]
        }
      ]
    },
    {
      "cell_type": "code",
      "source": [
        "isi=[1,2,3,4,5]\n",
        "#print(isi[6])\n",
        "\n",
        "try:\n",
        "  print(isi['Test'])\n",
        "except IndexError as a:\n",
        "  print('No Data Available',a)\n",
        "except Exception as e:\n",
        "  print('Index Must be numerc ',e)\n",
        "except Exception as b:\n",
        "  print('error:',b)\n",
        "finally:\n",
        "  print('Done!')"
      ],
      "metadata": {
        "id": "jS_IICp170z2",
        "colab": {
          "base_uri": "https://localhost:8080/"
        },
        "outputId": "a2d962c9-e2f2-4734-8ef2-df379bb6642e"
      },
      "execution_count": null,
      "outputs": [
        {
          "output_type": "stream",
          "name": "stdout",
          "text": [
            "Index Must be numerc  list indices must be integers or slices, not str\n",
            "Done!\n"
          ]
        }
      ]
    },
    {
      "cell_type": "code",
      "source": [
        "while True:\n",
        "  try:\n",
        "    x=float(input('Masukan Bilangan Pertama: '))\n",
        "    y=float(input('Masukan Bilangan Kedua: '))\n",
        "    result=x/y\n",
        "    print('Hasil Pembagianya adalah',result)\n",
        "    break\n",
        "  except ValueError:\n",
        "    print('Anda harus masukan bilangan')\n",
        "  except ZeroDivisionError:\n",
        "    print('Bilangan kedua tidak boleh nol')\n",
        "  except Exception as a:\n",
        "    print('Error:',a)"
      ],
      "metadata": {
        "id": "78d7cyz287yl",
        "colab": {
          "base_uri": "https://localhost:8080/"
        },
        "outputId": "f21fb621-9ccc-435b-8c21-201405d0d1ad"
      },
      "execution_count": null,
      "outputs": [
        {
          "output_type": "stream",
          "name": "stdout",
          "text": [
            "Masukan Bilangan Pertama: 1\n",
            "Masukan Bilangan Kedua: 3\n",
            "Hasil Pembagianya adalah 0.3333333333333333\n"
          ]
        }
      ]
    },
    {
      "cell_type": "markdown",
      "source": [
        "### Function"
      ],
      "metadata": {
        "id": "HSuKRdL6AAmz"
      }
    },
    {
      "cell_type": "markdown",
      "source": [
        "A function is a block of code which only runs when it is called"
      ],
      "metadata": {
        "id": "x-5u0CORAF8r"
      }
    },
    {
      "cell_type": "code",
      "source": [
        "def pesan(): #deklarasi untuk membuat function\n",
        "  print('Welcome')\n",
        "  return #harus ada dia sebagai akhiran dari fungsi def dan bisa sebagaipengembali nilai dari sebuah function"
      ],
      "metadata": {
        "id": "oOamzp7yARf-"
      },
      "execution_count": null,
      "outputs": []
    },
    {
      "cell_type": "code",
      "source": [
        "pesan()"
      ],
      "metadata": {
        "id": "RMgxEvv-Aa-2",
        "colab": {
          "base_uri": "https://localhost:8080/"
        },
        "outputId": "1a0ff177-e5b3-40dc-9962-a7b75542659d"
      },
      "execution_count": null,
      "outputs": [
        {
          "output_type": "stream",
          "name": "stdout",
          "text": [
            "Welcome\n"
          ]
        }
      ]
    },
    {
      "cell_type": "code",
      "source": [
        "def perkalian(x,y):\n",
        "  print(x*y)"
      ],
      "metadata": {
        "id": "QI_JvTiOBtMb"
      },
      "execution_count": null,
      "outputs": []
    },
    {
      "cell_type": "code",
      "source": [
        "perkalian(2,7)"
      ],
      "metadata": {
        "id": "v4Tj9XmtBtJC",
        "colab": {
          "base_uri": "https://localhost:8080/"
        },
        "outputId": "1dbd6980-4b02-4b83-adc0-1fc8f6c3882e"
      },
      "execution_count": null,
      "outputs": [
        {
          "output_type": "stream",
          "name": "stdout",
          "text": [
            "14\n"
          ]
        }
      ]
    },
    {
      "cell_type": "code",
      "source": [
        "def message(pesan):\n",
        "  print(pesan)"
      ],
      "metadata": {
        "id": "gzsUz-RFCL2K"
      },
      "execution_count": null,
      "outputs": []
    },
    {
      "cell_type": "code",
      "source": [
        "message('Selamat Datang') #jenis 1\n",
        "message(pesan='Selamat datang') #jenis 2"
      ],
      "metadata": {
        "id": "eqDqjGHoCYal",
        "colab": {
          "base_uri": "https://localhost:8080/"
        },
        "outputId": "d8726b7b-1677-4c28-c259-5728713a822f"
      },
      "execution_count": null,
      "outputs": [
        {
          "output_type": "stream",
          "name": "stdout",
          "text": [
            "Selamat Datang\n",
            "Selamat datang\n"
          ]
        }
      ]
    },
    {
      "cell_type": "markdown",
      "source": [
        "##matrikuasi\n"
      ],
      "metadata": {
        "id": "zvQR-MZ4ujE1"
      }
    },
    {
      "cell_type": "code",
      "source": [
        "menu_dict = {'soto':1000,\n",
        "             'baso':5000}"
      ],
      "metadata": {
        "id": "vhiI-aBdula3"
      },
      "execution_count": null,
      "outputs": []
    },
    {
      "cell_type": "code",
      "source": [
        "customer_name_list = []\n"
      ],
      "metadata": {
        "id": "553PTsaPu24h"
      },
      "execution_count": null,
      "outputs": []
    },
    {
      "cell_type": "markdown",
      "source": [
        "# Day 7 Senin 01-04-2024"
      ],
      "metadata": {
        "id": "zQ-UDJ17PA_o"
      }
    },
    {
      "cell_type": "markdown",
      "source": [],
      "metadata": {
        "id": "DGCqJk_tO_A8"
      }
    },
    {
      "cell_type": "markdown",
      "source": [
        "## Lest Practic"
      ],
      "metadata": {
        "id": "eaIHNAGgPDDZ"
      }
    },
    {
      "cell_type": "markdown",
      "source": [
        "### Fuction Lanjutan"
      ],
      "metadata": {
        "id": "dgxTsFXNPHKT"
      }
    },
    {
      "cell_type": "code",
      "source": [
        "def pembagian(x=1,y=1): #membuat default\n",
        "  return x/y\n",
        "print('Pembagian 20 dengan 3 adalah',pembagian(20,3 ))\n",
        "pembagian()\n",
        "pembagian(25)"
      ],
      "metadata": {
        "id": "qUv2sb_PPnQL",
        "colab": {
          "base_uri": "https://localhost:8080/"
        },
        "outputId": "546928ee-f567-49bc-df39-4efbe27e213d"
      },
      "execution_count": null,
      "outputs": [
        {
          "output_type": "stream",
          "name": "stdout",
          "text": [
            "Pembagian 20 dengan 3 adalah 6.666666666666667\n"
          ]
        },
        {
          "output_type": "execute_result",
          "data": {
            "text/plain": [
              "25.0"
            ]
          },
          "metadata": {},
          "execution_count": 121
        }
      ]
    },
    {
      "cell_type": "code",
      "source": [
        "def nilai(x,y,z):\n",
        "  return(x+y)/z\n",
        "print(nilai(2,3,5))"
      ],
      "metadata": {
        "id": "F1wAsToBQOVq",
        "colab": {
          "base_uri": "https://localhost:8080/"
        },
        "outputId": "98df69a6-ae17-49dd-8dd2-af9336c37bc0"
      },
      "execution_count": null,
      "outputs": [
        {
          "output_type": "stream",
          "name": "stdout",
          "text": [
            "1.0\n"
          ]
        }
      ]
    },
    {
      "cell_type": "code",
      "source": [
        "def jumlah(x,y,z):\n",
        "  return x+y+z\n",
        "print(jumlah(\"20\",'35','27')) #kalo string, jadinya nyatuin"
      ],
      "metadata": {
        "id": "sWhEpdQwQhDj",
        "colab": {
          "base_uri": "https://localhost:8080/"
        },
        "outputId": "c4a52c95-ef51-4a5b-dde3-57c82455b8c7"
      },
      "execution_count": null,
      "outputs": [
        {
          "output_type": "stream",
          "name": "stdout",
          "text": [
            "203527\n"
          ]
        }
      ]
    },
    {
      "cell_type": "code",
      "source": [
        "def add_number(x,y):\n",
        "  result=x+y\n",
        "  return result\n",
        "\n",
        "num1= float(input(\"masukan nilai x: \"))\n",
        "num2= float(input('masukan nilai y: '))\n",
        "\n",
        "sum=add_number(num1,num2)\n",
        "print(sum)"
      ],
      "metadata": {
        "id": "8S6tOYM7Q8Am",
        "colab": {
          "base_uri": "https://localhost:8080/"
        },
        "outputId": "63506673-720d-48c3-b61d-1c57ab0e33e4"
      },
      "execution_count": null,
      "outputs": [
        {
          "output_type": "stream",
          "name": "stdout",
          "text": [
            "masukan nilai x: 1\n",
            "masukan nilai y: 1\n",
            "2.0\n"
          ]
        }
      ]
    },
    {
      "cell_type": "code",
      "source": [
        "import math\n",
        "\n",
        "def hitung_keliling(jari_jari):\n",
        "  keliling=2*math.pi*jari_jari\n",
        "  return keliling\n",
        "\n",
        "def hitung_l(jari_jari):\n",
        "  luas=math.pi*jari_jari*jari_jari\n",
        "  return luas\n",
        "\n",
        "r=float(input('Masukan panjang jari-jari lingkaran: '))\n",
        "\n",
        "kll=hitung_keliling(r)\n",
        "L=hitung_l(r)\n",
        "\n",
        "print('keliling lingkaran adalah', kll)\n",
        "print('Luas lingkaran adalah', r)\n"
      ],
      "metadata": {
        "id": "LPE7hFZLSDcA",
        "colab": {
          "base_uri": "https://localhost:8080/"
        },
        "outputId": "e3f34226-e998-4e4e-f5fe-eff459e371d5"
      },
      "execution_count": null,
      "outputs": [
        {
          "output_type": "stream",
          "name": "stdout",
          "text": [
            "Masukan panjang jari-jari lingkaran: 1\n",
            "keliling lingkaran adalah 6.283185307179586\n",
            "Luas lingkaran adalah 1.0\n"
          ]
        }
      ]
    },
    {
      "cell_type": "code",
      "source": [
        "import math\n",
        "\n",
        "def hitung_luas_permukaan(r, t):\n",
        "    luas_permukaan = 2 * math.pi * r * (r + t)\n",
        "    return luas_permukaan\n",
        "\n",
        "def hitung_volume(r, t):\n",
        "    volume = math.pi * r * r * t\n",
        "    return volume\n",
        "\n",
        "r = float(input('Masukan panjang jari-jari lingkaran alas tabung: '))\n",
        "t = float(input('Masukan tinggi tabung: '))\n",
        "\n",
        "luas_permukaan = hitung_luas_permukaan(r, t)\n",
        "volume = hitung_volume(r, t)\n",
        "\n",
        "print('Luas permukaan tabung adalah', luas_permukaan)\n",
        "print('Volume tabung adalah', volume)\n"
      ],
      "metadata": {
        "id": "hamzCv2tTfjY",
        "colab": {
          "base_uri": "https://localhost:8080/"
        },
        "outputId": "0c4001bc-c0c2-423c-e5c8-6b711a8824c5"
      },
      "execution_count": null,
      "outputs": [
        {
          "output_type": "stream",
          "name": "stdout",
          "text": [
            "Masukan panjang jari-jari lingkaran alas tabung: 1\n",
            "Masukan tinggi tabung: 1\n",
            "Luas permukaan tabung adalah 12.566370614359172\n",
            "Volume tabung adalah 3.141592653589793\n"
          ]
        }
      ]
    },
    {
      "cell_type": "code",
      "source": [
        "def jumlah(x,y):\n",
        "  if isinstance(x,int) & isinstance(y,int):\n",
        "    return x+y\n",
        "  elif isinstance(x,str) & isinstance(y,str):\n",
        "    if x.isdigit() & y.isdigit():\n",
        "      return int(x) + int(y)\n",
        "    else:\n",
        "      return 'Sory, Number only'\n",
        "\n",
        "print(jumlah('2','3'))\n",
        "print(jumlah('2','3a'))\n",
        "print(jumlah(2,3))\n",
        "print(jumlah(2,4))\n",
        "\n",
        "\n"
      ],
      "metadata": {
        "id": "di1rYItfUesu",
        "colab": {
          "base_uri": "https://localhost:8080/"
        },
        "outputId": "fd4aeeba-568b-4ff6-b524-0889a30214dd"
      },
      "execution_count": null,
      "outputs": [
        {
          "output_type": "stream",
          "name": "stdout",
          "text": [
            "5\n",
            "Sory, Number only\n",
            "5\n",
            "6\n"
          ]
        }
      ]
    },
    {
      "cell_type": "code",
      "source": [
        "def jumlah(x, y):\n",
        "    if isinstance(x, int) and isinstance(y, int):\n",
        "        return x + y\n",
        "    elif isinstance(x, str) and isinstance(y, str):\n",
        "        if x.isdigit() and y.isdigit():\n",
        "            return int(x) + int(y)\n",
        "        else:\n",
        "            return 'Sorry, Number Only'\n",
        "    elif isinstance(x, str) and isinstance(y, int):\n",
        "        return 'Sorry, Number Only'\n",
        "    elif isinstance(x, int) and isinstance(y, str):\n",
        "        return 'Sorry, Number Only'\n",
        "print(jumlah('2','3'))\n",
        "print(jumlah('2','3a'))\n",
        "print(jumlah(2,3))\n",
        "print(jumlah(2,'4'))\n",
        "print(jumlah('2',3))\n",
        "\n"
      ],
      "metadata": {
        "id": "6xLfU1VvX7av",
        "colab": {
          "base_uri": "https://localhost:8080/"
        },
        "outputId": "eb6e35d5-8346-4112-ce6f-9b68c92d9602"
      },
      "execution_count": null,
      "outputs": [
        {
          "output_type": "stream",
          "name": "stdout",
          "text": [
            "5\n",
            "Sorry, Number Only\n",
            "5\n",
            "Sorry, Number Only\n",
            "Sorry, Number Only\n"
          ]
        }
      ]
    },
    {
      "cell_type": "code",
      "source": [
        "#membuat fungction untuk tipe data yang memiliki banyak nilai\n",
        "def totaldata(nilai):\n",
        "  total=0\n",
        "  if isinstance(nilai,list) | isinstance(nilai,tuple):\n",
        "    for value in nilai:\n",
        "      total += value\n",
        "  return total\n",
        "\n",
        "print(totaldata([1,2,3,4,5,6,7,8,9,10]))\n",
        "\n",
        "print(totaldata((1,2,3,4,5)))\n"
      ],
      "metadata": {
        "id": "ooBR68jnZVTd",
        "colab": {
          "base_uri": "https://localhost:8080/"
        },
        "outputId": "4d5ff4b2-b507-4db1-e8c9-00bb9c935de8"
      },
      "execution_count": null,
      "outputs": [
        {
          "output_type": "stream",
          "name": "stdout",
          "text": [
            "55\n",
            "15\n"
          ]
        }
      ]
    },
    {
      "cell_type": "code",
      "source": [],
      "metadata": {
        "id": "JrtgTppBbfKX"
      },
      "execution_count": null,
      "outputs": []
    },
    {
      "cell_type": "markdown",
      "source": [
        "### lambda\n"
      ],
      "metadata": {
        "id": "Nm9a6QQKbbgb"
      }
    },
    {
      "cell_type": "markdown",
      "source": [
        "Lambda is a keyword in Python for defining the anonymous function"
      ],
      "metadata": {
        "id": "mXvoWhSKbq_1"
      }
    },
    {
      "cell_type": "code",
      "source": [
        "perkalian=lambda x,y: x*y; #seperti variable tapi isinya function\n",
        "\n",
        "print(perkalian(5,4))\n",
        "print(perkalian(5,'a'))\n"
      ],
      "metadata": {
        "id": "Dz3kLnAYbx8H",
        "colab": {
          "base_uri": "https://localhost:8080/"
        },
        "outputId": "929b4bb1-6e42-4405-b7a4-b32857cc69e8"
      },
      "execution_count": null,
      "outputs": [
        {
          "output_type": "stream",
          "name": "stdout",
          "text": [
            "20\n",
            "aaaaa\n"
          ]
        }
      ]
    },
    {
      "cell_type": "markdown",
      "source": [
        "### Class"
      ],
      "metadata": {
        "id": "6k4Lds2vc0Ca"
      }
    },
    {
      "cell_type": "markdown",
      "source": [
        "A class is a code template for creating objects. Objects have member variables and have behaviour associated with them. In python a class is created by the keyword class"
      ],
      "metadata": {
        "id": "MgxQ_v-xdA7m"
      }
    },
    {
      "cell_type": "code",
      "source": [
        "class biodata:\n",
        "  basicsalary = 500000\n",
        "\n",
        "  def isidata(self, nama, telp):\n",
        "    self.fullname = nama\n",
        "    self.phone = telp\n",
        "\n",
        "  def cetakdata(self):\n",
        "    print('Full Name: ', self.fullname)\n",
        "    print('Phone Number: ', self.phone)\n"
      ],
      "metadata": {
        "id": "V0vXUri0dOd-"
      },
      "execution_count": null,
      "outputs": []
    },
    {
      "cell_type": "code",
      "source": [
        "data = biodata()\n",
        "\n",
        "data.isidata('Amir','12345678')\n",
        "data.cetakdata()"
      ],
      "metadata": {
        "id": "phzuRUckeEud",
        "colab": {
          "base_uri": "https://localhost:8080/"
        },
        "outputId": "86f5e0b0-3b95-46c4-911a-eadc31e80dfd"
      },
      "execution_count": null,
      "outputs": [
        {
          "output_type": "stream",
          "name": "stdout",
          "text": [
            "Full Name:  Amir\n",
            "Phone Number:  12345678\n"
          ]
        }
      ]
    },
    {
      "cell_type": "code",
      "source": [
        "data.email = 'amir@gmail.com' #untuk menambahkan properti\n",
        "hasattr(data,'gender') #cek properti data\n",
        "hasattr(data,'email')\n",
        "setattr(data,'gendar','male')"
      ],
      "metadata": {
        "id": "UKML0EmxhaNw"
      },
      "execution_count": null,
      "outputs": []
    },
    {
      "cell_type": "code",
      "source": [
        "hasattr(data,'gender')"
      ],
      "metadata": {
        "id": "zkSOHrhjhnec",
        "colab": {
          "base_uri": "https://localhost:8080/"
        },
        "outputId": "fcb68adc-b54c-4255-87cd-b48f265d2a45"
      },
      "execution_count": null,
      "outputs": [
        {
          "output_type": "execute_result",
          "data": {
            "text/plain": [
              "False"
            ]
          },
          "metadata": {},
          "execution_count": 134
        }
      ]
    },
    {
      "cell_type": "code",
      "source": [
        "hasattr(data,'email')"
      ],
      "metadata": {
        "id": "R0UrSflxiLfs",
        "colab": {
          "base_uri": "https://localhost:8080/"
        },
        "outputId": "052d6d17-eb2f-43bd-d387-21b5469881d9"
      },
      "execution_count": null,
      "outputs": [
        {
          "output_type": "execute_result",
          "data": {
            "text/plain": [
              "True"
            ]
          },
          "metadata": {},
          "execution_count": 135
        }
      ]
    },
    {
      "cell_type": "code",
      "source": [
        "print('nama',data.fullname)\n",
        "print('nama',data.gendar)\n",
        "print('nama',data.email)\n",
        "print('nama',data.phone)\n",
        "print('nama',data.basicsalary)\n",
        "\n",
        "\n",
        "\n"
      ],
      "metadata": {
        "id": "75N0NS9diNdo",
        "colab": {
          "base_uri": "https://localhost:8080/"
        },
        "outputId": "86839d28-8d4a-4fb0-e535-ea4fc7632adf"
      },
      "execution_count": null,
      "outputs": [
        {
          "output_type": "stream",
          "name": "stdout",
          "text": [
            "nama Amir\n",
            "nama male\n",
            "nama amir@gmail.com\n",
            "nama 12345678\n",
            "nama 500000\n"
          ]
        }
      ]
    },
    {
      "cell_type": "code",
      "source": [
        "class person:\n",
        "  def info(self,nama):\n",
        "    self.fullname=nama\n",
        "    if hasattr(self,'title'):\n",
        "      title=getattr(self,'title')\n",
        "      self.pesan='Welcome, '+title+ ' '+ nama\n",
        "    else:\n",
        "      self.pesan='Welcone, '+nama"
      ],
      "metadata": {
        "id": "odAuFLF0ili1"
      },
      "execution_count": null,
      "outputs": []
    },
    {
      "cell_type": "code",
      "source": [
        "p=person()\n",
        "p.title='Mr. '\n",
        "p.info('Amir')\n",
        "p.pesan"
      ],
      "metadata": {
        "id": "W8r6bVZmjE27",
        "colab": {
          "base_uri": "https://localhost:8080/",
          "height": 35
        },
        "outputId": "abf58c80-58b3-451b-8542-f202fa241556"
      },
      "execution_count": null,
      "outputs": [
        {
          "output_type": "execute_result",
          "data": {
            "text/plain": [
              "'Welcome, Mr.  Amir'"
            ],
            "application/vnd.google.colaboratory.intrinsic+json": {
              "type": "string"
            }
          },
          "metadata": {},
          "execution_count": 138
        }
      ]
    },
    {
      "cell_type": "code",
      "source": [
        "q=person()\n",
        "q.info('gema')\n",
        "q.pesan"
      ],
      "metadata": {
        "id": "TFsLfTQbkCk8",
        "colab": {
          "base_uri": "https://localhost:8080/",
          "height": 35
        },
        "outputId": "4d74ea65-ad52-495a-dd69-d057aa59ae7d"
      },
      "execution_count": null,
      "outputs": [
        {
          "output_type": "execute_result",
          "data": {
            "text/plain": [
              "'Welcone, gema'"
            ],
            "application/vnd.google.colaboratory.intrinsic+json": {
              "type": "string"
            }
          },
          "metadata": {},
          "execution_count": 139
        }
      ]
    },
    {
      "cell_type": "code",
      "source": [],
      "metadata": {
        "id": "Ruz1KzR-kM-2"
      },
      "execution_count": null,
      "outputs": []
    },
    {
      "cell_type": "markdown",
      "source": [
        "## matrikullasi"
      ],
      "metadata": {
        "id": "G2RA4xopStqj"
      }
    },
    {
      "cell_type": "code",
      "source": [],
      "metadata": {
        "id": "9w8BQmn3Sve_"
      },
      "execution_count": null,
      "outputs": []
    },
    {
      "cell_type": "markdown",
      "source": [
        "#Day 8 rabu 03-04-2024"
      ],
      "metadata": {
        "id": "GJYn6__QhHdO"
      }
    },
    {
      "cell_type": "markdown",
      "source": [
        "##Lest Practice\n",
        "\n"
      ],
      "metadata": {
        "id": "Vu3mD_F2h1Lm"
      }
    },
    {
      "cell_type": "markdown",
      "source": [
        "###Numpy"
      ],
      "metadata": {
        "id": "UC5Gk-m3h3wu"
      }
    },
    {
      "cell_type": "markdown",
      "source": [
        "NumPy is the fundamental package for scientific computing in Python. It is a Python library that provides a multidimensional array object, various derived objects (such as masked arrays and matrices), and an assortment of routines for fast operations on arrays, including mathematical, logical, shape manipulation, sorting, selecting, I/O, discrete Fourier transforms, basic linear algebra, basic statistical operations, random simulation and much more.\n",
        "\n",
        "(Check Numpy Documentation for more: https://numpy.org/doc/stable/user/)"
      ],
      "metadata": {
        "id": "eiUf9DIfiJ8S"
      }
    },
    {
      "cell_type": "code",
      "source": [
        "import numpy as np\n"
      ],
      "metadata": {
        "id": "mnklQqYFiMmd"
      },
      "execution_count": null,
      "outputs": []
    },
    {
      "cell_type": "code",
      "source": [
        "a_list=[1.0,2.0,3.0,4.0,5.0]\n",
        "print(a_list)\n",
        "a_list.append(6) #Nambahin Nilai\n",
        "print(a_list)\n",
        "a_list.remove(6) #Ngapus nilai\n",
        "print(a_list)\n",
        "a_list[1]=7.0 #replace\n",
        "print(a_list)\n",
        "\n",
        "print(type(a_list))"
      ],
      "metadata": {
        "id": "t4G7Fec5i7yK",
        "colab": {
          "base_uri": "https://localhost:8080/"
        },
        "outputId": "44aa64c4-599d-449e-91fe-eb91668bede7"
      },
      "execution_count": null,
      "outputs": [
        {
          "output_type": "stream",
          "name": "stdout",
          "text": [
            "[1.0, 2.0, 3.0, 4.0, 5.0]\n",
            "[1.0, 2.0, 3.0, 4.0, 5.0, 6]\n",
            "[1.0, 2.0, 3.0, 4.0, 5.0]\n",
            "[1.0, 7.0, 3.0, 4.0, 5.0]\n",
            "<class 'list'>\n"
          ]
        }
      ]
    },
    {
      "cell_type": "markdown",
      "source": [
        "###Numpy mirip seperti list, tapi numpy  immutable (append, remove, insert)"
      ],
      "metadata": {
        "id": "9Ahd8rABkP8c"
      }
    },
    {
      "cell_type": "markdown",
      "source": [
        "##### 1D Array"
      ],
      "metadata": {
        "id": "rInvJyEpmuRP"
      }
    },
    {
      "cell_type": "code",
      "source": [
        "#1DArray\n",
        "\n",
        "a_numpy=np.array(a_list)#mengubah bentuk list menjadi array 1D\n",
        "print(a_numpy)\n",
        "# a_numpy.append(5)\n",
        "a_numpy[1]=2.0\n",
        "print(a_numpy)"
      ],
      "metadata": {
        "id": "p0bPR6wnkR_o",
        "colab": {
          "base_uri": "https://localhost:8080/"
        },
        "outputId": "678a7585-7d26-4114-a9a8-8b6ca5a9ee79"
      },
      "execution_count": null,
      "outputs": [
        {
          "output_type": "stream",
          "name": "stdout",
          "text": [
            "[1. 7. 3. 4. 5.]\n",
            "[1. 2. 3. 4. 5.]\n"
          ]
        }
      ]
    },
    {
      "cell_type": "code",
      "source": [
        "#cek nilai di suatu indeks\n",
        "a_numpy[2]"
      ],
      "metadata": {
        "id": "du_fWdHEl8tL",
        "colab": {
          "base_uri": "https://localhost:8080/"
        },
        "outputId": "553e08bb-235f-456f-8ef3-3d48810475cf"
      },
      "execution_count": null,
      "outputs": [
        {
          "output_type": "execute_result",
          "data": {
            "text/plain": [
              "3.0"
            ]
          },
          "metadata": {},
          "execution_count": 143
        }
      ]
    },
    {
      "cell_type": "code",
      "source": [
        "#cek dimensi\n",
        "a_numpy.shape"
      ],
      "metadata": {
        "id": "xLYMRz2KmNgA",
        "colab": {
          "base_uri": "https://localhost:8080/"
        },
        "outputId": "04351726-cb06-45d2-b50f-a47455210b88"
      },
      "execution_count": null,
      "outputs": [
        {
          "output_type": "execute_result",
          "data": {
            "text/plain": [
              "(5,)"
            ]
          },
          "metadata": {},
          "execution_count": 144
        }
      ]
    },
    {
      "cell_type": "markdown",
      "source": [
        "######Multidimensi Array(Matriks = 2D)"
      ],
      "metadata": {
        "id": "MnC5T3ximxbU"
      }
    },
    {
      "cell_type": "markdown",
      "source": [
        "- struktur data disebut sebagai ndarray (number of dimension dr array-nya)\n",
        "- array bisa dibentuk menjadi dimensi yang lebih dari 2 tergantung pendefinisiannya\n",
        "- sebuah array yang memiliki dimensi 2 disebut sbg matriks"
      ],
      "metadata": {
        "id": "Dt7U7hUBm_Ir"
      }
    },
    {
      "cell_type": "code",
      "source": [
        "b_list=[1,2,3,4,5]\n",
        "print(b_list)\n",
        "print(len(b_list))\n",
        "\n",
        "c_list=[[1,2,3,4,5]]\n",
        "print(len(c_list))"
      ],
      "metadata": {
        "id": "vGy8TajgmwtU",
        "colab": {
          "base_uri": "https://localhost:8080/"
        },
        "outputId": "704c7ba8-c31f-4d2e-be2b-ac3fa7d29a05"
      },
      "execution_count": null,
      "outputs": [
        {
          "output_type": "stream",
          "name": "stdout",
          "text": [
            "[1, 2, 3, 4, 5]\n",
            "5\n",
            "1\n"
          ]
        }
      ]
    },
    {
      "cell_type": "code",
      "source": [
        "#cek shape ketika dibuat matriks dengan 1 baris list\n",
        "c_numpy=np.array(c_list)\n",
        "print(c_numpy)\n",
        "print(type(c_numpy))\n",
        "print(c_numpy.shape)"
      ],
      "metadata": {
        "id": "21NYAVuEm_39",
        "colab": {
          "base_uri": "https://localhost:8080/"
        },
        "outputId": "59045b9b-f36a-4630-a867-844dbae599d5"
      },
      "execution_count": null,
      "outputs": [
        {
          "output_type": "stream",
          "name": "stdout",
          "text": [
            "[[1 2 3 4 5]]\n",
            "<class 'numpy.ndarray'>\n",
            "(1, 5)\n"
          ]
        }
      ]
    },
    {
      "cell_type": "code",
      "source": [
        "a=[[1,2,3],[4,5,6],[7,8,9],[10,11,12]]\n",
        "\n",
        "print(a)\n",
        "print(a[1][1])\n",
        "print(type(a))"
      ],
      "metadata": {
        "id": "Y96iypEmoaz6",
        "colab": {
          "base_uri": "https://localhost:8080/"
        },
        "outputId": "13174b1a-07e7-4c6b-999b-f61089e08f18"
      },
      "execution_count": null,
      "outputs": [
        {
          "output_type": "stream",
          "name": "stdout",
          "text": [
            "[[1, 2, 3], [4, 5, 6], [7, 8, 9], [10, 11, 12]]\n",
            "5\n",
            "<class 'list'>\n"
          ]
        }
      ]
    },
    {
      "cell_type": "code",
      "source": [
        "matriks_a = np.array(a)\n",
        "print(matriks_a)\n",
        "print(type(matriks_a))\n",
        "print('ambil 1 array',matriks_a[2])#Ngambil 1 baris berdasarkan indeks\n",
        "print('ambil suatu nilai di sebuah array: ',matriks_a[1,1]) #mengambil spesifik nilai dari matriks\n",
        "print('ambil suatu nilai di sebuah array: ',matriks_a[2,1]) #mengambil spesifik nilai dari matriks\n",
        "print(type(matriks_a))\n",
        "print(matriks_a.shape)"
      ],
      "metadata": {
        "id": "mSd4AuyGoze6",
        "colab": {
          "base_uri": "https://localhost:8080/"
        },
        "outputId": "17b2bb15-c6ea-4a0c-e286-40096bdbea7a"
      },
      "execution_count": null,
      "outputs": [
        {
          "output_type": "stream",
          "name": "stdout",
          "text": [
            "[[ 1  2  3]\n",
            " [ 4  5  6]\n",
            " [ 7  8  9]\n",
            " [10 11 12]]\n",
            "<class 'numpy.ndarray'>\n",
            "ambil 1 array [7 8 9]\n",
            "ambil suatu nilai di sebuah array:  5\n",
            "ambil suatu nilai di sebuah array:  8\n",
            "<class 'numpy.ndarray'>\n",
            "(4, 3)\n"
          ]
        }
      ]
    },
    {
      "cell_type": "code",
      "source": [
        "print('dimensi: ', matriks_a.ndim)#cek dimensi\n",
        "print('ordo: ', matriks_a.shape)#cek ukuran\n",
        "print('item: ', matriks_a.size)#cek total element"
      ],
      "metadata": {
        "id": "ez1BnLj1rA_Q",
        "colab": {
          "base_uri": "https://localhost:8080/"
        },
        "outputId": "8f931bd7-c31d-49d3-d8ea-7be9fbce983c"
      },
      "execution_count": null,
      "outputs": [
        {
          "output_type": "stream",
          "name": "stdout",
          "text": [
            "dimensi:  2\n",
            "ordo:  (4, 3)\n",
            "item:  12\n"
          ]
        }
      ]
    },
    {
      "cell_type": "code",
      "source": [
        "#membuat matriks 0\n",
        "\n",
        "matriks_nol=np.zeros((4,2))\n",
        "print(matriks_nol)\n",
        "\n",
        "#membuat matriks 1\n",
        "matriks_satu=np.ones((4,4))\n",
        "print(matriks_satu)\n",
        "\n",
        "#matriks identitas\n",
        "matriks_identitas=np.eye((2))\n",
        "print(matriks_identitas)"
      ],
      "metadata": {
        "id": "ph99Unxtss3Q",
        "colab": {
          "base_uri": "https://localhost:8080/"
        },
        "outputId": "b6ef72e5-7086-4b92-a387-d118c28d7f2e"
      },
      "execution_count": null,
      "outputs": [
        {
          "output_type": "stream",
          "name": "stdout",
          "text": [
            "[[0. 0.]\n",
            " [0. 0.]\n",
            " [0. 0.]\n",
            " [0. 0.]]\n",
            "[[1. 1. 1. 1.]\n",
            " [1. 1. 1. 1.]\n",
            " [1. 1. 1. 1.]\n",
            " [1. 1. 1. 1.]]\n",
            "[[1. 0.]\n",
            " [0. 1.]]\n"
          ]
        }
      ]
    },
    {
      "cell_type": "markdown",
      "source": [
        "##### indexing numpy"
      ],
      "metadata": {
        "id": "C78_s9iwuLyy"
      }
    },
    {
      "cell_type": "code",
      "source": [
        "x=np.array([[1,2,3,4],[5,6,7,8],[9,10,11,12]])\n",
        "print(x)\n",
        "print('\\n')\n",
        "\n",
        "#indexing 1 elemen\n",
        "print(x[0,1])\n",
        "#indexing 1 baris\n",
        "print(x[1])\n",
        "#indexing range\n",
        "print('\\n')\n",
        "print(x[1:3])\n",
        "\n",
        "#indexing matriks\n",
        "print(x[1:3, 0:2])"
      ],
      "metadata": {
        "id": "wplRfPFJuOO3",
        "colab": {
          "base_uri": "https://localhost:8080/"
        },
        "outputId": "2977a56c-d114-492e-bbf6-03e14791bc49"
      },
      "execution_count": null,
      "outputs": [
        {
          "output_type": "stream",
          "name": "stdout",
          "text": [
            "[[ 1  2  3  4]\n",
            " [ 5  6  7  8]\n",
            " [ 9 10 11 12]]\n",
            "\n",
            "\n",
            "2\n",
            "[5 6 7 8]\n",
            "\n",
            "\n",
            "[[ 5  6  7  8]\n",
            " [ 9 10 11 12]]\n",
            "[[ 5  6]\n",
            " [ 9 10]]\n"
          ]
        }
      ]
    },
    {
      "cell_type": "code",
      "source": [
        "#Output dijadikan matriks\n",
        "\n",
        "y=np.array(x[1:3, 0:2])\n",
        "print(y)\n",
        "print(type(y))"
      ],
      "metadata": {
        "id": "XJ_1a_93w2oG",
        "colab": {
          "base_uri": "https://localhost:8080/"
        },
        "outputId": "c8b6071a-1ad8-4b4c-86a0-5bb085591270"
      },
      "execution_count": null,
      "outputs": [
        {
          "output_type": "stream",
          "name": "stdout",
          "text": [
            "[[ 5  6]\n",
            " [ 9 10]]\n",
            "<class 'numpy.ndarray'>\n"
          ]
        }
      ]
    },
    {
      "cell_type": "code",
      "source": [
        "print(x[1,0],y[0,0])"
      ],
      "metadata": {
        "id": "mD7VZ-QixWlD",
        "colab": {
          "base_uri": "https://localhost:8080/"
        },
        "outputId": "c269906d-171f-41cf-ebbf-dc4a08313b6e"
      },
      "execution_count": null,
      "outputs": [
        {
          "output_type": "stream",
          "name": "stdout",
          "text": [
            "5 5\n"
          ]
        }
      ]
    },
    {
      "cell_type": "code",
      "source": [
        "y[0,0]=55\n",
        "print(x)\n",
        "print(y)"
      ],
      "metadata": {
        "id": "AEyikhF4yLuQ",
        "colab": {
          "base_uri": "https://localhost:8080/"
        },
        "outputId": "9015ca77-eda3-4ffb-de98-778d2e5cc938"
      },
      "execution_count": null,
      "outputs": [
        {
          "output_type": "stream",
          "name": "stdout",
          "text": [
            "[[ 1  2  3  4]\n",
            " [ 5  6  7  8]\n",
            " [ 9 10 11 12]]\n",
            "[[55  6]\n",
            " [ 9 10]]\n"
          ]
        }
      ]
    },
    {
      "cell_type": "code",
      "source": [
        "row_1=x[1, :] #titik dua merepresentasikan  ambil seluruh nilai di baris\n",
        "\n",
        "print(row_1)\n",
        "print(row_1.ndim)\n",
        "print(row_1.shape)"
      ],
      "metadata": {
        "id": "RsK1aKAPzIeT",
        "colab": {
          "base_uri": "https://localhost:8080/"
        },
        "outputId": "7e31a3fc-7ded-4054-a520-fda91a317e0c"
      },
      "execution_count": null,
      "outputs": [
        {
          "output_type": "stream",
          "name": "stdout",
          "text": [
            "[5 6 7 8]\n",
            "1\n",
            "(4,)\n"
          ]
        }
      ]
    },
    {
      "cell_type": "code",
      "source": [],
      "metadata": {
        "id": "2HuhoPWCzyud"
      },
      "execution_count": null,
      "outputs": []
    },
    {
      "cell_type": "code",
      "source": [
        "row_2=x[1:2, :]\n",
        "print(row_2)\n",
        "print(row_2.ndim)\n",
        "print(row_2.shape)"
      ],
      "metadata": {
        "id": "0NJi63yXzmzu",
        "colab": {
          "base_uri": "https://localhost:8080/"
        },
        "outputId": "00a9e1c8-3968-4d31-961e-ff0b651c69a8"
      },
      "execution_count": null,
      "outputs": [
        {
          "output_type": "stream",
          "name": "stdout",
          "text": [
            "[[5 6 7 8]]\n",
            "2\n",
            "(1, 4)\n"
          ]
        }
      ]
    },
    {
      "cell_type": "code",
      "source": [
        "h=np.array([[1,2],[3,4],[5,6]])\n",
        "print(h)\n"
      ],
      "metadata": {
        "id": "32w_KDv70K87",
        "colab": {
          "base_uri": "https://localhost:8080/"
        },
        "outputId": "d3d993a0-494f-4d15-8688-8e9575902ec0"
      },
      "execution_count": null,
      "outputs": [
        {
          "output_type": "stream",
          "name": "stdout",
          "text": [
            "[[1 2]\n",
            " [3 4]\n",
            " [5 6]]\n"
          ]
        }
      ]
    },
    {
      "cell_type": "code",
      "source": [
        "print(h[0,0])\n",
        "print(h[1,1])\n",
        "print(h[2,0])\n",
        "\n",
        "print(np.array([[1,2],[3,4],[5,6]]))\n"
      ],
      "metadata": {
        "id": "iJ5RzUlA0k6W",
        "colab": {
          "base_uri": "https://localhost:8080/"
        },
        "outputId": "c695fdb2-d9d6-4bd9-bcbd-7a11fe5ce848"
      },
      "execution_count": null,
      "outputs": [
        {
          "output_type": "stream",
          "name": "stdout",
          "text": [
            "1\n",
            "4\n",
            "5\n",
            "[[1 2]\n",
            " [3 4]\n",
            " [5 6]]\n"
          ]
        }
      ]
    },
    {
      "cell_type": "markdown",
      "source": [
        "##### indexing boleadn"
      ],
      "metadata": {
        "id": "aJ9iJfKE2GlU"
      }
    },
    {
      "cell_type": "code",
      "source": [
        "boolean_idx=(h>2)\n",
        "print(boolean_idx)"
      ],
      "metadata": {
        "id": "AwdHWq5w2Jgg",
        "colab": {
          "base_uri": "https://localhost:8080/"
        },
        "outputId": "7adb9561-5dcb-43f5-d7e4-634791aa4276"
      },
      "execution_count": null,
      "outputs": [
        {
          "output_type": "stream",
          "name": "stdout",
          "text": [
            "[[False False]\n",
            " [ True  True]\n",
            " [ True  True]]\n"
          ]
        }
      ]
    },
    {
      "cell_type": "code",
      "source": [
        "m=h[h>2]\n",
        "print(m)\n",
        "print(m.ndim)\n",
        "print(type(m))"
      ],
      "metadata": {
        "id": "ZYEm5pMA2em9",
        "colab": {
          "base_uri": "https://localhost:8080/"
        },
        "outputId": "e8ccbe92-5f55-4ea4-b597-f05fa0b8085b"
      },
      "execution_count": null,
      "outputs": [
        {
          "output_type": "stream",
          "name": "stdout",
          "text": [
            "[3 4 5 6]\n",
            "1\n",
            "<class 'numpy.ndarray'>\n"
          ]
        }
      ]
    },
    {
      "cell_type": "markdown",
      "source": [
        "##### Numpy Math"
      ],
      "metadata": {
        "id": "G9iqBS853Ckc"
      }
    },
    {
      "cell_type": "code",
      "source": [
        "s=np.array([1,2])\n",
        "print(s)\n",
        "print(type(s)) #ngecek tipe data dari variable s\n",
        "print(s.dtype) #ngecek tipe dari elemen2 yang ada di variable"
      ],
      "metadata": {
        "id": "IhY8RKuJ3FGj",
        "colab": {
          "base_uri": "https://localhost:8080/"
        },
        "outputId": "fca7ee86-99f4-4c86-ea0f-6195ac7d8af4"
      },
      "execution_count": null,
      "outputs": [
        {
          "output_type": "stream",
          "name": "stdout",
          "text": [
            "[1 2]\n",
            "<class 'numpy.ndarray'>\n",
            "int64\n"
          ]
        }
      ]
    },
    {
      "cell_type": "code",
      "source": [
        "t=np.array([1,2.0])\n",
        "print(t)\n",
        "print(type(t)) #ngecek tipe data dari variable s\n",
        "print(t.dtype) #ngecek tipe dari elemen2 yang ada di variable"
      ],
      "metadata": {
        "id": "0UqpRNX-4Aj8",
        "colab": {
          "base_uri": "https://localhost:8080/"
        },
        "outputId": "9df1adc5-8e09-438d-b84a-6d876d875d7a"
      },
      "execution_count": null,
      "outputs": [
        {
          "output_type": "stream",
          "name": "stdout",
          "text": [
            "[1. 2.]\n",
            "<class 'numpy.ndarray'>\n",
            "float64\n"
          ]
        }
      ]
    },
    {
      "cell_type": "code",
      "source": [
        "u=np.array([1.0,2,3.6],dtype=np.int64)\n",
        "print(u)\n",
        "print(type(u)) #ngecek tipe data dari variable s\n",
        "print(u.dtype) #ngecek tipe dari elemen2 yang ada di variable"
      ],
      "metadata": {
        "id": "E9xVCv8p4LUT",
        "colab": {
          "base_uri": "https://localhost:8080/"
        },
        "outputId": "4cce6fb8-02f4-4e67-f4ed-fb6dd8fbe083"
      },
      "execution_count": null,
      "outputs": [
        {
          "output_type": "stream",
          "name": "stdout",
          "text": [
            "[1 2 3]\n",
            "<class 'numpy.ndarray'>\n",
            "int64\n"
          ]
        }
      ]
    },
    {
      "cell_type": "code",
      "source": [
        "x1=np.array([[1,2],[3,4]],dtype=np.float64)\n",
        "y1=np.array([[5,5],[7,6]],dtype=np.float64)\n",
        "print(x1)\n",
        "print(y1)\n"
      ],
      "metadata": {
        "id": "gWmOaJam40JS",
        "colab": {
          "base_uri": "https://localhost:8080/"
        },
        "outputId": "a414feac-03e1-4b40-d25c-ea88e5a2fa3f"
      },
      "execution_count": null,
      "outputs": [
        {
          "output_type": "stream",
          "name": "stdout",
          "text": [
            "[[1. 2.]\n",
            " [3. 4.]]\n",
            "[[5. 5.]\n",
            " [7. 6.]]\n"
          ]
        }
      ]
    },
    {
      "cell_type": "code",
      "source": [
        "# penjumlahan\n",
        "print(x1+y1)\n",
        "print(np.add(x1,y1))"
      ],
      "metadata": {
        "id": "nrhuwf_85RPu",
        "colab": {
          "base_uri": "https://localhost:8080/"
        },
        "outputId": "ac4d600e-5280-4ddf-b221-b65eb0ff4a49"
      },
      "execution_count": null,
      "outputs": [
        {
          "output_type": "stream",
          "name": "stdout",
          "text": [
            "[[ 6.  7.]\n",
            " [10. 10.]]\n",
            "[[ 6.  7.]\n",
            " [10. 10.]]\n"
          ]
        }
      ]
    },
    {
      "cell_type": "code",
      "source": [
        "#pengurangan\n",
        "print(x1-y1)\n",
        "print(np.subtract(x1,y1))\n"
      ],
      "metadata": {
        "id": "-MMsV53E5gnj",
        "colab": {
          "base_uri": "https://localhost:8080/"
        },
        "outputId": "3cb5682b-f4d5-4d61-9b3c-b4b0c8db5000"
      },
      "execution_count": null,
      "outputs": [
        {
          "output_type": "stream",
          "name": "stdout",
          "text": [
            "[[-4. -3.]\n",
            " [-4. -2.]]\n",
            "[[-4. -3.]\n",
            " [-4. -2.]]\n"
          ]
        }
      ]
    },
    {
      "cell_type": "code",
      "source": [
        "#perkalian\n",
        "print(x1)\n",
        "print(y1)\n",
        "print(x1*y1)"
      ],
      "metadata": {
        "id": "f1UiD4o15xnr",
        "colab": {
          "base_uri": "https://localhost:8080/"
        },
        "outputId": "68bdb385-aaed-4230-c745-2d99c5d9cf17"
      },
      "execution_count": null,
      "outputs": [
        {
          "output_type": "stream",
          "name": "stdout",
          "text": [
            "[[1. 2.]\n",
            " [3. 4.]]\n",
            "[[5. 5.]\n",
            " [7. 6.]]\n",
            "[[ 5. 10.]\n",
            " [21. 24.]]\n"
          ]
        }
      ]
    },
    {
      "cell_type": "code",
      "source": [
        "print(np.dot(x1,y1))"
      ],
      "metadata": {
        "id": "oHjyxcAu6JuD",
        "colab": {
          "base_uri": "https://localhost:8080/"
        },
        "outputId": "809cb66c-adb7-47fb-995a-ef9c0076c711"
      },
      "execution_count": null,
      "outputs": [
        {
          "output_type": "stream",
          "name": "stdout",
          "text": [
            "[[19. 17.]\n",
            " [43. 39.]]\n"
          ]
        }
      ]
    },
    {
      "cell_type": "code",
      "source": [
        "#akar\n",
        "print(np.sqrt(x1))"
      ],
      "metadata": {
        "id": "7EWB-90P6qbK",
        "colab": {
          "base_uri": "https://localhost:8080/"
        },
        "outputId": "8b6a2663-27b3-4890-c4a4-6177eaf9168e"
      },
      "execution_count": null,
      "outputs": [
        {
          "output_type": "stream",
          "name": "stdout",
          "text": [
            "[[1.         1.41421356]\n",
            " [1.73205081 2.        ]]\n"
          ]
        }
      ]
    },
    {
      "cell_type": "code",
      "source": [
        "print(np.array(x1**2))\n",
        "print(np.dot(x1,x1))"
      ],
      "metadata": {
        "id": "8PrJpAgm7cy-",
        "colab": {
          "base_uri": "https://localhost:8080/"
        },
        "outputId": "f34d68b1-4d1e-4e28-8536-28531af8250f"
      },
      "execution_count": null,
      "outputs": [
        {
          "output_type": "stream",
          "name": "stdout",
          "text": [
            "[[ 1.  4.]\n",
            " [ 9. 16.]]\n",
            "[[ 7. 10.]\n",
            " [15. 22.]]\n"
          ]
        }
      ]
    },
    {
      "cell_type": "markdown",
      "source": [
        "#Day 9\n"
      ],
      "metadata": {
        "id": "YdqtdeOO75fZ"
      }
    },
    {
      "cell_type": "markdown",
      "source": [
        "##lest Practic"
      ],
      "metadata": {
        "id": "G2r0pKWh771K"
      }
    },
    {
      "cell_type": "markdown",
      "source": [
        "###Pandas\n"
      ],
      "metadata": {
        "id": "kvgbdFNV79bK"
      }
    },
    {
      "cell_type": "markdown",
      "source": [
        "**Create Data** - We begin by creating our own data set for analysis. This prevents the end user reading this tutorial from having to download any files to replicate the results below. We will export this data set to a text file so that you can get some experience pulling data from a text file\n",
        "**Get Data** - We will learn how to read in the text file. The data consist of baby names and the number of baby names born in the year 1880.  \n",
        "**Prepare Data** - Here we will simply take a look at the data and make sure it is clean. By clean I mean we will take a look inside the contents of the text file and look for any anomalities. These can include missing data, inconsistencies in the data, or any other data that seems out of place. If any are found we will then have to make decisions on what to do with these records.\n",
        "**Analyze Data** - We will simply find the most popular name in a specific year.  \n",
        "**Present Data** - Through tabular data and a graph, clearly show the end user what is the most popular name in a specific year."
      ],
      "metadata": {
        "id": "1LfHxh1H8Cfa"
      }
    },
    {
      "cell_type": "code",
      "source": [
        "import pandas as pd"
      ],
      "metadata": {
        "id": "YY4yT_KDsTL1"
      },
      "execution_count": null,
      "outputs": []
    },
    {
      "cell_type": "code",
      "source": [
        "#membuat data berupa banyak penggunaan sebuah nama di indonesia\n",
        "\n",
        "nama = ['putra','gema','nusa','bangsa','negara','indonesia']\n",
        "jumlah_nama = [998,756,531, 870, 349, 211]"
      ],
      "metadata": {
        "id": "k_6SLJposbWe"
      },
      "execution_count": null,
      "outputs": []
    },
    {
      "cell_type": "code",
      "source": [
        "dataset=list(zip(nama,jumlah_nama)) #memasangkan 2 variable list\n",
        "print(dataset)"
      ],
      "metadata": {
        "colab": {
          "base_uri": "https://localhost:8080/"
        },
        "id": "a-I55LYctBjH",
        "outputId": "916fdc34-df09-43d3-f428-16efcac178eb"
      },
      "execution_count": null,
      "outputs": [
        {
          "output_type": "stream",
          "name": "stdout",
          "text": [
            "[('putra', 998), ('gema', 756), ('nusa', 531), ('bangsa', 870), ('negara', 349), ('indonesia', 211)]\n"
          ]
        }
      ]
    },
    {
      "cell_type": "code",
      "source": [
        "data = pd.DataFrame(data= dataset, columns=['nama','jumlah_nama'])\n",
        "data"
      ],
      "metadata": {
        "colab": {
          "base_uri": "https://localhost:8080/",
          "height": 237
        },
        "id": "ltLwJBEOtf4D",
        "outputId": "4726be18-ac41-4523-e2d2-bacde1c52013"
      },
      "execution_count": null,
      "outputs": [
        {
          "output_type": "execute_result",
          "data": {
            "text/plain": [
              "        nama  jumlah_nama\n",
              "0      putra          998\n",
              "1       gema          756\n",
              "2       nusa          531\n",
              "3     bangsa          870\n",
              "4     negara          349\n",
              "5  indonesia          211"
            ],
            "text/html": [
              "\n",
              "  <div id=\"df-6e0a622f-e32a-45a3-a3cc-39075ac357e0\" class=\"colab-df-container\">\n",
              "    <div>\n",
              "<style scoped>\n",
              "    .dataframe tbody tr th:only-of-type {\n",
              "        vertical-align: middle;\n",
              "    }\n",
              "\n",
              "    .dataframe tbody tr th {\n",
              "        vertical-align: top;\n",
              "    }\n",
              "\n",
              "    .dataframe thead th {\n",
              "        text-align: right;\n",
              "    }\n",
              "</style>\n",
              "<table border=\"1\" class=\"dataframe\">\n",
              "  <thead>\n",
              "    <tr style=\"text-align: right;\">\n",
              "      <th></th>\n",
              "      <th>nama</th>\n",
              "      <th>jumlah_nama</th>\n",
              "    </tr>\n",
              "  </thead>\n",
              "  <tbody>\n",
              "    <tr>\n",
              "      <th>0</th>\n",
              "      <td>putra</td>\n",
              "      <td>998</td>\n",
              "    </tr>\n",
              "    <tr>\n",
              "      <th>1</th>\n",
              "      <td>gema</td>\n",
              "      <td>756</td>\n",
              "    </tr>\n",
              "    <tr>\n",
              "      <th>2</th>\n",
              "      <td>nusa</td>\n",
              "      <td>531</td>\n",
              "    </tr>\n",
              "    <tr>\n",
              "      <th>3</th>\n",
              "      <td>bangsa</td>\n",
              "      <td>870</td>\n",
              "    </tr>\n",
              "    <tr>\n",
              "      <th>4</th>\n",
              "      <td>negara</td>\n",
              "      <td>349</td>\n",
              "    </tr>\n",
              "    <tr>\n",
              "      <th>5</th>\n",
              "      <td>indonesia</td>\n",
              "      <td>211</td>\n",
              "    </tr>\n",
              "  </tbody>\n",
              "</table>\n",
              "</div>\n",
              "    <div class=\"colab-df-buttons\">\n",
              "\n",
              "  <div class=\"colab-df-container\">\n",
              "    <button class=\"colab-df-convert\" onclick=\"convertToInteractive('df-6e0a622f-e32a-45a3-a3cc-39075ac357e0')\"\n",
              "            title=\"Convert this dataframe to an interactive table.\"\n",
              "            style=\"display:none;\">\n",
              "\n",
              "  <svg xmlns=\"http://www.w3.org/2000/svg\" height=\"24px\" viewBox=\"0 -960 960 960\">\n",
              "    <path d=\"M120-120v-720h720v720H120Zm60-500h600v-160H180v160Zm220 220h160v-160H400v160Zm0 220h160v-160H400v160ZM180-400h160v-160H180v160Zm440 0h160v-160H620v160ZM180-180h160v-160H180v160Zm440 0h160v-160H620v160Z\"/>\n",
              "  </svg>\n",
              "    </button>\n",
              "\n",
              "  <style>\n",
              "    .colab-df-container {\n",
              "      display:flex;\n",
              "      gap: 12px;\n",
              "    }\n",
              "\n",
              "    .colab-df-convert {\n",
              "      background-color: #E8F0FE;\n",
              "      border: none;\n",
              "      border-radius: 50%;\n",
              "      cursor: pointer;\n",
              "      display: none;\n",
              "      fill: #1967D2;\n",
              "      height: 32px;\n",
              "      padding: 0 0 0 0;\n",
              "      width: 32px;\n",
              "    }\n",
              "\n",
              "    .colab-df-convert:hover {\n",
              "      background-color: #E2EBFA;\n",
              "      box-shadow: 0px 1px 2px rgba(60, 64, 67, 0.3), 0px 1px 3px 1px rgba(60, 64, 67, 0.15);\n",
              "      fill: #174EA6;\n",
              "    }\n",
              "\n",
              "    .colab-df-buttons div {\n",
              "      margin-bottom: 4px;\n",
              "    }\n",
              "\n",
              "    [theme=dark] .colab-df-convert {\n",
              "      background-color: #3B4455;\n",
              "      fill: #D2E3FC;\n",
              "    }\n",
              "\n",
              "    [theme=dark] .colab-df-convert:hover {\n",
              "      background-color: #434B5C;\n",
              "      box-shadow: 0px 1px 3px 1px rgba(0, 0, 0, 0.15);\n",
              "      filter: drop-shadow(0px 1px 2px rgba(0, 0, 0, 0.3));\n",
              "      fill: #FFFFFF;\n",
              "    }\n",
              "  </style>\n",
              "\n",
              "    <script>\n",
              "      const buttonEl =\n",
              "        document.querySelector('#df-6e0a622f-e32a-45a3-a3cc-39075ac357e0 button.colab-df-convert');\n",
              "      buttonEl.style.display =\n",
              "        google.colab.kernel.accessAllowed ? 'block' : 'none';\n",
              "\n",
              "      async function convertToInteractive(key) {\n",
              "        const element = document.querySelector('#df-6e0a622f-e32a-45a3-a3cc-39075ac357e0');\n",
              "        const dataTable =\n",
              "          await google.colab.kernel.invokeFunction('convertToInteractive',\n",
              "                                                    [key], {});\n",
              "        if (!dataTable) return;\n",
              "\n",
              "        const docLinkHtml = 'Like what you see? Visit the ' +\n",
              "          '<a target=\"_blank\" href=https://colab.research.google.com/notebooks/data_table.ipynb>data table notebook</a>'\n",
              "          + ' to learn more about interactive tables.';\n",
              "        element.innerHTML = '';\n",
              "        dataTable['output_type'] = 'display_data';\n",
              "        await google.colab.output.renderOutput(dataTable, element);\n",
              "        const docLink = document.createElement('div');\n",
              "        docLink.innerHTML = docLinkHtml;\n",
              "        element.appendChild(docLink);\n",
              "      }\n",
              "    </script>\n",
              "  </div>\n",
              "\n",
              "\n",
              "<div id=\"df-6d41a69a-ad28-46d2-8c0b-b192900ada22\">\n",
              "  <button class=\"colab-df-quickchart\" onclick=\"quickchart('df-6d41a69a-ad28-46d2-8c0b-b192900ada22')\"\n",
              "            title=\"Suggest charts\"\n",
              "            style=\"display:none;\">\n",
              "\n",
              "<svg xmlns=\"http://www.w3.org/2000/svg\" height=\"24px\"viewBox=\"0 0 24 24\"\n",
              "     width=\"24px\">\n",
              "    <g>\n",
              "        <path d=\"M19 3H5c-1.1 0-2 .9-2 2v14c0 1.1.9 2 2 2h14c1.1 0 2-.9 2-2V5c0-1.1-.9-2-2-2zM9 17H7v-7h2v7zm4 0h-2V7h2v10zm4 0h-2v-4h2v4z\"/>\n",
              "    </g>\n",
              "</svg>\n",
              "  </button>\n",
              "\n",
              "<style>\n",
              "  .colab-df-quickchart {\n",
              "      --bg-color: #E8F0FE;\n",
              "      --fill-color: #1967D2;\n",
              "      --hover-bg-color: #E2EBFA;\n",
              "      --hover-fill-color: #174EA6;\n",
              "      --disabled-fill-color: #AAA;\n",
              "      --disabled-bg-color: #DDD;\n",
              "  }\n",
              "\n",
              "  [theme=dark] .colab-df-quickchart {\n",
              "      --bg-color: #3B4455;\n",
              "      --fill-color: #D2E3FC;\n",
              "      --hover-bg-color: #434B5C;\n",
              "      --hover-fill-color: #FFFFFF;\n",
              "      --disabled-bg-color: #3B4455;\n",
              "      --disabled-fill-color: #666;\n",
              "  }\n",
              "\n",
              "  .colab-df-quickchart {\n",
              "    background-color: var(--bg-color);\n",
              "    border: none;\n",
              "    border-radius: 50%;\n",
              "    cursor: pointer;\n",
              "    display: none;\n",
              "    fill: var(--fill-color);\n",
              "    height: 32px;\n",
              "    padding: 0;\n",
              "    width: 32px;\n",
              "  }\n",
              "\n",
              "  .colab-df-quickchart:hover {\n",
              "    background-color: var(--hover-bg-color);\n",
              "    box-shadow: 0 1px 2px rgba(60, 64, 67, 0.3), 0 1px 3px 1px rgba(60, 64, 67, 0.15);\n",
              "    fill: var(--button-hover-fill-color);\n",
              "  }\n",
              "\n",
              "  .colab-df-quickchart-complete:disabled,\n",
              "  .colab-df-quickchart-complete:disabled:hover {\n",
              "    background-color: var(--disabled-bg-color);\n",
              "    fill: var(--disabled-fill-color);\n",
              "    box-shadow: none;\n",
              "  }\n",
              "\n",
              "  .colab-df-spinner {\n",
              "    border: 2px solid var(--fill-color);\n",
              "    border-color: transparent;\n",
              "    border-bottom-color: var(--fill-color);\n",
              "    animation:\n",
              "      spin 1s steps(1) infinite;\n",
              "  }\n",
              "\n",
              "  @keyframes spin {\n",
              "    0% {\n",
              "      border-color: transparent;\n",
              "      border-bottom-color: var(--fill-color);\n",
              "      border-left-color: var(--fill-color);\n",
              "    }\n",
              "    20% {\n",
              "      border-color: transparent;\n",
              "      border-left-color: var(--fill-color);\n",
              "      border-top-color: var(--fill-color);\n",
              "    }\n",
              "    30% {\n",
              "      border-color: transparent;\n",
              "      border-left-color: var(--fill-color);\n",
              "      border-top-color: var(--fill-color);\n",
              "      border-right-color: var(--fill-color);\n",
              "    }\n",
              "    40% {\n",
              "      border-color: transparent;\n",
              "      border-right-color: var(--fill-color);\n",
              "      border-top-color: var(--fill-color);\n",
              "    }\n",
              "    60% {\n",
              "      border-color: transparent;\n",
              "      border-right-color: var(--fill-color);\n",
              "    }\n",
              "    80% {\n",
              "      border-color: transparent;\n",
              "      border-right-color: var(--fill-color);\n",
              "      border-bottom-color: var(--fill-color);\n",
              "    }\n",
              "    90% {\n",
              "      border-color: transparent;\n",
              "      border-bottom-color: var(--fill-color);\n",
              "    }\n",
              "  }\n",
              "</style>\n",
              "\n",
              "  <script>\n",
              "    async function quickchart(key) {\n",
              "      const quickchartButtonEl =\n",
              "        document.querySelector('#' + key + ' button');\n",
              "      quickchartButtonEl.disabled = true;  // To prevent multiple clicks.\n",
              "      quickchartButtonEl.classList.add('colab-df-spinner');\n",
              "      try {\n",
              "        const charts = await google.colab.kernel.invokeFunction(\n",
              "            'suggestCharts', [key], {});\n",
              "      } catch (error) {\n",
              "        console.error('Error during call to suggestCharts:', error);\n",
              "      }\n",
              "      quickchartButtonEl.classList.remove('colab-df-spinner');\n",
              "      quickchartButtonEl.classList.add('colab-df-quickchart-complete');\n",
              "    }\n",
              "    (() => {\n",
              "      let quickchartButtonEl =\n",
              "        document.querySelector('#df-6d41a69a-ad28-46d2-8c0b-b192900ada22 button');\n",
              "      quickchartButtonEl.style.display =\n",
              "        google.colab.kernel.accessAllowed ? 'block' : 'none';\n",
              "    })();\n",
              "  </script>\n",
              "</div>\n",
              "    </div>\n",
              "  </div>\n"
            ],
            "application/vnd.google.colaboratory.intrinsic+json": {
              "type": "dataframe",
              "variable_name": "data",
              "summary": "{\n  \"name\": \"data\",\n  \"rows\": 6,\n  \"fields\": [\n    {\n      \"column\": \"nama\",\n      \"properties\": {\n        \"dtype\": \"string\",\n        \"num_unique_values\": 6,\n        \"samples\": [\n          \"putra\",\n          \"gema\",\n          \"indonesia\"\n        ],\n        \"semantic_type\": \"\",\n        \"description\": \"\"\n      }\n    },\n    {\n      \"column\": \"jumlah_nama\",\n      \"properties\": {\n        \"dtype\": \"number\",\n        \"std\": 307,\n        \"min\": 211,\n        \"max\": 998,\n        \"num_unique_values\": 6,\n        \"samples\": [\n          998,\n          756,\n          211\n        ],\n        \"semantic_type\": \"\",\n        \"description\": \"\"\n      }\n    }\n  ]\n}"
            }
          },
          "metadata": {},
          "execution_count": 174
        }
      ]
    },
    {
      "cell_type": "code",
      "source": [
        "data.to_csv('sample_data.csv',index = False,header=False)"
      ],
      "metadata": {
        "id": "rKRDB1E2uzn1"
      },
      "execution_count": null,
      "outputs": []
    },
    {
      "cell_type": "code",
      "source": [
        "from google.colab import files\n",
        "files.download('sample_data.csv')"
      ],
      "metadata": {
        "colab": {
          "base_uri": "https://localhost:8080/",
          "height": 17
        },
        "id": "RurRIzyavIgy",
        "outputId": "6042fc01-f457-4296-ff0d-245ab4d13651"
      },
      "execution_count": null,
      "outputs": [
        {
          "output_type": "display_data",
          "data": {
            "text/plain": [
              "<IPython.core.display.Javascript object>"
            ],
            "application/javascript": [
              "\n",
              "    async function download(id, filename, size) {\n",
              "      if (!google.colab.kernel.accessAllowed) {\n",
              "        return;\n",
              "      }\n",
              "      const div = document.createElement('div');\n",
              "      const label = document.createElement('label');\n",
              "      label.textContent = `Downloading \"${filename}\": `;\n",
              "      div.appendChild(label);\n",
              "      const progress = document.createElement('progress');\n",
              "      progress.max = size;\n",
              "      div.appendChild(progress);\n",
              "      document.body.appendChild(div);\n",
              "\n",
              "      const buffers = [];\n",
              "      let downloaded = 0;\n",
              "\n",
              "      const channel = await google.colab.kernel.comms.open(id);\n",
              "      // Send a message to notify the kernel that we're ready.\n",
              "      channel.send({})\n",
              "\n",
              "      for await (const message of channel.messages) {\n",
              "        // Send a message to notify the kernel that we're ready.\n",
              "        channel.send({})\n",
              "        if (message.buffers) {\n",
              "          for (const buffer of message.buffers) {\n",
              "            buffers.push(buffer);\n",
              "            downloaded += buffer.byteLength;\n",
              "            progress.value = downloaded;\n",
              "          }\n",
              "        }\n",
              "      }\n",
              "      const blob = new Blob(buffers, {type: 'application/binary'});\n",
              "      const a = document.createElement('a');\n",
              "      a.href = window.URL.createObjectURL(blob);\n",
              "      a.download = filename;\n",
              "      div.appendChild(a);\n",
              "      a.click();\n",
              "      div.remove();\n",
              "    }\n",
              "  "
            ]
          },
          "metadata": {}
        },
        {
          "output_type": "display_data",
          "data": {
            "text/plain": [
              "<IPython.core.display.Javascript object>"
            ],
            "application/javascript": [
              "download(\"download_b375f1dd-b91a-4f74-9df5-663ab8893da6\", \"sample_data.csv\", 64)"
            ]
          },
          "metadata": {}
        }
      ]
    },
    {
      "cell_type": "markdown",
      "source": [
        "#### Get data\n"
      ],
      "metadata": {
        "id": "5pOhDw9Z9Bq_"
      }
    },
    {
      "cell_type": "markdown",
      "source": [
        "Link if you want to read more about getting data in google colaboratory: https://towardsdatascience.com/3-ways-to-load-csv-files-into-colab-7c14fcbdcb92"
      ],
      "metadata": {
        "id": "ATC7pEDs9E0P"
      }
    },
    {
      "cell_type": "code",
      "source": [
        "import os\n",
        "\n",
        "# Tentukan nama direktori yang ingin Anda buat\n",
        "nama_direktori = 'content/drive'\n",
        "\n",
        "# Buat direktori\n",
        "os.makedirs(nama_direktori, exist_ok=True)\n"
      ],
      "metadata": {
        "id": "lO3-hKj_0wXY"
      },
      "execution_count": null,
      "outputs": []
    },
    {
      "cell_type": "code",
      "source": [
        "from google.colab import drive\n",
        "drive.mount('content/drive')"
      ],
      "metadata": {
        "colab": {
          "base_uri": "https://localhost:8080/",
          "height": 304
        },
        "id": "mxFYCNw1w8B8",
        "outputId": "4de37f00-661d-4577-901f-b0e290e03ee2"
      },
      "execution_count": null,
      "outputs": [
        {
          "output_type": "error",
          "ename": "MessageError",
          "evalue": "Error: credential propagation was unsuccessful",
          "traceback": [
            "\u001b[0;31m---------------------------------------------------------------------------\u001b[0m",
            "\u001b[0;31mMessageError\u001b[0m                              Traceback (most recent call last)",
            "\u001b[0;32m<ipython-input-178-8e29cc1821a0>\u001b[0m in \u001b[0;36m<cell line: 2>\u001b[0;34m()\u001b[0m\n\u001b[1;32m      1\u001b[0m \u001b[0;32mfrom\u001b[0m \u001b[0mgoogle\u001b[0m\u001b[0;34m.\u001b[0m\u001b[0mcolab\u001b[0m \u001b[0;32mimport\u001b[0m \u001b[0mdrive\u001b[0m\u001b[0;34m\u001b[0m\u001b[0;34m\u001b[0m\u001b[0m\n\u001b[0;32m----> 2\u001b[0;31m \u001b[0mdrive\u001b[0m\u001b[0;34m.\u001b[0m\u001b[0mmount\u001b[0m\u001b[0;34m(\u001b[0m\u001b[0;34m'content/drive'\u001b[0m\u001b[0;34m)\u001b[0m\u001b[0;34m\u001b[0m\u001b[0;34m\u001b[0m\u001b[0m\n\u001b[0m",
            "\u001b[0;32m/usr/local/lib/python3.10/dist-packages/google/colab/drive.py\u001b[0m in \u001b[0;36mmount\u001b[0;34m(mountpoint, force_remount, timeout_ms, readonly)\u001b[0m\n\u001b[1;32m     98\u001b[0m \u001b[0;32mdef\u001b[0m \u001b[0mmount\u001b[0m\u001b[0;34m(\u001b[0m\u001b[0mmountpoint\u001b[0m\u001b[0;34m,\u001b[0m \u001b[0mforce_remount\u001b[0m\u001b[0;34m=\u001b[0m\u001b[0;32mFalse\u001b[0m\u001b[0;34m,\u001b[0m \u001b[0mtimeout_ms\u001b[0m\u001b[0;34m=\u001b[0m\u001b[0;36m120000\u001b[0m\u001b[0;34m,\u001b[0m \u001b[0mreadonly\u001b[0m\u001b[0;34m=\u001b[0m\u001b[0;32mFalse\u001b[0m\u001b[0;34m)\u001b[0m\u001b[0;34m:\u001b[0m\u001b[0;34m\u001b[0m\u001b[0;34m\u001b[0m\u001b[0m\n\u001b[1;32m     99\u001b[0m   \u001b[0;34m\"\"\"Mount your Google Drive at the specified mountpoint path.\"\"\"\u001b[0m\u001b[0;34m\u001b[0m\u001b[0;34m\u001b[0m\u001b[0m\n\u001b[0;32m--> 100\u001b[0;31m   return _mount(\n\u001b[0m\u001b[1;32m    101\u001b[0m       \u001b[0mmountpoint\u001b[0m\u001b[0;34m,\u001b[0m\u001b[0;34m\u001b[0m\u001b[0;34m\u001b[0m\u001b[0m\n\u001b[1;32m    102\u001b[0m       \u001b[0mforce_remount\u001b[0m\u001b[0;34m=\u001b[0m\u001b[0mforce_remount\u001b[0m\u001b[0;34m,\u001b[0m\u001b[0;34m\u001b[0m\u001b[0;34m\u001b[0m\u001b[0m\n",
            "\u001b[0;32m/usr/local/lib/python3.10/dist-packages/google/colab/drive.py\u001b[0m in \u001b[0;36m_mount\u001b[0;34m(mountpoint, force_remount, timeout_ms, ephemeral, readonly)\u001b[0m\n\u001b[1;32m    131\u001b[0m   )\n\u001b[1;32m    132\u001b[0m   \u001b[0;32mif\u001b[0m \u001b[0mephemeral\u001b[0m\u001b[0;34m:\u001b[0m\u001b[0;34m\u001b[0m\u001b[0;34m\u001b[0m\u001b[0m\n\u001b[0;32m--> 133\u001b[0;31m     _message.blocking_request(\n\u001b[0m\u001b[1;32m    134\u001b[0m         \u001b[0;34m'request_auth'\u001b[0m\u001b[0;34m,\u001b[0m \u001b[0mrequest\u001b[0m\u001b[0;34m=\u001b[0m\u001b[0;34m{\u001b[0m\u001b[0;34m'authType'\u001b[0m\u001b[0;34m:\u001b[0m \u001b[0;34m'dfs_ephemeral'\u001b[0m\u001b[0;34m}\u001b[0m\u001b[0;34m,\u001b[0m \u001b[0mtimeout_sec\u001b[0m\u001b[0;34m=\u001b[0m\u001b[0;32mNone\u001b[0m\u001b[0;34m\u001b[0m\u001b[0;34m\u001b[0m\u001b[0m\n\u001b[1;32m    135\u001b[0m     )\n",
            "\u001b[0;32m/usr/local/lib/python3.10/dist-packages/google/colab/_message.py\u001b[0m in \u001b[0;36mblocking_request\u001b[0;34m(request_type, request, timeout_sec, parent)\u001b[0m\n\u001b[1;32m    174\u001b[0m       \u001b[0mrequest_type\u001b[0m\u001b[0;34m,\u001b[0m \u001b[0mrequest\u001b[0m\u001b[0;34m,\u001b[0m \u001b[0mparent\u001b[0m\u001b[0;34m=\u001b[0m\u001b[0mparent\u001b[0m\u001b[0;34m,\u001b[0m \u001b[0mexpect_reply\u001b[0m\u001b[0;34m=\u001b[0m\u001b[0;32mTrue\u001b[0m\u001b[0;34m\u001b[0m\u001b[0;34m\u001b[0m\u001b[0m\n\u001b[1;32m    175\u001b[0m   )\n\u001b[0;32m--> 176\u001b[0;31m   \u001b[0;32mreturn\u001b[0m \u001b[0mread_reply_from_input\u001b[0m\u001b[0;34m(\u001b[0m\u001b[0mrequest_id\u001b[0m\u001b[0;34m,\u001b[0m \u001b[0mtimeout_sec\u001b[0m\u001b[0;34m)\u001b[0m\u001b[0;34m\u001b[0m\u001b[0;34m\u001b[0m\u001b[0m\n\u001b[0m",
            "\u001b[0;32m/usr/local/lib/python3.10/dist-packages/google/colab/_message.py\u001b[0m in \u001b[0;36mread_reply_from_input\u001b[0;34m(message_id, timeout_sec)\u001b[0m\n\u001b[1;32m    101\u001b[0m     ):\n\u001b[1;32m    102\u001b[0m       \u001b[0;32mif\u001b[0m \u001b[0;34m'error'\u001b[0m \u001b[0;32min\u001b[0m \u001b[0mreply\u001b[0m\u001b[0;34m:\u001b[0m\u001b[0;34m\u001b[0m\u001b[0;34m\u001b[0m\u001b[0m\n\u001b[0;32m--> 103\u001b[0;31m         \u001b[0;32mraise\u001b[0m \u001b[0mMessageError\u001b[0m\u001b[0;34m(\u001b[0m\u001b[0mreply\u001b[0m\u001b[0;34m[\u001b[0m\u001b[0;34m'error'\u001b[0m\u001b[0;34m]\u001b[0m\u001b[0;34m)\u001b[0m\u001b[0;34m\u001b[0m\u001b[0;34m\u001b[0m\u001b[0m\n\u001b[0m\u001b[1;32m    104\u001b[0m       \u001b[0;32mreturn\u001b[0m \u001b[0mreply\u001b[0m\u001b[0;34m.\u001b[0m\u001b[0mget\u001b[0m\u001b[0;34m(\u001b[0m\u001b[0;34m'data'\u001b[0m\u001b[0;34m,\u001b[0m \u001b[0;32mNone\u001b[0m\u001b[0;34m)\u001b[0m\u001b[0;34m\u001b[0m\u001b[0;34m\u001b[0m\u001b[0m\n\u001b[1;32m    105\u001b[0m \u001b[0;34m\u001b[0m\u001b[0m\n",
            "\u001b[0;31mMessageError\u001b[0m: Error: credential propagation was unsuccessful"
          ]
        }
      ]
    },
    {
      "cell_type": "code",
      "source": [
        "#mengubah directory\n",
        "%cd /content/content/drive/MyDrive/content/drive/"
      ],
      "metadata": {
        "id": "4smro9SDz6XG"
      },
      "execution_count": null,
      "outputs": []
    },
    {
      "cell_type": "code",
      "source": [
        "count_nama = pd.read_csv(r'sample_data.csv')\n",
        "count_nama"
      ],
      "metadata": {
        "id": "vQ-J_YZgz-uQ"
      },
      "execution_count": null,
      "outputs": []
    },
    {
      "cell_type": "code",
      "source": [
        "import os\n",
        "\n",
        "# Mengubah direktori\n",
        "os.chdir('/content/content/drive/MyDrive/content/drive/')\n",
        "\n",
        "# Membaca file CSV\n",
        "count_nama = pd.read_csv('sample_data.csv')\n",
        "count_nama"
      ],
      "metadata": {
        "id": "hU08JmfC3Cv8"
      },
      "execution_count": null,
      "outputs": []
    },
    {
      "cell_type": "code",
      "source": [
        "count_nama = pd.read_csv(r'sample_data.csv',header=None)\n",
        "count_nama\n"
      ],
      "metadata": {
        "id": "EIbFmc3I5AMc"
      },
      "execution_count": null,
      "outputs": []
    },
    {
      "cell_type": "code",
      "source": [
        "count_nama = pd.read_csv(r'sample_data.csv',header=None,names=['nama','jumlah_nama'])\n",
        "count_nama"
      ],
      "metadata": {
        "id": "uGq8AxKM5aTo"
      },
      "execution_count": null,
      "outputs": []
    },
    {
      "cell_type": "markdown",
      "source": [
        "####Prepare data"
      ],
      "metadata": {
        "id": "6LRKod6-8NAd"
      }
    },
    {
      "cell_type": "code",
      "source": [
        "#Cek sumary\n",
        "count_nama.info()"
      ],
      "metadata": {
        "id": "hzkc9Afp8QKU"
      },
      "execution_count": null,
      "outputs": []
    },
    {
      "cell_type": "code",
      "source": [
        "# cek tipe data untuk setiap kolom\n",
        "count_nama.dtypes"
      ],
      "metadata": {
        "id": "Rr1ALiN68j-_"
      },
      "execution_count": null,
      "outputs": []
    },
    {
      "cell_type": "code",
      "source": [
        "#cek tipe data untuk spesifik kolom\n",
        "count_nama.jumlah_nama.dtypes"
      ],
      "metadata": {
        "id": "NuQd4nop9oLy"
      },
      "execution_count": null,
      "outputs": []
    },
    {
      "cell_type": "code",
      "source": [
        "#cek ordo\n",
        "count_nama.shape"
      ],
      "metadata": {
        "id": "hYl57hru-88F"
      },
      "execution_count": null,
      "outputs": []
    },
    {
      "cell_type": "code",
      "source": [
        "#cek statistik sumary untuk kolom bertipe numerik\n",
        "count_nama.describe()"
      ],
      "metadata": {
        "id": "vFdqVinc_Nxf"
      },
      "execution_count": null,
      "outputs": []
    },
    {
      "cell_type": "markdown",
      "source": [
        "##### Analyze Data"
      ],
      "metadata": {
        "id": "AJDdhvQDAGmt"
      }
    },
    {
      "cell_type": "code",
      "source": [
        "#Melihat 3 nama dengan jumlah terbanyak\n",
        "urutan=count_nama.sort_values(['jumlah_nama'],ascending=False)\n",
        "urutan.head(3)"
      ],
      "metadata": {
        "id": "aT4HxgNGAI21"
      },
      "execution_count": null,
      "outputs": []
    },
    {
      "cell_type": "code",
      "source": [
        "count_nama['jumlah_nama'].plot.bar()"
      ],
      "metadata": {
        "id": "UHyxV6ElBlQi"
      },
      "execution_count": null,
      "outputs": []
    },
    {
      "cell_type": "markdown",
      "source": [
        "##### Present Data\n"
      ],
      "metadata": {
        "id": "LOmHKBY8Bm2q"
      }
    },
    {
      "cell_type": "code",
      "source": [
        "# General syntax to import a library but no functions:\n",
        "##import (library) as (give the library a nickname/alias)\n",
        "import matplotlib.pyplot as plt\n",
        "import pandas as pd #this is how I usually import pandas\n",
        "import sys #only needed to determine Python version number\n",
        "import matplotlib #only needed to determine Matplotlib version number\n",
        "# Create graph\n",
        "count_nama['jumlah_nama'].plot.bar()\n",
        "\n",
        "# Maximum value in the data set\n",
        "MaxValue = count_nama['jumlah_nama'].max()\n",
        "\n",
        "# Name associated with the maximum value\n",
        "MaxName = count_nama['nama'][count_nama['jumlah_nama'] == count_nama['jumlah_nama'].max()].values\n",
        "\n",
        "# Text to display on graph\n",
        "Text = str(MaxValue) + \" - \" + MaxName\n",
        "\n",
        "# Add text to graph\n",
        "plt.annotate(Text, xy=(1, MaxValue), xytext=(8, 0),\n",
        "                   xycoords=('axes fraction', 'data'), textcoords='offset points')"
      ],
      "metadata": {
        "id": "mxlOv3VHCU2_"
      },
      "execution_count": null,
      "outputs": []
    },
    {
      "cell_type": "markdown",
      "source": [],
      "metadata": {
        "id": "pJn3TEMx6WFc"
      }
    },
    {
      "cell_type": "markdown",
      "source": [
        "# Materi Tambahan"
      ],
      "metadata": {
        "id": "IprON3hT6aHs"
      }
    },
    {
      "cell_type": "markdown",
      "source": [
        "##Objective 1 - A/B Testing"
      ],
      "metadata": {
        "id": "bxBlPVDz7SsX"
      }
    },
    {
      "cell_type": "markdown",
      "source": [
        "A/B testing allows individuals, teams and companies to make careful changes to their user experiences while collecting data on the impact it makes. This allows them to construct hypotheses and to learn what elements and optimizations of their experiences impact user behavior the most."
      ],
      "metadata": {
        "id": "6q7SpK6o7WUf"
      }
    },
    {
      "cell_type": "markdown",
      "source": [
        "### Background\n",
        "\n",
        "An online news portal aims to expand its business by acquiring new subscribers. Every visitor to the website takes certain actions based on their interest. **The company plans to analyze these interests and wants to determine whether a new feature will be effective or not**.\n",
        "\n",
        "100 users are divided equally into two groups. The old landing page is served to the first group (control group) and the new landing page is served to the second group (treatment group).\n",
        "\n",
        "Various data about the customers in both groups are collected in 'abtest.csv'."
      ],
      "metadata": {
        "id": "kGji8-Bj7Y2U"
      }
    },
    {
      "cell_type": "code",
      "source": [
        "import warnings\n",
        "warnings.filterwarnings(\"ignore\")\n",
        "import numpy as np\n",
        "import pandas as pd\n",
        "import seaborn as sns\n",
        "sns.set(color_codes=True)\n",
        "import matplotlib.pyplot as plt\n",
        "%matplotlib inline\n",
        "import scipy.stats as stats"
      ],
      "metadata": {
        "id": "Tzs-MCeh7gUH"
      },
      "execution_count": null,
      "outputs": []
    },
    {
      "cell_type": "markdown",
      "source": [
        "### Data Dictionary\n",
        "\n",
        "* user_id - This represents the user ID of the person visiting the website.\n",
        "* group - This represents whether the user belongs to the first group (control) or the second group (treatment).\n",
        "* landing_page - This represents whether the landing page is new or old.\n",
        "* time_spent_on_the_page - This represents the time (in minutes) spent by the user on the landing page.\n",
        "* converted - This represents whether the user gets converted to a subscriber of the news portal or not.\n",
        "* language_preferred - This represents the language chosen by the user to view the landing page."
      ],
      "metadata": {
        "id": "cESkVBOV9IAx"
      }
    },
    {
      "cell_type": "code",
      "source": [
        "import os\n",
        "\n",
        "# Tentukan nama direktori yang ingin Anda buat\n",
        "nama_direktori = 'content/drive'\n",
        "\n",
        "# Buat direktori\n",
        "os.makedirs(nama_direktori, exist_ok=True)"
      ],
      "metadata": {
        "id": "RvCYuCRF-tgA"
      },
      "execution_count": null,
      "outputs": []
    },
    {
      "cell_type": "code",
      "source": [
        "from google.colab import drive\n",
        "drive.mount('content/drive')"
      ],
      "metadata": {
        "id": "6foUt53i9IbO"
      },
      "execution_count": null,
      "outputs": []
    },
    {
      "cell_type": "code",
      "source": [
        "#mengubah directory\n",
        "%cd /content/content/drive/MyDrive/content/drive/"
      ],
      "metadata": {
        "id": "pWUnElrw-0c1"
      },
      "execution_count": null,
      "outputs": []
    },
    {
      "cell_type": "code",
      "source": [
        "data = pd.read_csv('abtest.csv')\n",
        "data"
      ],
      "metadata": {
        "id": "jZXCl2xkDtmF"
      },
      "execution_count": null,
      "outputs": []
    },
    {
      "cell_type": "markdown",
      "source": [
        "### Exploratory Data Analysis\n",
        "\n",
        "Explore the dataset and extract insights using Exploratory Data Analysis :\n",
        "1. How many variables and records of the dataset?\n",
        "2. Is there a variable that has a blank record? if so, which variables and how many?\n",
        "3. Group the variable into the type of data\n",
        "4. Total & average time spent on the old landing page\n",
        "5. Total & average time spent on the new landing page\n",
        "6. What is the distribution of time spent on the landing page for each landing_page. which on is better?\n",
        "7. % change in conversion for new landing page vs. old landing based on user language_preferred. what do you find?\n",
        "\n",
        "**Please answer the task using python code and the result using text sel**"
      ],
      "metadata": {
        "id": "JKen_PxIGkni"
      }
    },
    {
      "cell_type": "markdown",
      "source": [
        "####Nomor 1\n",
        "\n",
        "\n",
        "```\n",
        "How many variables and records of the dataset?\n",
        "```\n",
        "\n"
      ],
      "metadata": {
        "id": "Z5sTsjOAGojx"
      }
    },
    {
      "cell_type": "code",
      "source": [
        "num_variables = len(data.columns)\n",
        "num_records = len(data)\n",
        "print(\"Number of variables:\", num_variables)\n",
        "print(\"Number of records:\", num_records)"
      ],
      "metadata": {
        "id": "i7D4xp8vGrAB"
      },
      "execution_count": null,
      "outputs": []
    },
    {
      "cell_type": "markdown",
      "source": [
        "####Nomor 2\n",
        "\n",
        "\n",
        "```\n",
        "Is there a variable that has a blank record? if so, which variables and how many?\n",
        "```\n",
        "\n"
      ],
      "metadata": {
        "id": "OLLWchycGtbl"
      }
    },
    {
      "cell_type": "code",
      "source": [
        "print(data.isnull().sum())"
      ],
      "metadata": {
        "id": "Lq_s52z7GwI4"
      },
      "execution_count": null,
      "outputs": []
    },
    {
      "cell_type": "markdown",
      "source": [
        "####Nomor 3\n",
        "\n",
        "\n",
        "```\n",
        "Group the variable into the type of data\n",
        "```\n",
        "\n"
      ],
      "metadata": {
        "id": "fmGzxPTsG0NU"
      }
    },
    {
      "cell_type": "code",
      "source": [
        "data.dtypes"
      ],
      "metadata": {
        "id": "z1KefkkNG2ws"
      },
      "execution_count": null,
      "outputs": []
    },
    {
      "cell_type": "markdown",
      "source": [
        "####Nomor 4\n",
        "\n",
        "\n",
        "```\n",
        "Total & average time spent on the old landing page\n",
        "```\n",
        "\n"
      ],
      "metadata": {
        "id": "QXPR4DL8G5rZ"
      }
    },
    {
      "cell_type": "code",
      "source": [
        "data_old = data[ data[\"landing_page\"] == \"old\" ]\n",
        "\n",
        "Total_old = str(round(data_old[\"time_spent_on_the_page\"].sum(), 2))\n",
        "Mean_old = str(round(data_old[\"time_spent_on_the_page\"].mean(), 2))\n",
        "\n",
        "print(\"Total & average time spent on the old landing page across 50 users (control group): \", \\\n",
        "      Total_old+ \" mins and\", \\\n",
        "      Mean_old+ \" mins.\")"
      ],
      "metadata": {
        "id": "mr98siw1G72-"
      },
      "execution_count": null,
      "outputs": []
    },
    {
      "cell_type": "markdown",
      "source": [
        "####Nomor 5\n",
        "\n",
        "\n",
        "```\n",
        "Total & average time spent on the new landing page\n",
        "```\n",
        "\n"
      ],
      "metadata": {
        "id": "_RFR_bhXG9nf"
      }
    },
    {
      "cell_type": "code",
      "source": [
        "data_new = data[ data[\"landing_page\"] == \"new\"]\n",
        "\n",
        "Total_new = str(round(data_new[\"time_spent_on_the_page\"].sum(), 2))\n",
        "Mean_new = str(round(data_new[\"time_spent_on_the_page\"].mean(), 2))\n",
        "\n",
        "print(\"Total & average time spent on the new landing page across 50 users (treatment group): \", \\\n",
        "      Total_new+ \" mins and\", \\\n",
        "      Mean_new+ \" mins.\")"
      ],
      "metadata": {
        "id": "vcghmpmNHGpQ"
      },
      "execution_count": null,
      "outputs": []
    },
    {
      "cell_type": "markdown",
      "source": [
        "####Nomor 6\n",
        "\n",
        "\n",
        "```\n",
        "What is the distribution of time spent on the landing page for each landing_page. which on is better?\n",
        "```\n",
        "\n"
      ],
      "metadata": {
        "id": "4UxzdQBLH98R"
      }
    },
    {
      "cell_type": "code",
      "source": [
        "fig,ax = plt.subplots(1,3, figsize=(20,5))\n",
        "\n",
        "sns.histplot(data[\"time_spent_on_the_page\"], ax=ax[0], kde = True);\n",
        "ax[0].set_ylim((0,25))\n",
        "ax[0].axvline(data[\"time_spent_on_the_page\"].mean(), c = \"r\")\n",
        "ax[0].set_title(\"Time spent on either the old or new landing page\")\n",
        "\n",
        "sns.histplot(data_old[\"time_spent_on_the_page\"], ax=ax[1], kde = True);\n",
        "ax[1].set_ylim((0,25))\n",
        "ax[1].axvline(data_old[\"time_spent_on_the_page\"].mean(), c = \"r\")\n",
        "ax[1].set_title(\"Time spent on the old landing page\")\n",
        "\n",
        "sns.histplot(data_new[\"time_spent_on_the_page\"], ax=ax[2], kde = True);\n",
        "ax[2].set_ylim((0,25))\n",
        "ax[2].axvline(data_new[\"time_spent_on_the_page\"].mean(), c = \"r\")\n",
        "ax[2].set_title(\"Time spent on the new landing page\")\n",
        "plt.show()"
      ],
      "metadata": {
        "id": "j1jY1BAMIARE"
      },
      "execution_count": null,
      "outputs": []
    },
    {
      "cell_type": "markdown",
      "source": [
        "####Nomor 7\n",
        "\n",
        "\n",
        "```\n",
        "% change in conversion for new landing page vs. old landing based on user language_preferred. what do you find?\n",
        "```\n",
        "\n"
      ],
      "metadata": {
        "id": "offJmxhxIUQM"
      }
    },
    {
      "cell_type": "code",
      "source": [
        "sns.countplot(x=\"converted\", data=data, hue=\"landing_page\");\n",
        "plt.show()\n",
        "\n",
        "print(\"% converted - old landing page: \", \\\n",
        "      str((data_old[data[\"converted\"]==\"yes\"].count()[\"group\"]/50)*100)+\"%\" )\n",
        "\n",
        "print(\"% converted - new landing page: \", \\\n",
        "      str((data_new[data[\"converted\"]==\"yes\"].count()[\"group\"]/50)*100)+\"%\" )"
      ],
      "metadata": {
        "id": "e6EeOWTbIWNQ"
      },
      "execution_count": null,
      "outputs": []
    },
    {
      "cell_type": "code",
      "source": [
        "fig,ax = plt.subplots(1,3, figsize=(20,7))\n",
        "\n",
        "sns.countplot(x=\"language_preferred\", data=data.sort_values(\"language_preferred\", ascending = True), \\\n",
        "              hue=\"converted\", ax=ax[0]);\n",
        "ax[0].set_ylim((0,25))\n",
        "ax[0].set_title(\"Conversion rate\")\n",
        "\n",
        "sns.countplot(x=\"language_preferred\", data=data_old.sort_values(\"language_preferred\", ascending = True), \\\n",
        "              hue=\"converted\", ax=ax[1]);\n",
        "ax[1].set_ylim((0,25))\n",
        "ax[1].set_title(\"Conversion rate - old landing page\")\n",
        "\n",
        "sns.countplot(x=\"language_preferred\", data=data_new.sort_values(\"language_preferred\", ascending = True), \\\n",
        "              hue=\"converted\", ax=ax[2]);\n",
        "ax[2].set_ylim((0,25))\n",
        "ax[2].set_title(\"Conversion rate - new landing page\")\n",
        "\n",
        "plt.show()"
      ],
      "metadata": {
        "id": "lM_hzX9vIZQT"
      },
      "execution_count": null,
      "outputs": []
    },
    {
      "cell_type": "code",
      "source": [
        "print(\"Number of users that prefer English, French and Spanish in the dataset are\",  \\\n",
        "      str(data.groupby(\"language_preferred\").count()[\"user_id\"][\"English\"])+\",\", \\\n",
        "      str(data.groupby(\"language_preferred\").count()[\"user_id\"][\"French\"])+\", and\", \\\n",
        "      str(data.groupby(\"language_preferred\").count()[\"user_id\"][\"Spanish\"])+\".\" +\"\\n\")"
      ],
      "metadata": {
        "id": "-zwSdY3kIbv4"
      },
      "execution_count": null,
      "outputs": []
    },
    {
      "cell_type": "code",
      "source": [
        "data_new_converted = data_new[data[\"converted\"]==\"yes\"]\n",
        "data_old_converted = data_old[data[\"converted\"]==\"yes\"]\n",
        "\n",
        "print(\"% change in converted - new landing page vs old landing page:\")\n",
        "\n",
        "print(round(100*(data_new_converted.groupby(\"language_preferred\").count()[\"user_id\"] \\\n",
        "    - data_old_converted.groupby(\"language_preferred\").count()[\"user_id\"])/data_new_converted.groupby \\\n",
        "(\"language_preferred\").count()[\"user_id\"], 2))"
      ],
      "metadata": {
        "id": "XLihoTN9Idt8"
      },
      "execution_count": null,
      "outputs": []
    },
    {
      "cell_type": "markdown",
      "source": [
        "* There are approximately equal number of English, French and Spanish preferring users (32, 34 and 34) in the dataset.\n",
        "* % change in conversion for new landing page vs. old landing page is -10% for english. This means users that prefer English, converted marginally more when on the older landing page.\n",
        "* % change in conversion for new landing page vs. old is 75% for French and 36.36% for Spanish. Users that prefer these languages, hence, converted more when on the new landing page. Conversion on the new landing page is very strong among users prefering French."
      ],
      "metadata": {
        "id": "F8rhUqV7Ig1w"
      }
    },
    {
      "cell_type": "markdown",
      "source": [
        "##Objective 2"
      ],
      "metadata": {
        "id": "rbYz43EXIjP6"
      }
    },
    {
      "cell_type": "markdown",
      "source": [
        "### No 1 - Do the users spend more time on the new landing page than the old landing page?"
      ],
      "metadata": {
        "id": "lPBK3CpIIl17"
      }
    },
    {
      "cell_type": "markdown",
      "source": [
        "* H0 : Null Hypothesis - The mean time spent on the new landing page is the same as the mean time spent on the old landing page.\n",
        "* H1 : Alternate Hypothesis - The mean time spent on the new landing page is higher than the mean time spent on the old landing page.\n",
        "Let μ1 and μ2 be the mean times spent on the new and old landing pages.\n",
        "\n",
        "H0 : μ1 = μ2\n",
        "H1 : μ1 > μ2\n",
        "\n",
        "level of significance = 5%"
      ],
      "metadata": {
        "id": "qRfFbVGOInpP"
      }
    },
    {
      "cell_type": "code",
      "source": [
        "μ1, μ2 = data_new[\"time_spent_on_the_page\"].mean() , data_old[\"time_spent_on_the_page\"].mean()\n",
        "std1, std2 = data_new[\"time_spent_on_the_page\"].std() , data_old[\"time_spent_on_the_page\"].std()\n",
        "print(\"μ1, μ2, std1, std2:\", str(round(μ1,2))+\",\", str(round(μ2,2))+\",\", str(round(std1,2))+\",\"\\\n",
        "      , str(round(std2,2))+\".\")"
      ],
      "metadata": {
        "id": "YdSF3BiNIpSa"
      },
      "execution_count": null,
      "outputs": []
    },
    {
      "cell_type": "markdown",
      "source": [
        "* Continuous data - Yes, the time spent on landing pages is measured on a continuous scale.\n",
        "* Normally distributed populations - Looking at the histogram probability density curves, as well as considering larger sample sizes of 50 (>i.e., 30), normal distribution assumption holds.\n",
        "* Independent populations - As we are taking random samples from population for two different groups, the two samples are assumed to be independent.\n",
        "* Unequal population standard deviations - As the sample standard deviations are different, the population standard deviations may be assumed to be different.\n"
      ],
      "metadata": {
        "id": "cDYrY5BGIrV1"
      }
    },
    {
      "cell_type": "markdown",
      "source": [
        "Two Independent Sample T-test for Equality of Means - Unequal Std Dev"
      ],
      "metadata": {
        "id": "St93OS4HItrT"
      }
    },
    {
      "cell_type": "code",
      "source": [
        "from scipy.stats import ttest_ind\n",
        "\n",
        "test_stat, p_value = ttest_ind(data_new[\"time_spent_on_the_page\"], data_old[\"time_spent_on_the_page\"], \\\n",
        "                     equal_var = False, alternative = 'greater')\n",
        "print('The p-value is ', p_value)"
      ],
      "metadata": {
        "id": "y6FicIMYIu40"
      },
      "execution_count": null,
      "outputs": []
    },
    {
      "cell_type": "markdown",
      "source": [
        "Insight:\n",
        "* As the p-value (~0.00014) is less than the level of significance(0.05), we can reject the null hypothesis. Hence, we do have enough evidence to support the claim that mean time spent on the new landing page is higher than mean time spent on the old landing page."
      ],
      "metadata": {
        "id": "YkaWp7BKIwgZ"
      }
    },
    {
      "cell_type": "markdown",
      "source": [
        "###No 2 -  Is the conversion rate (the proportion of users who visit the landing page and get converted) for the new page greater than the conversion rate for the old page?"
      ],
      "metadata": {
        "id": "7ql6CVltIyPo"
      }
    },
    {
      "cell_type": "markdown",
      "source": [
        "* H0 : Null Hypothesis - The conversion rate (the proportion of users who visit the landing page and get converted) for the new page is the same as the conversion rate for the old page.\n",
        "* H1 : Alternate Hypothesis - The conversion rate for the new page is greater than the conversion rate for the old page.\n",
        "\n",
        "Let p1 and p2 be the conversion rates for the new and old landing pages.\n",
        "\n",
        "* H0 : p1 = p2\n",
        "* H1 : p1 > p2\n",
        "\n",
        "\n",
        "level of significance = 5%\n",
        "\n",
        "The formulated hypotheses are concerned with proportions. A test of proportions can be used to analyse the hypotheses and draw a conclusion. We shall use a Proportions Z test for this problem."
      ],
      "metadata": {
        "id": "RKCvwPlgI0LY"
      }
    },
    {
      "cell_type": "code",
      "source": [
        "convertedn_new = float(data_new[data[\"converted\"]==\"yes\"].count()[\"group\"])\n",
        "p1 = float(round(convertedn_new/50, 2))\n",
        "convertedn_old = float(data_old[data[\"converted\"]==\"yes\"].count()[\"group\"])\n",
        "p2 = float(round(convertedn_old/50, 2))\n",
        "\n",
        "print(f'The conversion rates for new landing page and old landing page are {p1} and {p2} respectively.')"
      ],
      "metadata": {
        "id": "4ObB7JXaI3KU"
      },
      "execution_count": null,
      "outputs": []
    },
    {
      "cell_type": "markdown",
      "source": [
        "The proportions in the sample are larger for the new landing page. Let's conduct the test to see if this is significant"
      ],
      "metadata": {
        "id": "OS6PJkudI4rF"
      }
    },
    {
      "cell_type": "markdown",
      "source": [
        "Two Proportion Z-test"
      ],
      "metadata": {
        "id": "P3pliR6vI6ZE"
      }
    },
    {
      "cell_type": "code",
      "source": [
        "from statsmodels.stats.proportion import proportions_ztest\n",
        "stat, pval = proportions_ztest([convertedn_new, convertedn_old], [50, 50], alternative = 'larger')\n",
        "\n",
        "print('The p-value is '+ str(pval))"
      ],
      "metadata": {
        "id": "DVYgJWcjI8A_"
      },
      "execution_count": null,
      "outputs": []
    },
    {
      "cell_type": "markdown",
      "source": [
        "Insight:\n",
        "* As the p-value (~0.008) is less than the level of significance (0.05), we can reject the null hypothesis. Hence, we do have enough evidence to support the claim that conversion rate for the new landing page is higher than conversion rate for the old landing page."
      ],
      "metadata": {
        "id": "_Uyg4n64I-IW"
      }
    },
    {
      "cell_type": "markdown",
      "source": [
        "##Summary"
      ],
      "metadata": {
        "id": "BCCpMwSZJAQX"
      }
    },
    {
      "cell_type": "markdown",
      "source": [
        "**Exploratory Data Analysis**\n",
        "* Total (across all users) and average time spent on the new landing page (311.16 & 6.22 mins) is higher than on the old landing page (226.62 & 4.53 mins).\n",
        "* % conversion rate is higher for new landing page (66%) when compared to old landing page (42%).\n",
        "* There are apporximately equal number of English, French and Spanish preferring users (32, 34 and 34) in the dataset. % change in conversion for new landing page vs. old landing page is -10% for English, 75% for French and 36.36% for Spanish. Conversion when on the new landing page is very strong among users prefering French and marginally poor for users prefering English.\n",
        "\n",
        "**Statistical Analysis**\n",
        "\n",
        "* We statistically found enough evidence to support the claim that mean time spent on the new landing page is higher than mean time spent on the old landing page using a two independent sample T-test for equality of means - unequal std dev.\n",
        "* We statistically found enough evidence to support the claim that conversion rate for the new landing page is higher than conversion rate for the old landing page using a two proportion Z-test."
      ],
      "metadata": {
        "id": "EsLbbLiVJD5s"
      }
    }
  ]
}